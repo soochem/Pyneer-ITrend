{
 "cells": [
  {
   "cell_type": "markdown",
   "metadata": {},
   "source": [
    "# Pandas Practice by JP"
   ]
  },
  {
   "cell_type": "markdown",
   "metadata": {},
   "source": [
    "## Markdown Practice"
   ]
  },
  {
   "cell_type": "code",
   "execution_count": null,
   "metadata": {},
   "outputs": [],
   "source": [
    "import pandas as pd"
   ]
  },
  {
   "cell_type": "code",
   "execution_count": 14,
   "metadata": {},
   "outputs": [],
   "source": [
    "a = [1,2,3,4]"
   ]
  },
  {
   "cell_type": "markdown",
   "metadata": {},
   "source": [
    ". 누르고 탭 - method 부가설명\n",
    "\n",
    "shift + tab 변수 안에 들어있는 정보"
   ]
  },
  {
   "cell_type": "code",
   "execution_count": 17,
   "metadata": {},
   "outputs": [
    {
     "data": {
      "text/plain": [
       "['__add__',\n",
       " '__class__',\n",
       " '__contains__',\n",
       " '__delattr__',\n",
       " '__delitem__',\n",
       " '__dir__',\n",
       " '__doc__',\n",
       " '__eq__',\n",
       " '__format__',\n",
       " '__ge__',\n",
       " '__getattribute__',\n",
       " '__getitem__',\n",
       " '__gt__',\n",
       " '__hash__',\n",
       " '__iadd__',\n",
       " '__imul__',\n",
       " '__init__',\n",
       " '__init_subclass__',\n",
       " '__iter__',\n",
       " '__le__',\n",
       " '__len__',\n",
       " '__lt__',\n",
       " '__mul__',\n",
       " '__ne__',\n",
       " '__new__',\n",
       " '__reduce__',\n",
       " '__reduce_ex__',\n",
       " '__repr__',\n",
       " '__reversed__',\n",
       " '__rmul__',\n",
       " '__setattr__',\n",
       " '__setitem__',\n",
       " '__sizeof__',\n",
       " '__str__',\n",
       " '__subclasshook__',\n",
       " 'append',\n",
       " 'clear',\n",
       " 'copy',\n",
       " 'count',\n",
       " 'extend',\n",
       " 'index',\n",
       " 'insert',\n",
       " 'pop',\n",
       " 'remove',\n",
       " 'reverse',\n",
       " 'sort']"
      ]
     },
     "execution_count": 17,
     "metadata": {},
     "output_type": "execute_result"
    }
   ],
   "source": [
    "dir(a)"
   ]
  },
  {
   "cell_type": "markdown",
   "metadata": {},
   "source": [
    "## 크롤링을 배워보자\n",
    "\n",
    "html css js\n",
    "url\n",
    "method - get(url을 사용) post : 브라우저에서 클라이언트가 정보를 어떻게 보내는가\n",
    "\n",
    "data와 header\n",
    "F12 - ctrl+shift+c\n",
    "CSS Selection\n",
    "\n",
    "crawling 막을 때 request header - 인위적으로 바꾸어야 한다."
   ]
  },
  {
   "cell_type": "code",
   "execution_count": 18,
   "metadata": {},
   "outputs": [],
   "source": [
    "import requests #크롤링 담당\n",
    "from bs4 import BeautifulSoup as bs #파싱 담당"
   ]
  },
  {
   "cell_type": "code",
   "execution_count": 20,
   "metadata": {},
   "outputs": [],
   "source": [
    "a = requests.get('https://www.naver.com') # response"
   ]
  },
  {
   "cell_type": "code",
   "execution_count": 22,
   "metadata": {},
   "outputs": [
    {
     "data": {
      "text/plain": [
       "<Response [200]>"
      ]
     },
     "execution_count": 22,
     "metadata": {},
     "output_type": "execute_result"
    }
   ],
   "source": [
    "a  # https://ko.wikipedia.org/wiki/HTTP_%EC%83%81%ED%83%9C_%EC%BD%94%EB%93%9C"
   ]
  },
  {
   "cell_type": "code",
   "execution_count": 23,
   "metadata": {},
   "outputs": [],
   "source": [
    "doc = bs(a.text, 'html.parser')"
   ]
  },
  {
   "cell_type": "code",
   "execution_count": 24,
   "metadata": {},
   "outputs": [],
   "source": [
    "doc?"
   ]
  },
  {
   "cell_type": "code",
   "execution_count": 30,
   "metadata": {},
   "outputs": [
    {
     "data": {
      "text/plain": [
       "[<span class=\"ah_k\">디아크</span>,\n",
       " <span class=\"ah_k\">영지</span>,\n",
       " <span class=\"ah_k\">디아크 전여친 인스타</span>,\n",
       " <span class=\"ah_k\">디아크 전여친</span>,\n",
       " <span class=\"ah_k\">2018 여의도 불꽃축제</span>,\n",
       " <span class=\"ah_k\">주말드라마</span>,\n",
       " <span class=\"ah_k\">아는형님</span>,\n",
       " <span class=\"ah_k\">노건호</span>,\n",
       " <span class=\"ah_k\">큐넷</span>,\n",
       " <span class=\"ah_k\">조정석</span>,\n",
       " <span class=\"ah_k\">한국세무사회자격시험</span>,\n",
       " <span class=\"ah_k\">지호성</span>,\n",
       " <span class=\"ah_k\">롯데시네마</span>,\n",
       " <span class=\"ah_k\">2018 여의도 불꽃축제 시간</span>,\n",
       " <span class=\"ah_k\">거미 조정석</span>,\n",
       " <span class=\"ah_k\">프로야구</span>,\n",
       " <span class=\"ah_k\">혜리</span>,\n",
       " <span class=\"ah_k\">제3의 매력</span>,\n",
       " <span class=\"ah_k\">습판 사진</span>,\n",
       " <span class=\"ah_k\">부천대학교</span>,\n",
       " <span class=\"ah_k\">디아크</span>,\n",
       " <span class=\"ah_k\">영지</span>,\n",
       " <span class=\"ah_k\">디아크 전여친 인스타</span>,\n",
       " <span class=\"ah_k\">디아크 전여친</span>,\n",
       " <span class=\"ah_k\">2018 여의도 불꽃축제</span>,\n",
       " <span class=\"ah_k\">주말드라마</span>,\n",
       " <span class=\"ah_k\">아는형님</span>,\n",
       " <span class=\"ah_k\">노건호</span>,\n",
       " <span class=\"ah_k\">큐넷</span>,\n",
       " <span class=\"ah_k\">조정석</span>,\n",
       " <span class=\"ah_k\">한국세무사회자격시험</span>,\n",
       " <span class=\"ah_k\">지호성</span>,\n",
       " <span class=\"ah_k\">롯데시네마</span>,\n",
       " <span class=\"ah_k\">2018 여의도 불꽃축제 시간</span>,\n",
       " <span class=\"ah_k\">거미 조정석</span>,\n",
       " <span class=\"ah_k\">프로야구</span>,\n",
       " <span class=\"ah_k\">혜리</span>,\n",
       " <span class=\"ah_k\">제3의 매력</span>,\n",
       " <span class=\"ah_k\">습판 사진</span>,\n",
       " <span class=\"ah_k\">부천대학교</span>]"
      ]
     },
     "execution_count": 30,
     "metadata": {},
     "output_type": "execute_result"
    }
   ],
   "source": [
    "doc.select('li.ah_item > a.ah_a > span.ah_k')"
   ]
  },
  {
   "cell_type": "code",
   "execution_count": 31,
   "metadata": {},
   "outputs": [],
   "source": [
    "user_select = doc.select('li.ah_item > a.ah_a > span.ah_k')"
   ]
  },
  {
   "cell_type": "code",
   "execution_count": 34,
   "metadata": {},
   "outputs": [
    {
     "data": {
      "text/plain": [
       "'영지'"
      ]
     },
     "execution_count": 34,
     "metadata": {},
     "output_type": "execute_result"
    }
   ],
   "source": [
    "user_select[1].text"
   ]
  },
  {
   "cell_type": "markdown",
   "metadata": {},
   "source": [
    "h를 누르면 설명서가 나온다."
   ]
  }
 ],
 "metadata": {
  "kernelspec": {
   "display_name": "Python 3",
   "language": "python",
   "name": "python3"
  },
  "language_info": {
   "codemirror_mode": {
    "name": "ipython",
    "version": 3
   },
   "file_extension": ".py",
   "mimetype": "text/x-python",
   "name": "python",
   "nbconvert_exporter": "python",
   "pygments_lexer": "ipython3",
   "version": "3.6.5"
  }
 },
 "nbformat": 4,
 "nbformat_minor": 2
}
