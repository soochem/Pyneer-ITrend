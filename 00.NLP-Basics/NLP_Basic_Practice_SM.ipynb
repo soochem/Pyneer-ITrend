{
 "cells": [
  {
   "cell_type": "markdown",
   "metadata": {},
   "source": [
    "# Computer Linguistics Basic by Seo Sumin"
   ]
  },
  {
   "cell_type": "code",
   "execution_count": 27,
   "metadata": {},
   "outputs": [
    {
     "name": "stdout",
     "output_type": "stream",
     "text": [
      "showing info https://raw.githubusercontent.com/nltk/nltk_data/gh-pages/index.xml\n"
     ]
    }
   ],
   "source": [
    "# -*- coding: utf-8 -*-\n",
    "# Sumin Seo\n",
    "# Computer Linguistic Basic\n",
    "\n",
    "import nltk\n",
    "nltk.download()  # 최초 nltk book (example corpus) 다운로드 시 실행\n",
    "from nltk.stem import PorterStemmer\n",
    "from nltk.book import *"
   ]
  },
  {
   "cell_type": "markdown",
   "metadata": {},
   "source": [
    "# Python basics\n",
    "<, ==, !=\n",
    "\n",
    "functions: startswith(), endswith(), t in s, islower(), isupper(), isalpha()\n",
    "\n",
    "isalnum(), isdigit(), istitle()"
   ]
  },
  {
   "cell_type": "code",
   "execution_count": 10,
   "metadata": {},
   "outputs": [
    {
     "data": {
      "text/plain": [
       "['comfortableness',\n",
       " 'honourableness',\n",
       " 'immutableness',\n",
       " 'indispensableness',\n",
       " 'indomitableness',\n",
       " 'intolerableness',\n",
       " 'palpableness',\n",
       " 'reasonableness',\n",
       " 'uncomfortableness']"
      ]
     },
     "execution_count": 10,
     "metadata": {},
     "output_type": "execute_result"
    }
   ],
   "source": [
    "# ~으로 끝나는 text1의 모든 단어를 정렬하라\n",
    "sorted(w for w in set(text1) if w.endswith('ableness'))"
   ]
  },
  {
   "cell_type": "code",
   "execution_count": 11,
   "metadata": {},
   "outputs": [
    {
     "data": {
      "text/plain": [
       "True"
      ]
     },
     "execution_count": 11,
     "metadata": {},
     "output_type": "execute_result"
    }
   ],
   "source": [
    "# 특정 문자열로 시작하는 단어를 찾을 때\n",
    "\"start\".startswith('s')"
   ]
  },
  {
   "cell_type": "code",
   "execution_count": 12,
   "metadata": {},
   "outputs": [],
   "source": [
    "# function set()\n",
    "# 문장의 길이와 set 길이 차이를 알아보자"
   ]
  },
  {
   "cell_type": "code",
   "execution_count": 13,
   "metadata": {},
   "outputs": [
    {
     "name": "stdout",
     "output_type": "stream",
     "text": [
      "260819\n"
     ]
    }
   ],
   "source": [
    "print(len(text1))"
   ]
  },
  {
   "cell_type": "code",
   "execution_count": 14,
   "metadata": {},
   "outputs": [
    {
     "name": "stdout",
     "output_type": "stream",
     "text": [
      "17231\n"
     ]
    }
   ],
   "source": [
    "print(len(set(word.lower() for word in text1)))"
   ]
  },
  {
   "cell_type": "code",
   "execution_count": 15,
   "metadata": {},
   "outputs": [
    {
     "name": "stdout",
     "output_type": "stream",
     "text": [
      "Peter Doig\n",
      "\n",
      "by Diane Solway\n",
      "\n",
      "November 1, 2008 12:00 am\n",
      "\n",
      "\n",
      "\n",
      "Peter Doig looks out over Cyril's Bay at his home in Trinidad.\n",
      "\n",
      "To reach the house Peter Doig has built on the north coast of Trinidad, you drive from gritty Port of Spain along several miles of treacherously winding road so steep that my cabdriver has to turn off the air conditioner and shift into first gear to complete the ascent. Buffered by lush vegetation in every conceivable shade of green, the route takes you past tire shops and makeshift mango stands to a modernist concrete and wood home perched high above Cyril’s Bay. Here, surrounded by the jungle, Doig is contending with landscape as never before.\n",
      "\n",
      "One of the world’s most compelling painters and the subject of a major retrospective at Tate Britain earlier this year, Doig, 49, moved his family to Trinidad from London in 2002. For years he had resisted painting what was right in front of him, relying instead on photographs, magazine clippings, album covers and film stills as aide-memoire. While living in London, he painted landscapes drawn from his Canadian youth and visits to Trinidad: dreamlike, haunting scenes of snow, lakes, cabins and sea, often including lone characters. When London did show up on his canvas, he was living in Montreal. For the first paintings he made after relocating to Trinidad, Doig used picture postcards from India, discovered in a London shop, to help him map out the scenes he’d witnessed firsthand. “I was trying to paint it by proxy,” he says, noting that his paintings “made no attempt to reflect setting.” They were fictionalized images and ruminations “on the idea of memory,” as he puts it.\n",
      "\n",
      "But recently the restless Doig, game for change, set himself a new challenge: to interpret the world outside his door and to rely more on his imagination than on distance or photographs to help him find his way on the canvas. “Now there’s maybe a kind of fear,” says Doig, who is painting at his home studio while his Port of Spain space is being renovated. “It’s like, Whoa, how do you deal with this? How do you do justice to this? Whereas if you took photographs or sketches and went back to your warehouse in London, then you have that distance and can pick and choose what you want to do. Here I feel like I’m constantly looking for subjects right in front of me.”\n",
      "\n",
      "We’re facing the sea, standing on a wooden deck on which Doig has set up an enormous telescope, aimed at some distant spot on the horizon. Peering through, he points to an indiscernible speck. “A dory,” he announces, placing his ever-present iPhone on the top of the lens to snap a photo. (Old habits die hard.) Suddenly he directs my attention to the cawing overhead. “Vultures,” he says. He heads back inside to unwrap the speckled orange mangoes he’s purchased at the market: “Sometimes when it rains here, the cloud comes right inside the house.” That nature intrudes is both inspiration and dilemma. “I’ve been taken by surprise by this place, really,” he says, occasionally tugging on his calloused fingers as he speaks. “It confronts you, and you feel almost obliged to respond because it’s so potent.”\n",
      "\n",
      "The outdoors have always figured in Doig’s life and work: He’s an avid hockey player and expert skier who kayaks weekly looking for “the extremes of nature or incidents that most people are not privy to see,” such as the isolated island he discovered one day by boat, “with a side going up 300 feet completely white with pelican s---.” Often he’s in the company of his longtime friend Chris Ofili, the Turner Prize?winning artist who moved to Trinidad a few years after Doig did and with whom he’s planning a strenuous kayaking expedition along the island’s northern coast.\n",
      "\n",
      "Powerfully built, with closely cropped hair, gray-blue eyes and muscular forearms, Doig calls to mind Hemingway and Pollock, without the binges or mood swings. He’s been married to his wife, Bonnie, for 20 years, has five children, ages two to 16, and talks of his work with a sense of modesty and the urgent commitment of painters of an earlier era. “He grasps that if you challenge yourself as a person, it will reflect in the art you make,” says Ofili. “I think Peter wants to feel as if he is just small in the vastness of an exciting life, but he wants to be in that life rather than at the edge of it. Where his house is, you can see that he wants to be right in the middle of nature and breaking new ground.”\n",
      "\n",
      "Proof of that urge can be found in the studio above the house. Doig leads me to Maracas, a work in progress since 2002 that he’s decided to finish in time to include in his retrospective, now in Frankfurt, and in two New York solo shows opening simultaneously in January, one at the Michael Werner Gallery, the other at Gavin Brown’s Enterprise. (The gallery shows were supposed to take place last fall, but Doig canceled them at the last minute after deciding he wasn’t ready. “Being an artist isn’t a job. Running a gallery is a job,” he says, noting that artists should never make work just for the sake of selling it.) In a good year, he says, he makes about eight large paintings and about 15 smaller ones. He always works alone, without assistants, listening to one of the thousands of albums and CDs in his collection, and often makes sketches and drawings as part of his process of trial, error and serendipity. Maracas is drawn from Doig’s memory of seeing a man in Trinidad standing outside on a huge stack of totemlike speakers, which in his painting assume “a monolithic presence,” he says, the more he plays with scale and form.\n",
      "\n",
      "When I ask if Doig sees his work moving toward abstraction, he quickly replies, “I hope it’s going that way. It’s less rooted to a specific source and more about the spirit of the painting.” A case in point is his spectral Man Dressed as a Bat, 2007, which was inspired by a small sculpture of a carnival character “that looks more like an animal than it does a human dressed in a costume,” he says. But what ended up on the canvas, he adds, “was just this kind of diaphanous form...a very washy, abstract painting.”\n",
      "\n",
      "Living in Trinidad has both darkened and brightened his hallucinatory palette. “You can paint a house turquoise and orange, and it doesn’t look strange here because the light is so bright,” he says. “But when I arrived in London to install my Tate show, everything there just felt incredibly muted, almost in soft focus. Sometimes when you bring a painting from here into that environment, it can look a bit garish.”\n",
      "\n",
      "The island’s vibrant colors and light have clearly “infected” Doig’s recent work, says Tate director Sir Nicholas Serota, adding that he’d love to have Doig curate a Gauguin show for the museum. “He is taking forms and images and laying color across them in a way that makes the paintings more abstracted,” Serota says. “He connects with a tradition that goes from Gauguin through German Expressionism to Bacon to Peter Doig: It’s a tradition that is the hovering between representation and abstraction.” Observing him up close, Ofili sees “a deeper level of introspection in his approach now.”\n",
      "\n",
      "Doig had lived in Trinidad as a child and first returned in 2000, with Ofili, for an artist’s residency. “It felt familiar,” he says, particularly as his father, then an occasional painter, had collected pictures by Trinidadian artists, so even from afar, “Trinidad was always present in our house.” By the time he moved there, partly to give his family some of the childhood he’d known, he had become one of the most sought-after painters of his generation. Unlike Damien Hirst and the other Young British Artists who became overnight sensations in the early Nineties, Doig for years worked under the radar and didn’t show much until age 30, though he was widely admired by his peers. But in 2007, when his 1991 White Canoe, a nighttime scene of a canoe on a lake, was sold at Sotheby’s for $11.3 million?then an auction record for a living European artist?Doig went from being “a hero to other painters to a poster child of the excesses of the market,” says Paul Schimmel, chief curator at the Museum of Contemporary Art, Los Angeles. The price made Doig “nauseous,” says Schimmel, recalling their discussions. “As an artist you lose a little control of your own identity.” Afterward Doig made a point of telling journalists that he didn’t receive the money; the seller did. Without prompting, Doig refers to the sale, saying “the way auction houses write about paintings as masterpieces seems such an absurd way to talk about a contemporary work of art. I mean, it’s very new. A masterpiece? It was never in my mind that I was trying to create a masterpiece. It was almost anti the idea of a masterpiece.”\n",
      "\n",
      "Both familiar and strange, Doig’s pictures prompt a sense of dislocation in the viewer, which may owe something to his own rootlessness. Born in Edinburgh to Scottish parents, Doig moved to Trinidad at age two, Montreal at seven, Toronto as a teen and then to London at 19 to study at Central Saint Martins, a decision fueled by the postpunk musicians he admired who came out of art school. Doig’s father was an accountant for a shipping company; his mother, a drama teacher, and at first he considered theater design, thinking it was practical. But he quickly switched to painting, eagerly imbibing the city’s artistic scene, then centered more on nightclubs than galleries. A cinephile, he made lists of films he wanted to see and hit all the revival houses, recalling that “it was amazing the number of films you could see over the course of a year in London” at that time. He worked as a dresser at the English National Opera and appeared in an experimental film by his friend Derek Jarman, while making pictures he recalls as “cartoonlike and urban.” At a time when being a painter was highly unfashionable, Doig had little luck launching his career and moved to Montreal, where he mixed paints for a set design company and later worked on the sets for the horror flick The Amityville Curse. He tried painting the Canadian landscape from life but “felt a bit lost,” he says, and worried that he was becoming a Sunday painter. One day at his parents’ farm outside Toronto, he caught a glimpse of a girl slumped in a canoe on the television. It was a moment from Friday the 13th?which he played back in slow motion so he could photograph it. Soon he’d painted the first of many works inspired by the movie. “It was unlike anything I’d made before,” says Doig, who recently gave the work to Ofili in what he calls “an early days swap.”\n",
      "\n",
      "Nearly three years after leaving, he returned to London in 1989 as a master's student at the Chelsea College of Art and Design. The YBAs were just emerging, and swimming against the conceptualist tide, Doig entered one of the most productive periods of his career. At Chelsea he discovered the possibilities of paint, in richly textured surfaces, and how to move away from storytelling to let viewers bring something of their own to the picture. To help catalyze his memories, he sometimes went to Canada House to leaf through its library of images and made paintings that were deliberately “homely”?two deer in the forest, rural cabins glimpsed through trees. In 1991, following a few solo exhibitions, he nabbed a major show at London’s Whitechapel Art Gallery by winning an award, and in 1993 his painting Blotter, based on a staged photograph Doig had taken of his brother standing on an icy pond absorbed in his own reflection, won the prestigious John Moores Prize, the UK’s best-known contemporary painting competition. The following year Doig was nominated for the careermaking Turner Prize and landed dealers in London, New York and Berlin.\n",
      "\n",
      "Doig likes to revisit his subjects, and the lone figure in the landscape is a recurring image. “There’s a hovering darkness in some of his work,” says curator and critic Bruce Ferguson, the former dean of the School of the Arts at Columbia University, who has known Doig for several years. “At first you say, Oh, a mountain painting with a skier, and then you suddenly think, It’s such a big mountain and such a small skier. There’s a kind of existential terror around the edges.” Whitechapel director Iwona Blazwick points to the “Blair Witch feeling” in such iconic Doig paintings as 100 Years Ago, 2001, in which a bearded, long-haired man in black, modeled on Berry Oakley of the Allman Brothers, sits becalmed in a canoe in the middle of a lake. “It has the point of view you get in horror movies, where the angle of a camera can make something bucolic suddenly seem very threatening,” says Blazwick, who gave Doig his second solo show in 1986 when she ran London’s Air Gallery.\n",
      "\n",
      "100 Years Ago was inspired by Matisse’s 1908 Bathers With a Turtle, which Doig calls “one of the greatest paintings I’ve ever seen.” Hearing him describe its merits, you can’t help thinking of Doig’s own paintings: “There’s so much to look at, and yet it’s so empty and so vague in what it’s depicting,” he says. “It’s so brave in its division of space, and it constantly confuses you because you don’t know really what you’re looking at. It seems to be a constantly questioning painting and, in many ways, incomplete.”\n",
      "\n",
      "Among his own works, Figure in a Mountain Landscape, 1997?98, is a particular favorite of Doig’s. Drawn from a 1935 photograph of the Canadian artist Franklin Carmichael painting from nature, it shows the hooded Carmichael seen from behind. Beyond him is the view he is attempting to capture on his easel. “It was such a struggle,” Doig recalls. “How to make him not too warlock-like or comic.” Ofili remembers Doig calling him one night to “tell me he’d made a big breakthrough. The breakthrough is the figure becoming part of the landscape and the landscape becoming part of the figure. That for me is emblematic when I think of Peter developing his work.” His “exquisite touch,” as Schimmel refers to the way he handles paint, is another striking feature of Doig’s pictures. “You get a sense of not only what he’s painting,” he says, “but of how he’s painting.”\n",
      "\n",
      "In Trinidad Doig may be geographically isolated, but he’s no Gauguin in Tahiti. For one thing, Doig tells me, Trinidad is not quite the tropical paradise many imagine: Port of Spain is not a resort town, the seas can be rough, and violent crime is on the rise. But it’s also considered the most culturally diverse island in the Caribbean. Ofili calls it “secretive. It’s difficult to figure out what makes this place tick, and for an artist, that is something to feed off.” Doig’s Music of the Future, a brooding work showing groups of people loitering on the savannah, alludes to the island’s nocturnal culture. “I didn’t want to get into the specifics of the people,” he says. “It was more about atmosphere and the feeling of time of night.” The trap in painting Trinidad, he says, lies in exoticizing the ordinary. “You see potential subjects for paintings all the time, but then you wonder if you’re just being seduced by what’s very ordinary. So how do you find your voice here?”\n",
      "\n",
      "One way is to make himself an integral part of the local scene. A “magpie of culture,” according to Blazwick, Doig runs a film club in his studio with artist Che Lovelace, and he not only selects and screens the films?usually independent fare?but also paints the poster most weeks. It’s a project he finds liberating, he says, “because it’s much more immediate.” Still, Trinidad remains something of an experiment. “I sometimes think that maybe I won’t use these experiences or this information for another 10 years,” Doig tells me over a late lunch of fried shark sandwiches on nearby Maracas Beach. “Maybe it’s too soon. Or maybe I’ve got to become a different kind of painter. Maybe that’s what’s happening.”\n"
     ]
    }
   ],
   "source": [
    "## file load\n",
    "f = open(\"example.txt\", encoding = 'utf-8')\n",
    "for line in f.readlines():\n",
    "    print(line)\n",
    "f.close()"
   ]
  },
  {
   "cell_type": "code",
   "execution_count": 17,
   "metadata": {},
   "outputs": [
    {
     "name": "stdout",
     "output_type": "stream",
     "text": [
      "Displaying 11 of 11 matches:\n",
      "ong the former , one was of a most monstrous size . ... This came towards us , \n",
      "ON OF THE PSALMS . \" Touching that monstrous bulk of the whale or ork we have r\n",
      "ll over with a heathenish array of monstrous clubs and spears . Some were thick\n",
      "d as you gazed , and wondered what monstrous cannibal and savage could ever hav\n",
      "that has survived the flood ; most monstrous and most mountainous ! That Himmal\n",
      "they might scout at Moby Dick as a monstrous fable , or still worse and more de\n",
      "th of Radney .'\" CHAPTER 55 Of the Monstrous Pictures of Whales . I shall ere l\n",
      "ing Scenes . In connexion with the monstrous pictures of whales , I am strongly\n",
      "ere to enter upon those still more monstrous stories of them which are to be fo\n",
      "ght have been rummaged out of this monstrous cabinet there is no telling . But \n",
      "of Whale - Bones ; for Whales of a monstrous size are oftentimes cast up dead u\n"
     ]
    }
   ],
   "source": [
    "## collocation with words\n",
    "text1.concordance('monstrous')"
   ]
  },
  {
   "cell_type": "code",
   "execution_count": 18,
   "metadata": {
    "scrolled": true
   },
   "outputs": [
    {
     "name": "stdout",
     "output_type": "stream",
     "text": [
      "a_pretty am_glad a_lucky is_pretty be_glad\n"
     ]
    }
   ],
   "source": [
    "## Find contexts where the specified words can all appear; \n",
    "## and return a frequency distribution mapping each context to the number of times that context was used.\n",
    "text2.common_contexts([\"monstrous\", \"very\"])"
   ]
  },
  {
   "cell_type": "code",
   "execution_count": 26,
   "metadata": {
    "scrolled": true
   },
   "outputs": [
    {
     "name": "stdout",
     "output_type": "stream",
     "text": [
      "very so exceedingly heartily a as good great extremely remarkably\n",
      "sweet vast amazingly\n"
     ]
    }
   ],
   "source": [
    "## Get words that appear in similar contexts\n",
    "text2.similar('monstrous')"
   ]
  },
  {
   "cell_type": "markdown",
   "metadata": {},
   "source": [
    "cf. 추가 자료\n",
    "    1. https://nlpforhackers.io/introduction-nltk/\n",
    "    2. nltk 공식 사이트 : http://www.nltk.org/book/ch01.html"
   ]
  },
  {
   "cell_type": "markdown",
   "metadata": {},
   "source": [
    "# Text Normalization\n",
    "1. Segmenting(tokenizing) : token이라는 분석 가능한 단위로 쪼개는 것\n",
    "2. Normalizing\n",
    " - case folding : Mt. = mountain, USA = usa\n",
    " - lemmatization : lemma (dictionary or citation form of a word) 형태로 반환\n",
    " - stemming : given -> give, is -> be\n",
    " - cf. lemmatization과 stemming의 차이 : https://nlp.stanford.edu/IR-book/html/htmledition/stemming-and-lemmatization-1.html"
   ]
  },
  {
   "cell_type": "code",
   "execution_count": 11,
   "metadata": {},
   "outputs": [
    {
     "name": "stdout",
     "output_type": "stream",
     "text": [
      "['Peter', 'Doig', 'by', 'Diane', 'Solway', 'November', '1', ',', '2008', '12:00', 'am', 'Peter', 'Doig', 'looks', 'out', 'over', 'Cyril', \"'s\", 'Bay', 'at', 'his', 'home', 'in', 'Trinidad', '.', 'To', 'reach', 'the', 'house', 'Peter', 'Doig', 'has', 'built', 'on', 'the', 'north', 'coast', 'of', 'Trinidad', ',', 'you', 'drive', 'from', 'gritty', 'Port', 'of', 'Spain', 'along', 'several', 'miles', 'of', 'treacherously', 'winding', 'road', 'so', 'steep', 'that', 'my', 'cabdriver', 'has', 'to', 'turn', 'off', 'the', 'air', 'conditioner', 'and', 'shift', 'into', 'first', 'gear', 'to', 'complete', 'the', 'ascent', '.', 'Buffered', 'by', 'lush', 'vegetation', 'in', 'every', 'conceivable', 'shade', 'of', 'green', ',', 'the', 'route', 'takes', 'you', 'past', 'tire', 'shops', 'and', 'makeshift', 'mango', 'stands', 'to', 'a', 'modernist', 'concrete', 'and', 'wood', 'home', 'perched', 'high', 'above', 'Cyril', '’', 's', 'Bay', '.', 'Here', ',', 'surrounded', 'by', 'the', 'jungle', ',', 'Doig', 'is', 'contending', 'with', 'landscape', 'as', 'never', 'before', '.', 'One', 'of', 'the', 'world', '’', 's', 'most', 'compelling', 'painters', 'and', 'the', 'subject', 'of', 'a', 'major', 'retrospective', 'at', 'Tate', 'Britain', 'earlier', 'this', 'year', ',', 'Doig', ',', '49', ',', 'moved', 'his', 'family', 'to', 'Trinidad', 'from', 'London', 'in', '2002', '.', 'For', 'years', 'he', 'had', 'resisted', 'painting', 'what', 'was', 'right', 'in', 'front', 'of', 'him', ',', 'relying', 'instead', 'on', 'photographs', ',', 'magazine', 'clippings', ',', 'album', 'covers', 'and', 'film', 'stills', 'as', 'aide-memoire', '.', 'While', 'living', 'in', 'London', ',', 'he', 'painted', 'landscapes', 'drawn', 'from', 'his', 'Canadian', 'youth', 'and', 'visits', 'to', 'Trinidad', ':', 'dreamlike', ',', 'haunting', 'scenes', 'of', 'snow', ',', 'lakes', ',', 'cabins', 'and', 'sea', ',', 'often', 'including', 'lone', 'characters', '.', 'When', 'London', 'did', 'show', 'up', 'on', 'his', 'canvas', ',', 'he', 'was', 'living', 'in', 'Montreal', '.', 'For', 'the', 'first', 'paintings', 'he', 'made', 'after', 'relocating', 'to', 'Trinidad', ',', 'Doig', 'used', 'picture', 'postcards', 'from', 'India', ',', 'discovered', 'in', 'a', 'London', 'shop', ',', 'to', 'help', 'him', 'map', 'out', 'the', 'scenes', 'he', '’', 'd', 'witnessed', 'firsthand', '.', '“', 'I', 'was', 'trying', 'to', 'paint', 'it', 'by', 'proxy', ',', '”', 'he', 'says', ',', 'noting', 'that', 'his', 'paintings', '“', 'made', 'no', 'attempt', 'to', 'reflect', 'setting.', '”', 'They', 'were', 'fictionalized', 'images', 'and', 'ruminations', '“', 'on', 'the', 'idea', 'of', 'memory', ',', '”', 'as', 'he', 'puts', 'it', '.', 'But', 'recently', 'the', 'restless', 'Doig', ',', 'game', 'for', 'change', ',', 'set', 'himself', 'a', 'new', 'challenge', ':', 'to', 'interpret', 'the', 'world', 'outside', 'his', 'door', 'and', 'to', 'rely', 'more', 'on', 'his', 'imagination', 'than', 'on', 'distance', 'or', 'photographs', 'to', 'help', 'him', 'find', 'his', 'way', 'on', 'the', 'canvas', '.', '“', 'Now', 'there', '’', 's', 'maybe', 'a', 'kind', 'of', 'fear', ',', '”', 'says', 'Doig', ',', 'who', 'is', 'painting', 'at', 'his', 'home', 'studio', 'while', 'his', 'Port', 'of', 'Spain', 'space', 'is', 'being', 'renovated', '.', '“', 'It', '’', 's', 'like', ',', 'Whoa', ',', 'how', 'do', 'you', 'deal', 'with', 'this', '?', 'How', 'do', 'you', 'do', 'justice', 'to', 'this', '?', 'Whereas', 'if', 'you', 'took', 'photographs', 'or', 'sketches', 'and', 'went', 'back', 'to', 'your', 'warehouse', 'in', 'London', ',', 'then', 'you', 'have', 'that', 'distance', 'and', 'can', 'pick', 'and', 'choose', 'what', 'you', 'want', 'to', 'do', '.', 'Here', 'I', 'feel', 'like', 'I', '’', 'm', 'constantly', 'looking', 'for', 'subjects', 'right', 'in', 'front', 'of', 'me', '.', '”', 'We', '’', 're', 'facing', 'the', 'sea', ',', 'standing', 'on', 'a', 'wooden', 'deck', 'on', 'which', 'Doig', 'has', 'set', 'up', 'an', 'enormous', 'telescope', ',', 'aimed', 'at', 'some', 'distant', 'spot', 'on', 'the', 'horizon', '.', 'Peering', 'through', ',', 'he', 'points', 'to', 'an', 'indiscernible', 'speck', '.', '“', 'A', 'dory', ',', '”', 'he', 'announces', ',', 'placing', 'his', 'ever-present', 'iPhone', 'on', 'the', 'top', 'of', 'the', 'lens', 'to', 'snap', 'a', 'photo', '.', '(', 'Old', 'habits', 'die', 'hard', '.', ')', 'Suddenly', 'he', 'directs', 'my', 'attention', 'to', 'the', 'cawing', 'overhead', '.', '“', 'Vultures', ',', '”', 'he', 'says', '.', 'He', 'heads', 'back', 'inside', 'to', 'unwrap', 'the', 'speckled', 'orange', 'mangoes', 'he', '’', 's', 'purchased', 'at', 'the', 'market', ':', '“', 'Sometimes', 'when', 'it', 'rains', 'here', ',', 'the', 'cloud', 'comes', 'right', 'inside', 'the', 'house.', '”', 'That', 'nature', 'intrudes', 'is', 'both', 'inspiration', 'and', 'dilemma', '.', '“', 'I', '’', 've', 'been', 'taken', 'by', 'surprise', 'by', 'this', 'place', ',', 'really', ',', '”', 'he', 'says', ',', 'occasionally', 'tugging', 'on', 'his', 'calloused', 'fingers', 'as', 'he', 'speaks', '.', '“', 'It', 'confronts', 'you', ',', 'and', 'you', 'feel', 'almost', 'obliged', 'to', 'respond', 'because', 'it', '’', 's', 'so', 'potent', '.', '”', 'The', 'outdoors', 'have', 'always', 'figured', 'in', 'Doig', '’', 's', 'life', 'and', 'work', ':', 'He', '’', 's', 'an', 'avid', 'hockey', 'player', 'and', 'expert', 'skier', 'who', 'kayaks', 'weekly', 'looking', 'for', '“', 'the', 'extremes', 'of', 'nature', 'or', 'incidents', 'that', 'most', 'people', 'are', 'not', 'privy', 'to', 'see', ',', '”', 'such', 'as', 'the', 'isolated', 'island', 'he', 'discovered', 'one', 'day', 'by', 'boat', ',', '“', 'with', 'a', 'side', 'going', 'up', '300', 'feet', 'completely', 'white', 'with', 'pelican', 's', '--', '-.', '”', 'Often', 'he', '’', 's', 'in', 'the', 'company', 'of', 'his', 'longtime', 'friend', 'Chris', 'Ofili', ',', 'the', 'Turner', 'Prize', '?', 'winning', 'artist', 'who', 'moved', 'to', 'Trinidad', 'a', 'few', 'years', 'after', 'Doig', 'did', 'and', 'with', 'whom', 'he', '’', 's', 'planning', 'a', 'strenuous', 'kayaking', 'expedition', 'along', 'the', 'island', '’', 's', 'northern', 'coast', '.', 'Powerfully', 'built', ',', 'with', 'closely', 'cropped', 'hair', ',', 'gray-blue', 'eyes', 'and', 'muscular', 'forearms', ',', 'Doig', 'calls', 'to', 'mind', 'Hemingway', 'and', 'Pollock', ',', 'without', 'the', 'binges', 'or', 'mood', 'swings', '.', 'He', '’', 's', 'been', 'married', 'to', 'his', 'wife', ',', 'Bonnie', ',', 'for', '20', 'years', ',', 'has', 'five', 'children', ',', 'ages', 'two', 'to', '16', ',', 'and', 'talks', 'of', 'his', 'work', 'with', 'a', 'sense', 'of', 'modesty', 'and', 'the', 'urgent', 'commitment', 'of', 'painters', 'of', 'an', 'earlier', 'era', '.', '“', 'He', 'grasps', 'that', 'if', 'you', 'challenge', 'yourself', 'as', 'a', 'person', ',', 'it', 'will', 'reflect', 'in', 'the', 'art', 'you', 'make', ',', '”', 'says', 'Ofili', '.', '“', 'I', 'think', 'Peter', 'wants', 'to', 'feel', 'as', 'if', 'he', 'is', 'just', 'small', 'in', 'the', 'vastness', 'of', 'an', 'exciting', 'life', ',', 'but', 'he', 'wants', 'to', 'be', 'in', 'that', 'life', 'rather', 'than', 'at', 'the', 'edge', 'of', 'it', '.', 'Where', 'his', 'house', 'is', ',', 'you', 'can', 'see', 'that', 'he', 'wants', 'to', 'be', 'right', 'in', 'the', 'middle', 'of', 'nature', 'and', 'breaking', 'new', 'ground', '.', '”', 'Proof', 'of', 'that', 'urge', 'can', 'be', 'found', 'in', 'the', 'studio', 'above', 'the', 'house', '.', 'Doig', 'leads', 'me', 'to', 'Maracas', ',', 'a', 'work', 'in', 'progress', 'since', '2002', 'that', 'he', '’', 's', 'decided', 'to', 'finish', 'in', 'time', 'to', 'include', 'in', 'his', 'retrospective', ',', 'now', 'in', 'Frankfurt', ',', 'and', 'in', 'two', 'New', 'York', 'solo', 'shows', 'opening', 'simultaneously', 'in', 'January', ',', 'one', 'at', 'the', 'Michael', 'Werner', 'Gallery', ',', 'the', 'other', 'at', 'Gavin', 'Brown', '’', 's', 'Enterprise', '.', '(', 'The', 'gallery', 'shows', 'were', 'supposed', 'to', 'take', 'place', 'last', 'fall', ',', 'but', 'Doig', 'canceled', 'them', 'at', 'the', 'last', 'minute', 'after', 'deciding', 'he', 'wasn', '’', 't', 'ready', '.', '“', 'Being', 'an', 'artist', 'isn', '’', 't', 'a', 'job', '.', 'Running', 'a', 'gallery', 'is', 'a', 'job', ',', '”', 'he', 'says', ',', 'noting', 'that', 'artists', 'should', 'never', 'make', 'work', 'just', 'for', 'the', 'sake', 'of', 'selling', 'it', '.', ')', 'In', 'a', 'good', 'year', ',', 'he', 'says', ',', 'he', 'makes', 'about', 'eight', 'large', 'paintings', 'and', 'about', '15', 'smaller', 'ones', '.', 'He', 'always', 'works', 'alone', ',', 'without', 'assistants', ',', 'listening', 'to', 'one', 'of', 'the', 'thousands', 'of', 'albums', 'and', 'CDs', 'in', 'his', 'collection', ',', 'and', 'often', 'makes', 'sketches', 'and', 'drawings', 'as', 'part', 'of', 'his', 'process', 'of', 'trial', ',', 'error', 'and', 'serendipity', '.', 'Maracas', 'is', 'drawn', 'from', 'Doig', '’', 's', 'memory', 'of', 'seeing', 'a', 'man', 'in', 'Trinidad', 'standing', 'outside', 'on', 'a', 'huge', 'stack', 'of', 'totemlike', 'speakers', ',', 'which', 'in', 'his', 'painting', 'assume', '“', 'a', 'monolithic', 'presence', ',', '”', 'he', 'says', ',', 'the', 'more', 'he', 'plays', 'with', 'scale', 'and', 'form', '.', 'When', 'I', 'ask', 'if', 'Doig', 'sees', 'his', 'work', 'moving', 'toward', 'abstraction', ',', 'he', 'quickly', 'replies', ',', '“', 'I', 'hope', 'it', '’', 's', 'going', 'that', 'way', '.', 'It', '’', 's', 'less', 'rooted', 'to', 'a', 'specific', 'source', 'and', 'more', 'about', 'the', 'spirit', 'of', 'the', 'painting.', '”', 'A', 'case', 'in', 'point', 'is', 'his', 'spectral', 'Man', 'Dressed', 'as', 'a', 'Bat', ',', '2007', ',', 'which', 'was', 'inspired', 'by', 'a', 'small', 'sculpture', 'of', 'a', 'carnival', 'character', '“', 'that', 'looks', 'more', 'like', 'an', 'animal', 'than', 'it', 'does', 'a', 'human', 'dressed', 'in', 'a', 'costume', ',', '”', 'he', 'says', '.', 'But', 'what', 'ended', 'up', 'on', 'the', 'canvas', ',', 'he', 'adds', ',', '“', 'was', 'just', 'this', 'kind', 'of', 'diaphanous', 'form', '...', 'a', 'very', 'washy', ',', 'abstract', 'painting', '.', '”', 'Living', 'in', 'Trinidad', 'has', 'both', 'darkened', 'and', 'brightened', 'his', 'hallucinatory', 'palette', '.', '“', 'You', 'can', 'paint', 'a', 'house', 'turquoise', 'and', 'orange', ',', 'and', 'it', 'doesn', '’', 't', 'look', 'strange', 'here', 'because', 'the', 'light', 'is', 'so', 'bright', ',', '”', 'he', 'says', '.', '“', 'But', 'when', 'I', 'arrived', 'in', 'London', 'to', 'install', 'my', 'Tate', 'show', ',', 'everything', 'there', 'just', 'felt', 'incredibly', 'muted', ',', 'almost', 'in', 'soft', 'focus', '.', 'Sometimes', 'when', 'you', 'bring', 'a', 'painting', 'from', 'here', 'into', 'that', 'environment', ',', 'it', 'can', 'look', 'a', 'bit', 'garish', '.', '”', 'The', 'island', '’', 's', 'vibrant', 'colors', 'and', 'light', 'have', 'clearly', '“', 'infected', '”', 'Doig', '’', 's', 'recent', 'work', ',', 'says', 'Tate', 'director', 'Sir', 'Nicholas', 'Serota', ',', 'adding', 'that', 'he', '’', 'd', 'love', 'to', 'have', 'Doig', 'curate', 'a', 'Gauguin', 'show', 'for', 'the', 'museum', '.', '“', 'He', 'is', 'taking', 'forms', 'and', 'images', 'and', 'laying', 'color', 'across', 'them', 'in', 'a', 'way', 'that', 'makes', 'the', 'paintings', 'more', 'abstracted', ',', '”', 'Serota', 'says', '.', '“', 'He', 'connects', 'with', 'a', 'tradition', 'that', 'goes', 'from', 'Gauguin', 'through', 'German', 'Expressionism', 'to', 'Bacon', 'to', 'Peter', 'Doig', ':', 'It', '’', 's', 'a', 'tradition', 'that', 'is', 'the', 'hovering', 'between', 'representation', 'and', 'abstraction.', '”', 'Observing', 'him', 'up', 'close', ',', 'Ofili', 'sees', '“', 'a', 'deeper', 'level', 'of', 'introspection', 'in', 'his', 'approach', 'now', '.', '”', 'Doig', 'had', 'lived', 'in', 'Trinidad', 'as', 'a', 'child', 'and', 'first', 'returned', 'in', '2000', ',', 'with', 'Ofili', ',', 'for', 'an', 'artist', '’', 's', 'residency', '.', '“', 'It', 'felt', 'familiar', ',', '”', 'he', 'says', ',', 'particularly', 'as', 'his', 'father', ',', 'then', 'an', 'occasional', 'painter', ',', 'had', 'collected', 'pictures', 'by', 'Trinidadian', 'artists', ',', 'so', 'even', 'from', 'afar', ',', '“', 'Trinidad', 'was', 'always', 'present', 'in', 'our', 'house.', '”', 'By', 'the', 'time', 'he', 'moved', 'there', ',', 'partly', 'to', 'give', 'his', 'family', 'some', 'of', 'the', 'childhood', 'he', '’', 'd', 'known', ',', 'he', 'had', 'become', 'one', 'of', 'the', 'most', 'sought-after', 'painters', 'of', 'his', 'generation', '.', 'Unlike', 'Damien', 'Hirst', 'and', 'the', 'other', 'Young', 'British', 'Artists', 'who', 'became', 'overnight', 'sensations', 'in', 'the', 'early', 'Nineties', ',', 'Doig', 'for', 'years', 'worked', 'under', 'the', 'radar', 'and', 'didn', '’', 't', 'show', 'much', 'until', 'age', '30', ',', 'though', 'he', 'was', 'widely', 'admired', 'by', 'his', 'peers', '.', 'But', 'in', '2007', ',', 'when', 'his', '1991', 'White', 'Canoe', ',', 'a', 'nighttime', 'scene', 'of', 'a', 'canoe', 'on', 'a', 'lake', ',', 'was', 'sold', 'at', 'Sotheby', '’', 's', 'for', '$', '11.3', 'million', '?', 'then', 'an', 'auction', 'record', 'for', 'a', 'living', 'European', 'artist', '?', 'Doig', 'went', 'from', 'being', '“', 'a', 'hero', 'to', 'other', 'painters', 'to', 'a', 'poster', 'child', 'of', 'the', 'excesses', 'of', 'the', 'market', ',', '”', 'says', 'Paul', 'Schimmel', ',', 'chief', 'curator', 'at', 'the', 'Museum', 'of', 'Contemporary', 'Art', ',', 'Los', 'Angeles', '.', 'The', 'price', 'made', 'Doig', '“', 'nauseous', ',', '”', 'says', 'Schimmel', ',', 'recalling', 'their', 'discussions', '.', '“', 'As', 'an', 'artist', 'you', 'lose', 'a', 'little', 'control', 'of', 'your', 'own', 'identity.', '”', 'Afterward', 'Doig', 'made', 'a', 'point', 'of', 'telling', 'journalists', 'that', 'he', 'didn', '’', 't', 'receive', 'the', 'money', ';', 'the', 'seller', 'did', '.', 'Without', 'prompting', ',', 'Doig', 'refers', 'to', 'the', 'sale', ',', 'saying', '“', 'the', 'way', 'auction', 'houses', 'write', 'about', 'paintings', 'as', 'masterpieces', 'seems', 'such', 'an', 'absurd', 'way', 'to', 'talk', 'about', 'a', 'contemporary', 'work', 'of', 'art', '.', 'I', 'mean', ',', 'it', '’', 's', 'very', 'new', '.', 'A', 'masterpiece', '?', 'It', 'was', 'never', 'in', 'my', 'mind', 'that', 'I', 'was', 'trying', 'to', 'create', 'a', 'masterpiece', '.', 'It', 'was', 'almost', 'anti', 'the', 'idea', 'of', 'a', 'masterpiece', '.', '”', 'Both', 'familiar', 'and', 'strange', ',', 'Doig', '’', 's', 'pictures', 'prompt', 'a', 'sense', 'of', 'dislocation', 'in', 'the', 'viewer', ',', 'which', 'may', 'owe', 'something', 'to', 'his', 'own', 'rootlessness', '.', 'Born', 'in', 'Edinburgh', 'to', 'Scottish', 'parents', ',', 'Doig', 'moved', 'to', 'Trinidad', 'at', 'age', 'two', ',', 'Montreal', 'at', 'seven', ',', 'Toronto', 'as', 'a', 'teen', 'and', 'then', 'to', 'London', 'at', '19', 'to', 'study', 'at', 'Central', 'Saint', 'Martins', ',', 'a', 'decision', 'fueled', 'by', 'the', 'postpunk', 'musicians', 'he', 'admired', 'who', 'came', 'out', 'of', 'art', 'school', '.', 'Doig', '’', 's', 'father', 'was', 'an', 'accountant', 'for', 'a', 'shipping', 'company', ';', 'his', 'mother', ',', 'a', 'drama', 'teacher', ',', 'and', 'at', 'first', 'he', 'considered', 'theater', 'design', ',', 'thinking', 'it', 'was', 'practical', '.', 'But', 'he', 'quickly', 'switched', 'to', 'painting', ',', 'eagerly', 'imbibing', 'the', 'city', '’', 's', 'artistic', 'scene', ',', 'then', 'centered', 'more', 'on', 'nightclubs', 'than', 'galleries', '.', 'A', 'cinephile', ',', 'he', 'made', 'lists', 'of', 'films', 'he', 'wanted', 'to', 'see', 'and', 'hit', 'all', 'the', 'revival', 'houses', ',', 'recalling', 'that', '“', 'it', 'was', 'amazing', 'the', 'number', 'of', 'films', 'you', 'could', 'see', 'over', 'the', 'course', 'of', 'a', 'year', 'in', 'London', '”', 'at', 'that', 'time', '.', 'He', 'worked', 'as', 'a', 'dresser', 'at', 'the', 'English', 'National', 'Opera', 'and', 'appeared', 'in', 'an', 'experimental', 'film', 'by', 'his', 'friend', 'Derek', 'Jarman', ',', 'while', 'making', 'pictures', 'he', 'recalls', 'as', '“', 'cartoonlike', 'and', 'urban.', '”', 'At', 'a', 'time', 'when', 'being', 'a', 'painter', 'was', 'highly', 'unfashionable', ',', 'Doig', 'had', 'little', 'luck', 'launching', 'his', 'career', 'and', 'moved', 'to', 'Montreal', ',', 'where', 'he', 'mixed', 'paints', 'for', 'a', 'set', 'design', 'company', 'and', 'later', 'worked', 'on', 'the', 'sets', 'for', 'the', 'horror', 'flick', 'The', 'Amityville', 'Curse', '.', 'He', 'tried', 'painting', 'the', 'Canadian', 'landscape', 'from', 'life', 'but', '“', 'felt', 'a', 'bit', 'lost', ',', '”', 'he', 'says', ',', 'and', 'worried', 'that', 'he', 'was', 'becoming', 'a', 'Sunday', 'painter', '.', 'One', 'day', 'at', 'his', 'parents', '’', 'farm', 'outside', 'Toronto', ',', 'he', 'caught', 'a', 'glimpse', 'of', 'a', 'girl', 'slumped', 'in', 'a', 'canoe', 'on', 'the', 'television', '.', 'It', 'was', 'a', 'moment', 'from', 'Friday', 'the', '13th', '?', 'which', 'he', 'played', 'back', 'in', 'slow', 'motion', 'so', 'he', 'could', 'photograph', 'it', '.', 'Soon', 'he', '’', 'd', 'painted', 'the', 'first', 'of', 'many', 'works', 'inspired', 'by', 'the', 'movie', '.', '“', 'It', 'was', 'unlike', 'anything', 'I', '’', 'd', 'made', 'before', ',', '”', 'says', 'Doig', ',', 'who', 'recently', 'gave', 'the', 'work', 'to', 'Ofili', 'in', 'what', 'he', 'calls', '“', 'an', 'early', 'days', 'swap', '.', '”', 'Nearly', 'three', 'years', 'after', 'leaving', ',', 'he', 'returned', 'to', 'London', 'in', '1989', 'as', 'a', 'master', \"'s\", 'student', 'at', 'the', 'Chelsea', 'College', 'of', 'Art', 'and', 'Design', '.', 'The', 'YBAs', 'were', 'just', 'emerging', ',', 'and', 'swimming', 'against', 'the', 'conceptualist', 'tide', ',', 'Doig', 'entered', 'one', 'of', 'the', 'most', 'productive', 'periods', 'of', 'his', 'career', '.', 'At', 'Chelsea', 'he', 'discovered', 'the', 'possibilities', 'of', 'paint', ',', 'in', 'richly', 'textured', 'surfaces', ',', 'and', 'how', 'to', 'move', 'away', 'from', 'storytelling', 'to', 'let', 'viewers', 'bring', 'something', 'of', 'their', 'own', 'to', 'the', 'picture', '.', 'To', 'help', 'catalyze', 'his', 'memories', ',', 'he', 'sometimes', 'went', 'to', 'Canada', 'House', 'to', 'leaf', 'through', 'its', 'library', 'of', 'images', 'and', 'made', 'paintings', 'that', 'were', 'deliberately', '“', 'homely', '”', '?', 'two', 'deer', 'in', 'the', 'forest', ',', 'rural', 'cabins', 'glimpsed', 'through', 'trees', '.', 'In', '1991', ',', 'following', 'a', 'few', 'solo', 'exhibitions', ',', 'he', 'nabbed', 'a', 'major', 'show', 'at', 'London', '’', 's', 'Whitechapel', 'Art', 'Gallery', 'by', 'winning', 'an', 'award', ',', 'and', 'in', '1993', 'his', 'painting', 'Blotter', ',', 'based', 'on', 'a', 'staged', 'photograph', 'Doig', 'had', 'taken', 'of', 'his', 'brother', 'standing', 'on', 'an', 'icy', 'pond', 'absorbed', 'in', 'his', 'own', 'reflection', ',', 'won', 'the', 'prestigious', 'John', 'Moores', 'Prize', ',', 'the', 'UK', '’', 's', 'best-known', 'contemporary', 'painting', 'competition', '.', 'The', 'following', 'year', 'Doig', 'was', 'nominated', 'for', 'the', 'careermaking', 'Turner', 'Prize', 'and', 'landed', 'dealers', 'in', 'London', ',', 'New', 'York', 'and', 'Berlin', '.', 'Doig', 'likes', 'to', 'revisit', 'his', 'subjects', ',', 'and', 'the', 'lone', 'figure', 'in', 'the', 'landscape', 'is', 'a', 'recurring', 'image', '.', '“', 'There', '’', 's', 'a', 'hovering', 'darkness', 'in', 'some', 'of', 'his', 'work', ',', '”', 'says', 'curator', 'and', 'critic', 'Bruce', 'Ferguson', ',', 'the', 'former', 'dean', 'of', 'the', 'School', 'of', 'the', 'Arts', 'at', 'Columbia', 'University', ',', 'who', 'has', 'known', 'Doig', 'for', 'several', 'years', '.', '“', 'At', 'first', 'you', 'say', ',', 'Oh', ',', 'a', 'mountain', 'painting', 'with', 'a', 'skier', ',', 'and', 'then', 'you', 'suddenly', 'think', ',', 'It', '’', 's', 'such', 'a', 'big', 'mountain', 'and', 'such', 'a', 'small', 'skier', '.', 'There', '’', 's', 'a', 'kind', 'of', 'existential', 'terror', 'around', 'the', 'edges.', '”', 'Whitechapel', 'director', 'Iwona', 'Blazwick', 'points', 'to', 'the', '“', 'Blair', 'Witch', 'feeling', '”', 'in', 'such', 'iconic', 'Doig', 'paintings', 'as', '100', 'Years', 'Ago', ',', '2001', ',', 'in', 'which', 'a', 'bearded', ',', 'long-haired', 'man', 'in', 'black', ',', 'modeled', 'on', 'Berry', 'Oakley', 'of', 'the', 'Allman', 'Brothers', ',', 'sits', 'becalmed', 'in', 'a', 'canoe', 'in', 'the', 'middle', 'of', 'a', 'lake', '.', '“', 'It', 'has', 'the', 'point', 'of', 'view', 'you', 'get', 'in', 'horror', 'movies', ',', 'where', 'the', 'angle', 'of', 'a', 'camera', 'can', 'make', 'something', 'bucolic', 'suddenly', 'seem', 'very', 'threatening', ',', '”', 'says', 'Blazwick', ',', 'who', 'gave', 'Doig', 'his', 'second', 'solo', 'show', 'in', '1986', 'when', 'she', 'ran', 'London', '’', 's', 'Air', 'Gallery', '.', '100', 'Years', 'Ago', 'was', 'inspired', 'by', 'Matisse', '’', 's', '1908', 'Bathers', 'With', 'a', 'Turtle', ',', 'which', 'Doig', 'calls', '“', 'one', 'of', 'the', 'greatest', 'paintings', 'I', '’', 've', 'ever', 'seen.', '”', 'Hearing', 'him', 'describe', 'its', 'merits', ',', 'you', 'can', '’', 't', 'help', 'thinking', 'of', 'Doig', '’', 's', 'own', 'paintings', ':', '“', 'There', '’', 's', 'so', 'much', 'to', 'look', 'at', ',', 'and', 'yet', 'it', '’', 's', 'so', 'empty', 'and', 'so', 'vague', 'in', 'what', 'it', '’', 's', 'depicting', ',', '”', 'he', 'says', '.', '“', 'It', '’', 's', 'so', 'brave', 'in', 'its', 'division', 'of', 'space', ',', 'and', 'it', 'constantly', 'confuses', 'you', 'because', 'you', 'don', '’', 't', 'know', 'really', 'what', 'you', '’', 're', 'looking', 'at', '.', 'It', 'seems', 'to', 'be', 'a', 'constantly', 'questioning', 'painting', 'and', ',', 'in', 'many', 'ways', ',', 'incomplete', '.', '”', 'Among', 'his', 'own', 'works', ',', 'Figure', 'in', 'a', 'Mountain', 'Landscape', ',', '1997', '?', '98', ',', 'is', 'a', 'particular', 'favorite', 'of', 'Doig', '’', 's', '.', 'Drawn', 'from', 'a', '1935', 'photograph', 'of', 'the', 'Canadian', 'artist', 'Franklin', 'Carmichael', 'painting', 'from', 'nature', ',', 'it', 'shows', 'the', 'hooded', 'Carmichael', 'seen', 'from', 'behind', '.', 'Beyond', 'him', 'is', 'the', 'view', 'he', 'is', 'attempting', 'to', 'capture', 'on', 'his', 'easel', '.', '“', 'It', 'was', 'such', 'a', 'struggle', ',', '”', 'Doig', 'recalls', '.', '“', 'How', 'to', 'make', 'him', 'not', 'too', 'warlock-like', 'or', 'comic.', '”', 'Ofili', 'remembers', 'Doig', 'calling', 'him', 'one', 'night', 'to', '“', 'tell', 'me', 'he', '’', 'd', 'made', 'a', 'big', 'breakthrough', '.', 'The', 'breakthrough', 'is', 'the', 'figure', 'becoming', 'part', 'of', 'the', 'landscape', 'and', 'the', 'landscape', 'becoming', 'part', 'of', 'the', 'figure', '.', 'That', 'for', 'me', 'is', 'emblematic', 'when', 'I', 'think', 'of', 'Peter', 'developing', 'his', 'work.', '”', 'His', '“', 'exquisite', 'touch', ',', '”', 'as', 'Schimmel', 'refers', 'to', 'the', 'way', 'he', 'handles', 'paint', ',', 'is', 'another', 'striking', 'feature', 'of', 'Doig', '’', 's', 'pictures', '.', '“', 'You', 'get', 'a', 'sense', 'of', 'not', 'only', 'what', 'he', '’', 's', 'painting', ',', '”', 'he', 'says', ',', '“', 'but', 'of', 'how', 'he', '’', 's', 'painting', '.', '”', 'In', 'Trinidad', 'Doig', 'may', 'be', 'geographically', 'isolated', ',', 'but', 'he', '’', 's', 'no', 'Gauguin', 'in', 'Tahiti', '.', 'For', 'one', 'thing', ',', 'Doig', 'tells', 'me', ',', 'Trinidad', 'is', 'not', 'quite', 'the', 'tropical', 'paradise', 'many', 'imagine', ':', 'Port', 'of', 'Spain', 'is', 'not', 'a', 'resort', 'town', ',', 'the', 'seas', 'can', 'be', 'rough', ',', 'and', 'violent', 'crime', 'is', 'on', 'the', 'rise', '.', 'But', 'it', '’', 's', 'also', 'considered', 'the', 'most', 'culturally', 'diverse', 'island', 'in', 'the', 'Caribbean', '.', 'Ofili', 'calls', 'it', '“', 'secretive', '.', 'It', '’', 's', 'difficult', 'to', 'figure', 'out', 'what', 'makes', 'this', 'place', 'tick', ',', 'and', 'for', 'an', 'artist', ',', 'that', 'is', 'something', 'to', 'feed', 'off.', '”', 'Doig', '’', 's', 'Music', 'of', 'the', 'Future', ',', 'a', 'brooding', 'work', 'showing', 'groups', 'of', 'people', 'loitering', 'on', 'the', 'savannah', ',', 'alludes', 'to', 'the', 'island', '’', 's', 'nocturnal', 'culture', '.', '“', 'I', 'didn', '’', 't', 'want', 'to', 'get', 'into', 'the', 'specifics', 'of', 'the', 'people', ',', '”', 'he', 'says', '.', '“', 'It', 'was', 'more', 'about', 'atmosphere', 'and', 'the', 'feeling', 'of', 'time', 'of', 'night.', '”', 'The', 'trap', 'in', 'painting', 'Trinidad', ',', 'he', 'says', ',', 'lies', 'in', 'exoticizing', 'the', 'ordinary', '.', '“', 'You', 'see', 'potential', 'subjects', 'for', 'paintings', 'all', 'the', 'time', ',', 'but', 'then', 'you', 'wonder', 'if', 'you', '’', 're', 'just', 'being', 'seduced', 'by', 'what', '’', 's', 'very', 'ordinary', '.', 'So', 'how', 'do', 'you', 'find', 'your', 'voice', 'here', '?', '”', 'One', 'way', 'is', 'to', 'make', 'himself', 'an', 'integral', 'part', 'of', 'the', 'local', 'scene', '.', 'A', '“', 'magpie', 'of', 'culture', ',', '”', 'according', 'to', 'Blazwick', ',', 'Doig', 'runs', 'a', 'film', 'club', 'in', 'his', 'studio', 'with', 'artist', 'Che', 'Lovelace', ',', 'and', 'he', 'not', 'only', 'selects', 'and', 'screens', 'the', 'films', '?', 'usually', 'independent', 'fare', '?', 'but', 'also', 'paints', 'the', 'poster', 'most', 'weeks', '.', 'It', '’', 's', 'a', 'project', 'he', 'finds', 'liberating', ',', 'he', 'says', ',', '“', 'because', 'it', '’', 's', 'much', 'more', 'immediate.', '”', 'Still', ',', 'Trinidad', 'remains', 'something', 'of', 'an', 'experiment', '.', '“', 'I', 'sometimes', 'think', 'that', 'maybe', 'I', 'won', '’', 't', 'use', 'these', 'experiences', 'or', 'this', 'information', 'for', 'another', '10', 'years', ',', '”', 'Doig', 'tells', 'me', 'over', 'a', 'late', 'lunch', 'of', 'fried', 'shark', 'sandwiches', 'on', 'nearby', 'Maracas', 'Beach', '.', '“', 'Maybe', 'it', '’', 's', 'too', 'soon', '.', 'Or', 'maybe', 'I', '’', 've', 'got', 'to', 'become', 'a', 'different', 'kind', 'of', 'painter', '.', 'Maybe', 'that', '’', 's', 'what', '’', 's', 'happening', '.', '”']\n"
     ]
    }
   ],
   "source": [
    "## tokenization\n",
    "from nltk.tokenize import word_tokenize\n",
    "\n",
    "f = open(\"example.txt\", encoding = 'utf-8')\n",
    "tokens = []\n",
    "\n",
    "for line in f.readlines():\n",
    "    token = word_tokenize(line)\n",
    "    for i in token:\n",
    "        tokens.append(i)\n",
    "print(tokens)\n",
    "f.close()"
   ]
  },
  {
   "cell_type": "code",
   "execution_count": 12,
   "metadata": {},
   "outputs": [
    {
     "name": "stdout",
     "output_type": "stream",
     "text": [
      "[('Peter', 'NNP'), ('Doig', 'NNP'), ('by', 'IN'), ('Diane', 'NNP'), ('Solway', 'NNP'), ('November', 'NNP'), ('1', 'CD'), (',', ','), ('2008', 'CD'), ('12:00', 'CD'), ('am', 'VBP'), ('Peter', 'NNP'), ('Doig', 'NNP'), ('looks', 'VBZ'), ('out', 'RP'), ('over', 'IN'), ('Cyril', 'NNP'), (\"'s\", 'POS'), ('Bay', 'NN'), ('at', 'IN'), ('his', 'PRP$'), ('home', 'NN'), ('in', 'IN'), ('Trinidad', 'NNP'), ('.', '.'), ('To', 'TO'), ('reach', 'VB'), ('the', 'DT'), ('house', 'NN'), ('Peter', 'NNP'), ('Doig', 'NNP'), ('has', 'VBZ'), ('built', 'VBN'), ('on', 'IN'), ('the', 'DT'), ('north', 'JJ'), ('coast', 'NN'), ('of', 'IN'), ('Trinidad', 'NNP'), (',', ','), ('you', 'PRP'), ('drive', 'VBP'), ('from', 'IN'), ('gritty', 'JJ'), ('Port', 'NNP'), ('of', 'IN'), ('Spain', 'NNP'), ('along', 'IN'), ('several', 'JJ'), ('miles', 'NNS'), ('of', 'IN'), ('treacherously', 'RB'), ('winding', 'VBG'), ('road', 'NN'), ('so', 'RB'), ('steep', 'JJ'), ('that', 'IN'), ('my', 'PRP$'), ('cabdriver', 'NN'), ('has', 'VBZ'), ('to', 'TO'), ('turn', 'VB'), ('off', 'RP'), ('the', 'DT'), ('air', 'NN'), ('conditioner', 'NN'), ('and', 'CC'), ('shift', 'VB'), ('into', 'IN'), ('first', 'JJ'), ('gear', 'NN'), ('to', 'TO'), ('complete', 'VB'), ('the', 'DT'), ('ascent', 'NN'), ('.', '.'), ('Buffered', 'VBN'), ('by', 'IN'), ('lush', 'JJ'), ('vegetation', 'NN'), ('in', 'IN'), ('every', 'DT'), ('conceivable', 'JJ'), ('shade', 'NN'), ('of', 'IN'), ('green', 'JJ'), (',', ','), ('the', 'DT'), ('route', 'NN'), ('takes', 'VBZ'), ('you', 'PRP'), ('past', 'IN'), ('tire', 'NN'), ('shops', 'NNS'), ('and', 'CC'), ('makeshift', 'NN'), ('mango', 'NN'), ('stands', 'VBZ'), ('to', 'TO'), ('a', 'DT'), ('modernist', 'JJ'), ('concrete', 'NN'), ('and', 'CC'), ('wood', 'NN'), ('home', 'NN'), ('perched', 'VBN'), ('high', 'JJ'), ('above', 'IN'), ('Cyril', 'NNP'), ('’', 'NNP'), ('s', 'VBD'), ('Bay', 'NNP'), ('.', '.'), ('Here', 'RB'), (',', ','), ('surrounded', 'VBN'), ('by', 'IN'), ('the', 'DT'), ('jungle', 'NN'), (',', ','), ('Doig', 'NNP'), ('is', 'VBZ'), ('contending', 'VBG'), ('with', 'IN'), ('landscape', 'NN'), ('as', 'IN'), ('never', 'RB'), ('before', 'IN'), ('.', '.'), ('One', 'CD'), ('of', 'IN'), ('the', 'DT'), ('world', 'NN'), ('’', 'NNP'), ('s', 'VBZ'), ('most', 'JJS'), ('compelling', 'JJ'), ('painters', 'NNS'), ('and', 'CC'), ('the', 'DT'), ('subject', 'NN'), ('of', 'IN'), ('a', 'DT'), ('major', 'JJ'), ('retrospective', 'NN'), ('at', 'IN'), ('Tate', 'NNP'), ('Britain', 'NNP'), ('earlier', 'RBR'), ('this', 'DT'), ('year', 'NN'), (',', ','), ('Doig', 'NNP'), (',', ','), ('49', 'CD'), (',', ','), ('moved', 'VBD'), ('his', 'PRP$'), ('family', 'NN'), ('to', 'TO'), ('Trinidad', 'NNP'), ('from', 'IN'), ('London', 'NNP'), ('in', 'IN'), ('2002', 'CD'), ('.', '.'), ('For', 'IN'), ('years', 'NNS'), ('he', 'PRP'), ('had', 'VBD'), ('resisted', 'VBN'), ('painting', 'VBG'), ('what', 'WP'), ('was', 'VBD'), ('right', 'JJ'), ('in', 'IN'), ('front', 'NN'), ('of', 'IN'), ('him', 'PRP'), (',', ','), ('relying', 'VBG'), ('instead', 'RB'), ('on', 'IN'), ('photographs', 'NNS'), (',', ','), ('magazine', 'NN'), ('clippings', 'NNS'), (',', ','), ('album', 'NN'), ('covers', 'NNS'), ('and', 'CC'), ('film', 'NN'), ('stills', 'NNS'), ('as', 'IN'), ('aide-memoire', 'NN'), ('.', '.'), ('While', 'IN'), ('living', 'VBG'), ('in', 'IN'), ('London', 'NNP'), (',', ','), ('he', 'PRP'), ('painted', 'VBD'), ('landscapes', 'NNS'), ('drawn', 'VBN'), ('from', 'IN'), ('his', 'PRP$'), ('Canadian', 'JJ'), ('youth', 'NN'), ('and', 'CC'), ('visits', 'NNS'), ('to', 'TO'), ('Trinidad', 'VB'), (':', ':'), ('dreamlike', 'NN'), (',', ','), ('haunting', 'VBG'), ('scenes', 'NNS'), ('of', 'IN'), ('snow', 'NN'), (',', ','), ('lakes', 'NNS'), (',', ','), ('cabins', 'NNS'), ('and', 'CC'), ('sea', 'NN'), (',', ','), ('often', 'RB'), ('including', 'VBG'), ('lone', 'JJ'), ('characters', 'NNS'), ('.', '.'), ('When', 'WRB'), ('London', 'NNP'), ('did', 'VBD'), ('show', 'VB'), ('up', 'RP'), ('on', 'IN'), ('his', 'PRP$'), ('canvas', 'NN'), (',', ','), ('he', 'PRP'), ('was', 'VBD'), ('living', 'VBG'), ('in', 'IN'), ('Montreal', 'NNP'), ('.', '.'), ('For', 'IN'), ('the', 'DT'), ('first', 'JJ'), ('paintings', 'NNS'), ('he', 'PRP'), ('made', 'VBD'), ('after', 'IN'), ('relocating', 'VBG'), ('to', 'TO'), ('Trinidad', 'NNP'), (',', ','), ('Doig', 'NNP'), ('used', 'VBD'), ('picture', 'NN'), ('postcards', 'NNS'), ('from', 'IN'), ('India', 'NNP'), (',', ','), ('discovered', 'VBN'), ('in', 'IN'), ('a', 'DT'), ('London', 'NNP'), ('shop', 'NN'), (',', ','), ('to', 'TO'), ('help', 'VB'), ('him', 'PRP'), ('map', 'VB'), ('out', 'RP'), ('the', 'DT'), ('scenes', 'NNS'), ('he', 'PRP'), ('’', 'VBZ'), ('d', 'NN'), ('witnessed', 'VBD'), ('firsthand', 'NN'), ('.', '.'), ('“', 'NN'), ('I', 'PRP'), ('was', 'VBD'), ('trying', 'VBG'), ('to', 'TO'), ('paint', 'VB'), ('it', 'PRP'), ('by', 'IN'), ('proxy', 'NN'), (',', ','), ('”', 'IN'), ('he', 'PRP'), ('says', 'VBZ'), (',', ','), ('noting', 'VBG'), ('that', 'IN'), ('his', 'PRP$'), ('paintings', 'NNS'), ('“', 'NNP'), ('made', 'VBD'), ('no', 'DT'), ('attempt', 'NN'), ('to', 'TO'), ('reflect', 'VB'), ('setting.', 'JJ'), ('”', 'NN'), ('They', 'PRP'), ('were', 'VBD'), ('fictionalized', 'VBN'), ('images', 'NNS'), ('and', 'CC'), ('ruminations', 'NNS'), ('“', 'VBP'), ('on', 'IN'), ('the', 'DT'), ('idea', 'NN'), ('of', 'IN'), ('memory', 'NN'), (',', ','), ('”', 'RB'), ('as', 'IN'), ('he', 'PRP'), ('puts', 'VBZ'), ('it', 'PRP'), ('.', '.'), ('But', 'CC'), ('recently', 'RB'), ('the', 'DT'), ('restless', 'NN'), ('Doig', 'NNP'), (',', ','), ('game', 'NN'), ('for', 'IN'), ('change', 'NN'), (',', ','), ('set', 'VBN'), ('himself', 'PRP'), ('a', 'DT'), ('new', 'JJ'), ('challenge', 'NN'), (':', ':'), ('to', 'TO'), ('interpret', 'VB'), ('the', 'DT'), ('world', 'NN'), ('outside', 'IN'), ('his', 'PRP$'), ('door', 'NN'), ('and', 'CC'), ('to', 'TO'), ('rely', 'VB'), ('more', 'RBR'), ('on', 'IN'), ('his', 'PRP$'), ('imagination', 'NN'), ('than', 'IN'), ('on', 'IN'), ('distance', 'NN'), ('or', 'CC'), ('photographs', 'NN'), ('to', 'TO'), ('help', 'VB'), ('him', 'PRP'), ('find', 'VB'), ('his', 'PRP$'), ('way', 'NN'), ('on', 'IN'), ('the', 'DT'), ('canvas', 'NN'), ('.', '.'), ('“', 'RB'), ('Now', 'RB'), ('there', 'EX'), ('’', 'JJ'), ('s', 'NN'), ('maybe', 'RB'), ('a', 'DT'), ('kind', 'NN'), ('of', 'IN'), ('fear', 'NN'), (',', ','), ('”', 'NNP'), ('says', 'VBZ'), ('Doig', 'NNP'), (',', ','), ('who', 'WP'), ('is', 'VBZ'), ('painting', 'VBG'), ('at', 'IN'), ('his', 'PRP$'), ('home', 'NN'), ('studio', 'NN'), ('while', 'IN'), ('his', 'PRP$'), ('Port', 'NNP'), ('of', 'IN'), ('Spain', 'NNP'), ('space', 'NN'), ('is', 'VBZ'), ('being', 'VBG'), ('renovated', 'VBN'), ('.', '.'), ('“', 'VB'), ('It', 'PRP'), ('’', 'JJ'), ('s', 'NNS'), ('like', 'IN'), (',', ','), ('Whoa', 'NNP'), (',', ','), ('how', 'WRB'), ('do', 'VBP'), ('you', 'PRP'), ('deal', 'VB'), ('with', 'IN'), ('this', 'DT'), ('?', '.'), ('How', 'WRB'), ('do', 'VB'), ('you', 'PRP'), ('do', 'VB'), ('justice', 'NN'), ('to', 'TO'), ('this', 'DT'), ('?', '.'), ('Whereas', 'IN'), ('if', 'IN'), ('you', 'PRP'), ('took', 'VBD'), ('photographs', 'NN'), ('or', 'CC'), ('sketches', 'NNS'), ('and', 'CC'), ('went', 'VBD'), ('back', 'RB'), ('to', 'TO'), ('your', 'PRP$'), ('warehouse', 'NN'), ('in', 'IN'), ('London', 'NNP'), (',', ','), ('then', 'RB'), ('you', 'PRP'), ('have', 'VBP'), ('that', 'DT'), ('distance', 'NN'), ('and', 'CC'), ('can', 'MD'), ('pick', 'VB'), ('and', 'CC'), ('choose', 'VB'), ('what', 'WP'), ('you', 'PRP'), ('want', 'VBP'), ('to', 'TO'), ('do', 'VB'), ('.', '.'), ('Here', 'RB'), ('I', 'PRP'), ('feel', 'VBP'), ('like', 'IN'), ('I', 'PRP'), ('’', 'VBP'), ('m', 'RB'), ('constantly', 'RB'), ('looking', 'VBG'), ('for', 'IN'), ('subjects', 'NNS'), ('right', 'RB'), ('in', 'IN'), ('front', 'NN'), ('of', 'IN'), ('me', 'PRP'), ('.', '.'), ('”', 'IN'), ('We', 'PRP'), ('’', 'VBP'), ('re', 'JJ'), ('facing', 'VBG'), ('the', 'DT'), ('sea', 'NN'), (',', ','), ('standing', 'VBG'), ('on', 'IN'), ('a', 'DT'), ('wooden', 'JJ'), ('deck', 'NN'), ('on', 'IN'), ('which', 'WDT'), ('Doig', 'NNP'), ('has', 'VBZ'), ('set', 'VBN'), ('up', 'RP'), ('an', 'DT'), ('enormous', 'JJ'), ('telescope', 'NN'), (',', ','), ('aimed', 'VBN'), ('at', 'IN'), ('some', 'DT'), ('distant', 'JJ'), ('spot', 'NN'), ('on', 'IN'), ('the', 'DT'), ('horizon', 'NN'), ('.', '.'), ('Peering', 'VBG'), ('through', 'IN'), (',', ','), ('he', 'PRP'), ('points', 'VBZ'), ('to', 'TO'), ('an', 'DT'), ('indiscernible', 'JJ'), ('speck', 'NN'), ('.', '.'), ('“', 'VB'), ('A', 'NNP'), ('dory', 'NN'), (',', ','), ('”', 'CC'), ('he', 'PRP'), ('announces', 'VBZ'), (',', ','), ('placing', 'VBG'), ('his', 'PRP$'), ('ever-present', 'JJ'), ('iPhone', 'NN'), ('on', 'IN'), ('the', 'DT'), ('top', 'NN'), ('of', 'IN'), ('the', 'DT'), ('lens', 'NNS'), ('to', 'TO'), ('snap', 'VB'), ('a', 'DT'), ('photo', 'NN'), ('.', '.'), ('(', '('), ('Old', 'NNP'), ('habits', 'VBZ'), ('die', 'RB'), ('hard', 'JJ'), ('.', '.'), (')', ')'), ('Suddenly', 'RB'), ('he', 'PRP'), ('directs', 'VBZ'), ('my', 'PRP$'), ('attention', 'NN'), ('to', 'TO'), ('the', 'DT'), ('cawing', 'VBG'), ('overhead', 'NN'), ('.', '.'), ('“', 'JJ'), ('Vultures', 'NNS'), (',', ','), ('”', 'IN'), ('he', 'PRP'), ('says', 'VBZ'), ('.', '.'), ('He', 'PRP'), ('heads', 'VBZ'), ('back', 'RB'), ('inside', 'JJ'), ('to', 'TO'), ('unwrap', 'VB'), ('the', 'DT'), ('speckled', 'JJ'), ('orange', 'NN'), ('mangoes', 'NNS'), ('he', 'PRP'), ('’', 'VBZ'), ('s', 'NN'), ('purchased', 'VBN'), ('at', 'IN'), ('the', 'DT'), ('market', 'NN'), (':', ':'), ('“', 'NN'), ('Sometimes', 'RB'), ('when', 'WRB'), ('it', 'PRP'), ('rains', 'VBZ'), ('here', 'RB'), (',', ','), ('the', 'DT'), ('cloud', 'NN'), ('comes', 'VBZ'), ('right', 'JJ'), ('inside', 'IN'), ('the', 'DT'), ('house.', 'NN'), ('”', 'NN'), ('That', 'IN'), ('nature', 'NN'), ('intrudes', 'NNS'), ('is', 'VBZ'), ('both', 'DT'), ('inspiration', 'NN'), ('and', 'CC'), ('dilemma', 'NN'), ('.', '.'), ('“', 'NN'), ('I', 'PRP'), ('’', 'VBP'), ('ve', 'RB'), ('been', 'VBN'), ('taken', 'VBN'), ('by', 'IN'), ('surprise', 'NN'), ('by', 'IN'), ('this', 'DT'), ('place', 'NN'), (',', ','), ('really', 'RB'), (',', ','), ('”', 'IN'), ('he', 'PRP'), ('says', 'VBZ'), (',', ','), ('occasionally', 'RB'), ('tugging', 'VBG'), ('on', 'IN'), ('his', 'PRP$'), ('calloused', 'JJ'), ('fingers', 'NNS'), ('as', 'IN'), ('he', 'PRP'), ('speaks', 'VBZ'), ('.', '.'), ('“', 'VB'), ('It', 'PRP'), ('confronts', 'VBZ'), ('you', 'PRP'), (',', ','), ('and', 'CC'), ('you', 'PRP'), ('feel', 'VBP'), ('almost', 'RB'), ('obliged', 'VBN'), ('to', 'TO'), ('respond', 'VB'), ('because', 'IN'), ('it', 'PRP'), ('’', 'VBZ'), ('s', 'NNS'), ('so', 'RB'), ('potent', 'JJ'), ('.', '.'), ('”', 'VB'), ('The', 'DT'), ('outdoors', 'NNS'), ('have', 'VBP'), ('always', 'RB'), ('figured', 'VBN'), ('in', 'IN'), ('Doig', 'NNP'), ('’', 'NNP'), ('s', 'JJ'), ('life', 'NN'), ('and', 'CC'), ('work', 'NN'), (':', ':'), ('He', 'PRP'), ('’', 'VBZ'), ('s', 'PDT'), ('an', 'DT'), ('avid', 'NN'), ('hockey', 'NN'), ('player', 'NN'), ('and', 'CC'), ('expert', 'JJ'), ('skier', 'NN'), ('who', 'WP'), ('kayaks', 'VBZ'), ('weekly', 'JJ'), ('looking', 'VBG'), ('for', 'IN'), ('“', 'NNP'), ('the', 'DT'), ('extremes', 'NNS'), ('of', 'IN'), ('nature', 'NN'), ('or', 'CC'), ('incidents', 'NNS'), ('that', 'IN'), ('most', 'JJS'), ('people', 'NNS'), ('are', 'VBP'), ('not', 'RB'), ('privy', 'JJ'), ('to', 'TO'), ('see', 'VB'), (',', ','), ('”', 'VB'), ('such', 'JJ'), ('as', 'IN'), ('the', 'DT'), ('isolated', 'JJ'), ('island', 'NN'), ('he', 'PRP'), ('discovered', 'VBD'), ('one', 'CD'), ('day', 'NN'), ('by', 'IN'), ('boat', 'NN'), (',', ','), ('“', 'NN'), ('with', 'IN'), ('a', 'DT'), ('side', 'NN'), ('going', 'VBG'), ('up', 'RP'), ('300', 'CD'), ('feet', 'NNS'), ('completely', 'RB'), ('white', 'JJ'), ('with', 'IN'), ('pelican', 'JJ'), ('s', 'NN'), ('--', ':'), ('-.', 'JJ'), ('”', 'NN'), ('Often', 'NNP'), ('he', 'PRP'), ('’', 'VBD'), ('s', 'NN'), ('in', 'IN'), ('the', 'DT'), ('company', 'NN'), ('of', 'IN'), ('his', 'PRP$'), ('longtime', 'JJ'), ('friend', 'NN'), ('Chris', 'NNP'), ('Ofili', 'NNP'), (',', ','), ('the', 'DT'), ('Turner', 'NNP'), ('Prize', 'NNP'), ('?', '.'), ('winning', 'VBG'), ('artist', 'NN'), ('who', 'WP'), ('moved', 'VBD'), ('to', 'TO'), ('Trinidad', 'VB'), ('a', 'DT'), ('few', 'JJ'), ('years', 'NNS'), ('after', 'IN'), ('Doig', 'NNP'), ('did', 'VBD'), ('and', 'CC'), ('with', 'IN'), ('whom', 'WP'), ('he', 'PRP'), ('’', 'VBZ'), ('s', 'JJ'), ('planning', 'VBG'), ('a', 'DT'), ('strenuous', 'JJ'), ('kayaking', 'VBG'), ('expedition', 'NN'), ('along', 'IN'), ('the', 'DT'), ('island', 'NN'), ('’', 'NNP'), ('s', 'VBZ'), ('northern', 'JJ'), ('coast', 'NN'), ('.', '.'), ('Powerfully', 'NNP'), ('built', 'VBD'), (',', ','), ('with', 'IN'), ('closely', 'RB'), ('cropped', 'JJ'), ('hair', 'NN'), (',', ','), ('gray-blue', 'JJ'), ('eyes', 'NNS'), ('and', 'CC'), ('muscular', 'JJ'), ('forearms', 'NNS'), (',', ','), ('Doig', 'NNP'), ('calls', 'VBZ'), ('to', 'TO'), ('mind', 'VB'), ('Hemingway', 'NNP'), ('and', 'CC'), ('Pollock', 'NNP'), (',', ','), ('without', 'IN'), ('the', 'DT'), ('binges', 'NNS'), ('or', 'CC'), ('mood', 'NN'), ('swings', 'NNS'), ('.', '.'), ('He', 'PRP'), ('’', 'VBD'), ('s', 'RB'), ('been', 'VBN'), ('married', 'VBN'), ('to', 'TO'), ('his', 'PRP$'), ('wife', 'NN'), (',', ','), ('Bonnie', 'NNP'), (',', ','), ('for', 'IN'), ('20', 'CD'), ('years', 'NNS'), (',', ','), ('has', 'VBZ'), ('five', 'CD'), ('children', 'NNS'), (',', ','), ('ages', 'VBZ'), ('two', 'CD'), ('to', 'TO'), ('16', 'CD'), (',', ','), ('and', 'CC'), ('talks', 'NNS'), ('of', 'IN'), ('his', 'PRP$'), ('work', 'NN'), ('with', 'IN'), ('a', 'DT'), ('sense', 'NN'), ('of', 'IN'), ('modesty', 'NN'), ('and', 'CC'), ('the', 'DT'), ('urgent', 'JJ'), ('commitment', 'NN'), ('of', 'IN'), ('painters', 'NNS'), ('of', 'IN'), ('an', 'DT'), ('earlier', 'JJR'), ('era', 'NN'), ('.', '.'), ('“', 'CC'), ('He', 'PRP'), ('grasps', 'VBZ'), ('that', 'IN'), ('if', 'IN'), ('you', 'PRP'), ('challenge', 'VBP'), ('yourself', 'PRP'), ('as', 'IN'), ('a', 'DT'), ('person', 'NN'), (',', ','), ('it', 'PRP'), ('will', 'MD'), ('reflect', 'VB'), ('in', 'IN'), ('the', 'DT'), ('art', 'NN'), ('you', 'PRP'), ('make', 'VBP'), (',', ','), ('”', 'NNP'), ('says', 'VBZ'), ('Ofili', 'NNP'), ('.', '.'), ('“', 'NN'), ('I', 'PRP'), ('think', 'VBP'), ('Peter', 'NNP'), ('wants', 'VBZ'), ('to', 'TO'), ('feel', 'VB'), ('as', 'IN'), ('if', 'IN'), ('he', 'PRP'), ('is', 'VBZ'), ('just', 'RB'), ('small', 'JJ'), ('in', 'IN'), ('the', 'DT'), ('vastness', 'NN'), ('of', 'IN'), ('an', 'DT'), ('exciting', 'JJ'), ('life', 'NN'), (',', ','), ('but', 'CC'), ('he', 'PRP'), ('wants', 'VBZ'), ('to', 'TO'), ('be', 'VB'), ('in', 'IN'), ('that', 'DT'), ('life', 'NN'), ('rather', 'RB'), ('than', 'IN'), ('at', 'IN'), ('the', 'DT'), ('edge', 'NN'), ('of', 'IN'), ('it', 'PRP'), ('.', '.'), ('Where', 'WRB'), ('his', 'PRP$'), ('house', 'NN'), ('is', 'VBZ'), (',', ','), ('you', 'PRP'), ('can', 'MD'), ('see', 'VB'), ('that', 'IN'), ('he', 'PRP'), ('wants', 'VBZ'), ('to', 'TO'), ('be', 'VB'), ('right', 'RB'), ('in', 'IN'), ('the', 'DT'), ('middle', 'NN'), ('of', 'IN'), ('nature', 'NN'), ('and', 'CC'), ('breaking', 'VBG'), ('new', 'JJ'), ('ground', 'NN'), ('.', '.'), ('”', 'JJ'), ('Proof', 'NNP'), ('of', 'IN'), ('that', 'DT'), ('urge', 'NN'), ('can', 'MD'), ('be', 'VB'), ('found', 'VBN'), ('in', 'IN'), ('the', 'DT'), ('studio', 'NN'), ('above', 'IN'), ('the', 'DT'), ('house', 'NN'), ('.', '.'), ('Doig', 'NNP'), ('leads', 'VBZ'), ('me', 'PRP'), ('to', 'TO'), ('Maracas', 'NNP'), (',', ','), ('a', 'DT'), ('work', 'NN'), ('in', 'IN'), ('progress', 'NN'), ('since', 'IN'), ('2002', 'CD'), ('that', 'IN'), ('he', 'PRP'), ('’', 'VBZ'), ('s', 'RB'), ('decided', 'VBN'), ('to', 'TO'), ('finish', 'VB'), ('in', 'IN'), ('time', 'NN'), ('to', 'TO'), ('include', 'VB'), ('in', 'IN'), ('his', 'PRP$'), ('retrospective', 'NN'), (',', ','), ('now', 'RB'), ('in', 'IN'), ('Frankfurt', 'NNP'), (',', ','), ('and', 'CC'), ('in', 'IN'), ('two', 'CD'), ('New', 'NNP'), ('York', 'NNP'), ('solo', 'NN'), ('shows', 'NNS'), ('opening', 'VBG'), ('simultaneously', 'RB'), ('in', 'IN'), ('January', 'NNP'), (',', ','), ('one', 'CD'), ('at', 'IN'), ('the', 'DT'), ('Michael', 'NNP'), ('Werner', 'NNP'), ('Gallery', 'NNP'), (',', ','), ('the', 'DT'), ('other', 'JJ'), ('at', 'IN'), ('Gavin', 'NNP'), ('Brown', 'NNP'), ('’', 'NNP'), ('s', 'VBD'), ('Enterprise', 'NNP'), ('.', '.'), ('(', '('), ('The', 'DT'), ('gallery', 'NN'), ('shows', 'NNS'), ('were', 'VBD'), ('supposed', 'VBN'), ('to', 'TO'), ('take', 'VB'), ('place', 'NN'), ('last', 'JJ'), ('fall', 'NN'), (',', ','), ('but', 'CC'), ('Doig', 'NNP'), ('canceled', 'VBD'), ('them', 'PRP'), ('at', 'IN'), ('the', 'DT'), ('last', 'JJ'), ('minute', 'NN'), ('after', 'IN'), ('deciding', 'VBG'), ('he', 'PRP'), ('wasn', 'JJ'), ('’', 'NNP'), ('t', 'NN'), ('ready', 'NN'), ('.', '.'), ('“', 'VB'), ('Being', 'VBG'), ('an', 'DT'), ('artist', 'NN'), ('isn', 'NN'), ('’', 'NNP'), ('t', 'VBZ'), ('a', 'DT'), ('job', 'NN'), ('.', '.'), ('Running', 'VBG'), ('a', 'DT'), ('gallery', 'NN'), ('is', 'VBZ'), ('a', 'DT'), ('job', 'NN'), (',', ','), ('”', 'IN'), ('he', 'PRP'), ('says', 'VBZ'), (',', ','), ('noting', 'VBG'), ('that', 'IN'), ('artists', 'NNS'), ('should', 'MD'), ('never', 'RB'), ('make', 'VB'), ('work', 'NN'), ('just', 'RB'), ('for', 'IN'), ('the', 'DT'), ('sake', 'NN'), ('of', 'IN'), ('selling', 'VBG'), ('it', 'PRP'), ('.', '.'), (')', ')'), ('In', 'IN'), ('a', 'DT'), ('good', 'JJ'), ('year', 'NN'), (',', ','), ('he', 'PRP'), ('says', 'VBZ'), (',', ','), ('he', 'PRP'), ('makes', 'VBZ'), ('about', 'IN'), ('eight', 'CD'), ('large', 'JJ'), ('paintings', 'NNS'), ('and', 'CC'), ('about', 'IN'), ('15', 'CD'), ('smaller', 'JJR'), ('ones', 'NNS'), ('.', '.'), ('He', 'PRP'), ('always', 'RB'), ('works', 'VBZ'), ('alone', 'RB'), (',', ','), ('without', 'IN'), ('assistants', 'NNS'), (',', ','), ('listening', 'VBG'), ('to', 'TO'), ('one', 'CD'), ('of', 'IN'), ('the', 'DT'), ('thousands', 'NNS'), ('of', 'IN'), ('albums', 'NNS'), ('and', 'CC'), ('CDs', 'NNS'), ('in', 'IN'), ('his', 'PRP$'), ('collection', 'NN'), (',', ','), ('and', 'CC'), ('often', 'RB'), ('makes', 'VBZ'), ('sketches', 'NNS'), ('and', 'CC'), ('drawings', 'NNS'), ('as', 'IN'), ('part', 'NN'), ('of', 'IN'), ('his', 'PRP$'), ('process', 'NN'), ('of', 'IN'), ('trial', 'NN'), (',', ','), ('error', 'NN'), ('and', 'CC'), ('serendipity', 'NN'), ('.', '.'), ('Maracas', 'NNP'), ('is', 'VBZ'), ('drawn', 'VBN'), ('from', 'IN'), ('Doig', 'NNP'), ('’', 'NNP'), ('s', 'JJ'), ('memory', 'NN'), ('of', 'IN'), ('seeing', 'VBG'), ('a', 'DT'), ('man', 'NN'), ('in', 'IN'), ('Trinidad', 'NNP'), ('standing', 'VBG'), ('outside', 'RB'), ('on', 'IN'), ('a', 'DT'), ('huge', 'JJ'), ('stack', 'NN'), ('of', 'IN'), ('totemlike', 'NN'), ('speakers', 'NNS'), (',', ','), ('which', 'WDT'), ('in', 'IN'), ('his', 'PRP$'), ('painting', 'NN'), ('assume', 'VB'), ('“', 'IN'), ('a', 'DT'), ('monolithic', 'JJ'), ('presence', 'NN'), (',', ','), ('”', 'IN'), ('he', 'PRP'), ('says', 'VBZ'), (',', ','), ('the', 'DT'), ('more', 'RBR'), ('he', 'PRP'), ('plays', 'VBZ'), ('with', 'IN'), ('scale', 'NN'), ('and', 'CC'), ('form', 'NN'), ('.', '.'), ('When', 'WRB'), ('I', 'PRP'), ('ask', 'VBP'), ('if', 'IN'), ('Doig', 'NNP'), ('sees', 'VBZ'), ('his', 'PRP$'), ('work', 'NN'), ('moving', 'VBG'), ('toward', 'IN'), ('abstraction', 'NN'), (',', ','), ('he', 'PRP'), ('quickly', 'RB'), ('replies', 'VBZ'), (',', ','), ('“', 'FW'), ('I', 'PRP'), ('hope', 'VBP'), ('it', 'PRP'), ('’', 'JJ'), ('s', 'VBZ'), ('going', 'VBG'), ('that', 'DT'), ('way', 'NN'), ('.', '.'), ('It', 'PRP'), ('’', 'VBD'), ('s', 'RB'), ('less', 'RBR'), ('rooted', 'VBN'), ('to', 'TO'), ('a', 'DT'), ('specific', 'JJ'), ('source', 'NN'), ('and', 'CC'), ('more', 'JJR'), ('about', 'IN'), ('the', 'DT'), ('spirit', 'NN'), ('of', 'IN'), ('the', 'DT'), ('painting.', 'NN'), ('”', 'VBZ'), ('A', 'DT'), ('case', 'NN'), ('in', 'IN'), ('point', 'NN'), ('is', 'VBZ'), ('his', 'PRP$'), ('spectral', 'JJ'), ('Man', 'NNP'), ('Dressed', 'VBD'), ('as', 'IN'), ('a', 'DT'), ('Bat', 'NNP'), (',', ','), ('2007', 'CD'), (',', ','), ('which', 'WDT'), ('was', 'VBD'), ('inspired', 'VBN'), ('by', 'IN'), ('a', 'DT'), ('small', 'JJ'), ('sculpture', 'NN'), ('of', 'IN'), ('a', 'DT'), ('carnival', 'JJ'), ('character', 'NN'), ('“', 'NN'), ('that', 'WDT'), ('looks', 'VBZ'), ('more', 'JJR'), ('like', 'IN'), ('an', 'DT'), ('animal', 'NN'), ('than', 'IN'), ('it', 'PRP'), ('does', 'VBZ'), ('a', 'DT'), ('human', 'JJ'), ('dressed', 'VBN'), ('in', 'IN'), ('a', 'DT'), ('costume', 'NN'), (',', ','), ('”', 'IN'), ('he', 'PRP'), ('says', 'VBZ'), ('.', '.'), ('But', 'CC'), ('what', 'WP'), ('ended', 'VBD'), ('up', 'RP'), ('on', 'IN'), ('the', 'DT'), ('canvas', 'NN'), (',', ','), ('he', 'PRP'), ('adds', 'VBZ'), (',', ','), ('“', 'NNP'), ('was', 'VBD'), ('just', 'RB'), ('this', 'DT'), ('kind', 'NN'), ('of', 'IN'), ('diaphanous', 'JJ'), ('form', 'NN'), ('...', ':'), ('a', 'DT'), ('very', 'RB'), ('washy', 'JJ'), (',', ','), ('abstract', 'JJ'), ('painting', 'NN'), ('.', '.'), ('”', 'JJ'), ('Living', 'VBG'), ('in', 'IN'), ('Trinidad', 'NNP'), ('has', 'VBZ'), ('both', 'DT'), ('darkened', 'VBN'), ('and', 'CC'), ('brightened', 'VBN'), ('his', 'PRP$'), ('hallucinatory', 'NN'), ('palette', 'NN'), ('.', '.'), ('“', 'IN'), ('You', 'PRP'), ('can', 'MD'), ('paint', 'VB'), ('a', 'DT'), ('house', 'NN'), ('turquoise', 'NN'), ('and', 'CC'), ('orange', 'NN'), (',', ','), ('and', 'CC'), ('it', 'PRP'), ('doesn', 'VBZ'), ('’', 'JJ'), ('t', 'JJ'), ('look', 'NN'), ('strange', 'NN'), ('here', 'RB'), ('because', 'IN'), ('the', 'DT'), ('light', 'NN'), ('is', 'VBZ'), ('so', 'RB'), ('bright', 'JJ'), (',', ','), ('”', 'IN'), ('he', 'PRP'), ('says', 'VBZ'), ('.', '.'), ('“', 'NNS'), ('But', 'CC'), ('when', 'WRB'), ('I', 'PRP'), ('arrived', 'VBD'), ('in', 'IN'), ('London', 'NNP'), ('to', 'TO'), ('install', 'VB'), ('my', 'PRP$'), ('Tate', 'NNP'), ('show', 'NN'), (',', ','), ('everything', 'NN'), ('there', 'RB'), ('just', 'RB'), ('felt', 'VBD'), ('incredibly', 'RB'), ('muted', 'VBN'), (',', ','), ('almost', 'RB'), ('in', 'IN'), ('soft', 'JJ'), ('focus', 'NN'), ('.', '.'), ('Sometimes', 'RB'), ('when', 'WRB'), ('you', 'PRP'), ('bring', 'VBP'), ('a', 'DT'), ('painting', 'NN'), ('from', 'IN'), ('here', 'RB'), ('into', 'IN'), ('that', 'DT'), ('environment', 'NN'), (',', ','), ('it', 'PRP'), ('can', 'MD'), ('look', 'VB'), ('a', 'DT'), ('bit', 'NN'), ('garish', 'JJ'), ('.', '.'), ('”', 'VB'), ('The', 'DT'), ('island', 'NN'), ('’', 'NNP'), ('s', 'NN'), ('vibrant', 'NN'), ('colors', 'NNS'), ('and', 'CC'), ('light', 'NN'), ('have', 'VBP'), ('clearly', 'RB'), ('“', 'VBN'), ('infected', 'VBN'), ('”', 'NNP'), ('Doig', 'NNP'), ('’', 'NNP'), ('s', 'FW'), ('recent', 'JJ'), ('work', 'NN'), (',', ','), ('says', 'VBZ'), ('Tate', 'NNP'), ('director', 'NN'), ('Sir', 'NNP'), ('Nicholas', 'NNP'), ('Serota', 'NNP'), (',', ','), ('adding', 'VBG'), ('that', 'IN'), ('he', 'PRP'), ('’', 'VBZ'), ('d', 'JJ'), ('love', 'NN'), ('to', 'TO'), ('have', 'VB'), ('Doig', 'NNP'), ('curate', 'VB'), ('a', 'DT'), ('Gauguin', 'NNP'), ('show', 'NN'), ('for', 'IN'), ('the', 'DT'), ('museum', 'NN'), ('.', '.'), ('“', 'CC'), ('He', 'PRP'), ('is', 'VBZ'), ('taking', 'VBG'), ('forms', 'NNS'), ('and', 'CC'), ('images', 'NNS'), ('and', 'CC'), ('laying', 'VBG'), ('color', 'NN'), ('across', 'IN'), ('them', 'PRP'), ('in', 'IN'), ('a', 'DT'), ('way', 'NN'), ('that', 'WDT'), ('makes', 'VBZ'), ('the', 'DT'), ('paintings', 'NNS'), ('more', 'RBR'), ('abstracted', 'JJ'), (',', ','), ('”', 'NNP'), ('Serota', 'NNP'), ('says', 'VBZ'), ('.', '.'), ('“', 'NN'), ('He', 'PRP'), ('connects', 'VBZ'), ('with', 'IN'), ('a', 'DT'), ('tradition', 'NN'), ('that', 'WDT'), ('goes', 'VBZ'), ('from', 'IN'), ('Gauguin', 'NNP'), ('through', 'IN'), ('German', 'JJ'), ('Expressionism', 'NNP'), ('to', 'TO'), ('Bacon', 'NNP'), ('to', 'TO'), ('Peter', 'NNP'), ('Doig', 'NNP'), (':', ':'), ('It', 'PRP'), ('’', 'VBZ'), ('s', 'VBZ'), ('a', 'DT'), ('tradition', 'NN'), ('that', 'WDT'), ('is', 'VBZ'), ('the', 'DT'), ('hovering', 'VBG'), ('between', 'IN'), ('representation', 'NN'), ('and', 'CC'), ('abstraction.', 'JJ'), ('”', 'NNP'), ('Observing', 'NNP'), ('him', 'PRP'), ('up', 'RP'), ('close', 'RB'), (',', ','), ('Ofili', 'NNP'), ('sees', 'VBZ'), ('“', 'VBP'), ('a', 'DT'), ('deeper', 'JJR'), ('level', 'NN'), ('of', 'IN'), ('introspection', 'NN'), ('in', 'IN'), ('his', 'PRP$'), ('approach', 'NN'), ('now', 'RB'), ('.', '.'), ('”', 'VB'), ('Doig', 'NNP'), ('had', 'VBD'), ('lived', 'VBN'), ('in', 'IN'), ('Trinidad', 'NNP'), ('as', 'IN'), ('a', 'DT'), ('child', 'NN'), ('and', 'CC'), ('first', 'JJ'), ('returned', 'VBN'), ('in', 'IN'), ('2000', 'CD'), (',', ','), ('with', 'IN'), ('Ofili', 'NNP'), (',', ','), ('for', 'IN'), ('an', 'DT'), ('artist', 'NN'), ('’', 'NN'), ('s', 'JJ'), ('residency', 'NN'), ('.', '.'), ('“', 'VB'), ('It', 'PRP'), ('felt', 'VBD'), ('familiar', 'JJ'), (',', ','), ('”', 'IN'), ('he', 'PRP'), ('says', 'VBZ'), (',', ','), ('particularly', 'RB'), ('as', 'IN'), ('his', 'PRP$'), ('father', 'NN'), (',', ','), ('then', 'RB'), ('an', 'DT'), ('occasional', 'JJ'), ('painter', 'NN'), (',', ','), ('had', 'VBD'), ('collected', 'VBN'), ('pictures', 'NNS'), ('by', 'IN'), ('Trinidadian', 'JJ'), ('artists', 'NNS'), (',', ','), ('so', 'RB'), ('even', 'RB'), ('from', 'IN'), ('afar', 'NN'), (',', ','), ('“', 'NNP'), ('Trinidad', 'NNP'), ('was', 'VBD'), ('always', 'RB'), ('present', 'JJ'), ('in', 'IN'), ('our', 'PRP$'), ('house.', 'NN'), ('”', 'NN'), ('By', 'IN'), ('the', 'DT'), ('time', 'NN'), ('he', 'PRP'), ('moved', 'VBD'), ('there', 'RB'), (',', ','), ('partly', 'RB'), ('to', 'TO'), ('give', 'VB'), ('his', 'PRP$'), ('family', 'NN'), ('some', 'DT'), ('of', 'IN'), ('the', 'DT'), ('childhood', 'NN'), ('he', 'PRP'), ('’', 'VBZ'), ('d', 'JJ'), ('known', 'VBN'), (',', ','), ('he', 'PRP'), ('had', 'VBD'), ('become', 'VBN'), ('one', 'CD'), ('of', 'IN'), ('the', 'DT'), ('most', 'RBS'), ('sought-after', 'JJ'), ('painters', 'NNS'), ('of', 'IN'), ('his', 'PRP$'), ('generation', 'NN'), ('.', '.'), ('Unlike', 'IN'), ('Damien', 'NNP'), ('Hirst', 'NNP'), ('and', 'CC'), ('the', 'DT'), ('other', 'JJ'), ('Young', 'NNP'), ('British', 'JJ'), ('Artists', 'NNS'), ('who', 'WP'), ('became', 'VBD'), ('overnight', 'JJ'), ('sensations', 'NNS'), ('in', 'IN'), ('the', 'DT'), ('early', 'JJ'), ('Nineties', 'NNS'), (',', ','), ('Doig', 'NNP'), ('for', 'IN'), ('years', 'NNS'), ('worked', 'VBN'), ('under', 'IN'), ('the', 'DT'), ('radar', 'NN'), ('and', 'CC'), ('didn', 'NN'), ('’', 'VBP'), ('t', 'VB'), ('show', 'NN'), ('much', 'RB'), ('until', 'IN'), ('age', 'NN'), ('30', 'CD'), (',', ','), ('though', 'IN'), ('he', 'PRP'), ('was', 'VBD'), ('widely', 'RB'), ('admired', 'VBN'), ('by', 'IN'), ('his', 'PRP$'), ('peers', 'NNS'), ('.', '.'), ('But', 'CC'), ('in', 'IN'), ('2007', 'CD'), (',', ','), ('when', 'WRB'), ('his', 'PRP$'), ('1991', 'CD'), ('White', 'NNP'), ('Canoe', 'NNP'), (',', ','), ('a', 'DT'), ('nighttime', 'JJ'), ('scene', 'NN'), ('of', 'IN'), ('a', 'DT'), ('canoe', 'NN'), ('on', 'IN'), ('a', 'DT'), ('lake', 'NN'), (',', ','), ('was', 'VBD'), ('sold', 'VBN'), ('at', 'IN'), ('Sotheby', 'NNP'), ('’', 'NNP'), ('s', 'NN'), ('for', 'IN'), ('$', '$'), ('11.3', 'CD'), ('million', 'CD'), ('?', '.'), ('then', 'RB'), ('an', 'DT'), ('auction', 'NN'), ('record', 'NN'), ('for', 'IN'), ('a', 'DT'), ('living', 'JJ'), ('European', 'JJ'), ('artist', 'NN'), ('?', '.'), ('Doig', 'NNP'), ('went', 'VBD'), ('from', 'IN'), ('being', 'VBG'), ('“', 'PDT'), ('a', 'DT'), ('hero', 'NN'), ('to', 'TO'), ('other', 'JJ'), ('painters', 'NNS'), ('to', 'TO'), ('a', 'DT'), ('poster', 'NN'), ('child', 'NN'), ('of', 'IN'), ('the', 'DT'), ('excesses', 'NNS'), ('of', 'IN'), ('the', 'DT'), ('market', 'NN'), (',', ','), ('”', 'NNP'), ('says', 'VBZ'), ('Paul', 'NNP'), ('Schimmel', 'NNP'), (',', ','), ('chief', 'JJ'), ('curator', 'NN'), ('at', 'IN'), ('the', 'DT'), ('Museum', 'NNP'), ('of', 'IN'), ('Contemporary', 'NNP'), ('Art', 'NNP'), (',', ','), ('Los', 'NNP'), ('Angeles', 'NNP'), ('.', '.'), ('The', 'DT'), ('price', 'NN'), ('made', 'VBD'), ('Doig', 'NNP'), ('“', 'NNP'), ('nauseous', 'JJ'), (',', ','), ('”', 'NNP'), ('says', 'VBZ'), ('Schimmel', 'NNP'), (',', ','), ('recalling', 'VBG'), ('their', 'PRP$'), ('discussions', 'NNS'), ('.', '.'), ('“', 'CC'), ('As', 'IN'), ('an', 'DT'), ('artist', 'NN'), ('you', 'PRP'), ('lose', 'VBP'), ('a', 'DT'), ('little', 'JJ'), ('control', 'NN'), ('of', 'IN'), ('your', 'PRP$'), ('own', 'JJ'), ('identity.', 'NN'), ('”', 'NNP'), ('Afterward', 'NNP'), ('Doig', 'NNP'), ('made', 'VBD'), ('a', 'DT'), ('point', 'NN'), ('of', 'IN'), ('telling', 'VBG'), ('journalists', 'NNS'), ('that', 'IN'), ('he', 'PRP'), ('didn', 'VBZ'), ('’', 'JJ'), ('t', 'NNS'), ('receive', 'VBP'), ('the', 'DT'), ('money', 'NN'), (';', ':'), ('the', 'DT'), ('seller', 'NN'), ('did', 'VBD'), ('.', '.'), ('Without', 'IN'), ('prompting', 'VBG'), (',', ','), ('Doig', 'NNP'), ('refers', 'VBZ'), ('to', 'TO'), ('the', 'DT'), ('sale', 'NN'), (',', ','), ('saying', 'VBG'), ('“', 'IN'), ('the', 'DT'), ('way', 'NN'), ('auction', 'NN'), ('houses', 'NNS'), ('write', 'VBP'), ('about', 'RB'), ('paintings', 'NNS'), ('as', 'IN'), ('masterpieces', 'NNS'), ('seems', 'VBZ'), ('such', 'JJ'), ('an', 'DT'), ('absurd', 'JJ'), ('way', 'NN'), ('to', 'TO'), ('talk', 'VB'), ('about', 'IN'), ('a', 'DT'), ('contemporary', 'JJ'), ('work', 'NN'), ('of', 'IN'), ('art', 'NN'), ('.', '.'), ('I', 'PRP'), ('mean', 'VBP'), (',', ','), ('it', 'PRP'), ('’', 'VBZ'), ('s', 'JJ'), ('very', 'RB'), ('new', 'JJ'), ('.', '.'), ('A', 'DT'), ('masterpiece', 'NN'), ('?', '.'), ('It', 'PRP'), ('was', 'VBD'), ('never', 'RB'), ('in', 'IN'), ('my', 'PRP$'), ('mind', 'NN'), ('that', 'IN'), ('I', 'PRP'), ('was', 'VBD'), ('trying', 'VBG'), ('to', 'TO'), ('create', 'VB'), ('a', 'DT'), ('masterpiece', 'NN'), ('.', '.'), ('It', 'PRP'), ('was', 'VBD'), ('almost', 'RB'), ('anti', 'IN'), ('the', 'DT'), ('idea', 'NN'), ('of', 'IN'), ('a', 'DT'), ('masterpiece', 'NN'), ('.', '.'), ('”', 'VB'), ('Both', 'DT'), ('familiar', 'JJ'), ('and', 'CC'), ('strange', 'JJ'), (',', ','), ('Doig', 'NNP'), ('’', 'NNP'), ('s', 'NN'), ('pictures', 'NNS'), ('prompt', 'VBP'), ('a', 'DT'), ('sense', 'NN'), ('of', 'IN'), ('dislocation', 'NN'), ('in', 'IN'), ('the', 'DT'), ('viewer', 'NN'), (',', ','), ('which', 'WDT'), ('may', 'MD'), ('owe', 'VB'), ('something', 'NN'), ('to', 'TO'), ('his', 'PRP$'), ('own', 'JJ'), ('rootlessness', 'NN'), ('.', '.'), ('Born', 'NNP'), ('in', 'IN'), ('Edinburgh', 'NNP'), ('to', 'TO'), ('Scottish', 'VB'), ('parents', 'NNS'), (',', ','), ('Doig', 'NNP'), ('moved', 'VBD'), ('to', 'TO'), ('Trinidad', 'NNP'), ('at', 'IN'), ('age', 'NN'), ('two', 'CD'), (',', ','), ('Montreal', 'NNP'), ('at', 'IN'), ('seven', 'CD'), (',', ','), ('Toronto', 'NNP'), ('as', 'IN'), ('a', 'DT'), ('teen', 'NN'), ('and', 'CC'), ('then', 'RB'), ('to', 'TO'), ('London', 'NNP'), ('at', 'IN'), ('19', 'CD'), ('to', 'TO'), ('study', 'VB'), ('at', 'IN'), ('Central', 'NNP'), ('Saint', 'NNP'), ('Martins', 'NNP'), (',', ','), ('a', 'DT'), ('decision', 'NN'), ('fueled', 'VBN'), ('by', 'IN'), ('the', 'DT'), ('postpunk', 'NN'), ('musicians', 'VBZ'), ('he', 'PRP'), ('admired', 'VBD'), ('who', 'WP'), ('came', 'VBD'), ('out', 'IN'), ('of', 'IN'), ('art', 'JJ'), ('school', 'NN'), ('.', '.'), ('Doig', 'NNP'), ('’', 'NNP'), ('s', 'VBD'), ('father', 'NN'), ('was', 'VBD'), ('an', 'DT'), ('accountant', 'NN'), ('for', 'IN'), ('a', 'DT'), ('shipping', 'NN'), ('company', 'NN'), (';', ':'), ('his', 'PRP$'), ('mother', 'NN'), (',', ','), ('a', 'DT'), ('drama', 'NN'), ('teacher', 'NN'), (',', ','), ('and', 'CC'), ('at', 'IN'), ('first', 'RB'), ('he', 'PRP'), ('considered', 'VBD'), ('theater', 'NN'), ('design', 'NN'), (',', ','), ('thinking', 'VBG'), ('it', 'PRP'), ('was', 'VBD'), ('practical', 'JJ'), ('.', '.'), ('But', 'CC'), ('he', 'PRP'), ('quickly', 'RB'), ('switched', 'VBD'), ('to', 'TO'), ('painting', 'NN'), (',', ','), ('eagerly', 'RB'), ('imbibing', 'VBG'), ('the', 'DT'), ('city', 'NN'), ('’', 'NNP'), ('s', 'VBZ'), ('artistic', 'JJ'), ('scene', 'NN'), (',', ','), ('then', 'RB'), ('centered', 'VBD'), ('more', 'RBR'), ('on', 'IN'), ('nightclubs', 'NNS'), ('than', 'IN'), ('galleries', 'NNS'), ('.', '.'), ('A', 'DT'), ('cinephile', 'NN'), (',', ','), ('he', 'PRP'), ('made', 'VBD'), ('lists', 'NNS'), ('of', 'IN'), ('films', 'NNS'), ('he', 'PRP'), ('wanted', 'VBD'), ('to', 'TO'), ('see', 'VB'), ('and', 'CC'), ('hit', 'VB'), ('all', 'DT'), ('the', 'DT'), ('revival', 'NN'), ('houses', 'NNS'), (',', ','), ('recalling', 'VBG'), ('that', 'IN'), ('“', 'VBD'), ('it', 'PRP'), ('was', 'VBD'), ('amazing', 'VBG'), ('the', 'DT'), ('number', 'NN'), ('of', 'IN'), ('films', 'NNS'), ('you', 'PRP'), ('could', 'MD'), ('see', 'VB'), ('over', 'IN'), ('the', 'DT'), ('course', 'NN'), ('of', 'IN'), ('a', 'DT'), ('year', 'NN'), ('in', 'IN'), ('London', 'NNP'), ('”', 'NN'), ('at', 'IN'), ('that', 'DT'), ('time', 'NN'), ('.', '.'), ('He', 'PRP'), ('worked', 'VBD'), ('as', 'IN'), ('a', 'DT'), ('dresser', 'NN'), ('at', 'IN'), ('the', 'DT'), ('English', 'NNP'), ('National', 'NNP'), ('Opera', 'NNP'), ('and', 'CC'), ('appeared', 'VBD'), ('in', 'IN'), ('an', 'DT'), ('experimental', 'JJ'), ('film', 'NN'), ('by', 'IN'), ('his', 'PRP$'), ('friend', 'NN'), ('Derek', 'NNP'), ('Jarman', 'NNP'), (',', ','), ('while', 'IN'), ('making', 'VBG'), ('pictures', 'NNS'), ('he', 'PRP'), ('recalls', 'VBZ'), ('as', 'IN'), ('“', 'NN'), ('cartoonlike', 'NN'), ('and', 'CC'), ('urban.', 'JJ'), ('”', 'NN'), ('At', 'IN'), ('a', 'DT'), ('time', 'NN'), ('when', 'WRB'), ('being', 'VBG'), ('a', 'DT'), ('painter', 'NN'), ('was', 'VBD'), ('highly', 'RB'), ('unfashionable', 'JJ'), (',', ','), ('Doig', 'NNP'), ('had', 'VBD'), ('little', 'JJ'), ('luck', 'JJ'), ('launching', 'VBG'), ('his', 'PRP$'), ('career', 'NN'), ('and', 'CC'), ('moved', 'VBD'), ('to', 'TO'), ('Montreal', 'NNP'), (',', ','), ('where', 'WRB'), ('he', 'PRP'), ('mixed', 'VBD'), ('paints', 'NNS'), ('for', 'IN'), ('a', 'DT'), ('set', 'NN'), ('design', 'NN'), ('company', 'NN'), ('and', 'CC'), ('later', 'RB'), ('worked', 'VBN'), ('on', 'IN'), ('the', 'DT'), ('sets', 'NNS'), ('for', 'IN'), ('the', 'DT'), ('horror', 'NN'), ('flick', 'VBZ'), ('The', 'DT'), ('Amityville', 'NNP'), ('Curse', 'NNP'), ('.', '.'), ('He', 'PRP'), ('tried', 'VBD'), ('painting', 'VBG'), ('the', 'DT'), ('Canadian', 'JJ'), ('landscape', 'NN'), ('from', 'IN'), ('life', 'NN'), ('but', 'CC'), ('“', 'NNP'), ('felt', 'VBD'), ('a', 'DT'), ('bit', 'NN'), ('lost', 'VBN'), (',', ','), ('”', 'IN'), ('he', 'PRP'), ('says', 'VBZ'), (',', ','), ('and', 'CC'), ('worried', 'VBD'), ('that', 'IN'), ('he', 'PRP'), ('was', 'VBD'), ('becoming', 'VBG'), ('a', 'DT'), ('Sunday', 'NNP'), ('painter', 'NN'), ('.', '.'), ('One', 'CD'), ('day', 'NN'), ('at', 'IN'), ('his', 'PRP$'), ('parents', 'NNS'), ('’', 'VBP'), ('farm', 'NN'), ('outside', 'IN'), ('Toronto', 'NNP'), (',', ','), ('he', 'PRP'), ('caught', 'VBD'), ('a', 'DT'), ('glimpse', 'NN'), ('of', 'IN'), ('a', 'DT'), ('girl', 'NN'), ('slumped', 'VBN'), ('in', 'IN'), ('a', 'DT'), ('canoe', 'NN'), ('on', 'IN'), ('the', 'DT'), ('television', 'NN'), ('.', '.'), ('It', 'PRP'), ('was', 'VBD'), ('a', 'DT'), ('moment', 'NN'), ('from', 'IN'), ('Friday', 'NNP'), ('the', 'DT'), ('13th', 'CD'), ('?', '.'), ('which', 'WDT'), ('he', 'PRP'), ('played', 'VBD'), ('back', 'RP'), ('in', 'IN'), ('slow', 'JJ'), ('motion', 'NN'), ('so', 'IN'), ('he', 'PRP'), ('could', 'MD'), ('photograph', 'VB'), ('it', 'PRP'), ('.', '.'), ('Soon', 'CC'), ('he', 'PRP'), ('’', 'VBZ'), ('d', 'RB'), ('painted', 'VBN'), ('the', 'DT'), ('first', 'JJ'), ('of', 'IN'), ('many', 'JJ'), ('works', 'NNS'), ('inspired', 'VBN'), ('by', 'IN'), ('the', 'DT'), ('movie', 'NN'), ('.', '.'), ('“', 'VB'), ('It', 'PRP'), ('was', 'VBD'), ('unlike', 'IN'), ('anything', 'NN'), ('I', 'PRP'), ('’', 'VBP'), ('d', 'RB'), ('made', 'VBN'), ('before', 'IN'), (',', ','), ('”', 'NNP'), ('says', 'VBZ'), ('Doig', 'NNP'), (',', ','), ('who', 'WP'), ('recently', 'RB'), ('gave', 'VBD'), ('the', 'DT'), ('work', 'NN'), ('to', 'TO'), ('Ofili', 'VB'), ('in', 'IN'), ('what', 'WP'), ('he', 'PRP'), ('calls', 'VBZ'), ('“', 'PDT'), ('an', 'DT'), ('early', 'JJ'), ('days', 'NNS'), ('swap', 'NN'), ('.', '.'), ('”', 'CC'), ('Nearly', 'RB'), ('three', 'CD'), ('years', 'NNS'), ('after', 'IN'), ('leaving', 'VBG'), (',', ','), ('he', 'PRP'), ('returned', 'VBD'), ('to', 'TO'), ('London', 'NNP'), ('in', 'IN'), ('1989', 'CD'), ('as', 'IN'), ('a', 'DT'), ('master', 'NN'), (\"'s\", 'POS'), ('student', 'NN'), ('at', 'IN'), ('the', 'DT'), ('Chelsea', 'NNP'), ('College', 'NNP'), ('of', 'IN'), ('Art', 'NNP'), ('and', 'CC'), ('Design', 'NNP'), ('.', '.'), ('The', 'DT'), ('YBAs', 'NNP'), ('were', 'VBD'), ('just', 'RB'), ('emerging', 'VBG'), (',', ','), ('and', 'CC'), ('swimming', 'VBG'), ('against', 'IN'), ('the', 'DT'), ('conceptualist', 'NN'), ('tide', 'NN'), (',', ','), ('Doig', 'NNP'), ('entered', 'VBD'), ('one', 'CD'), ('of', 'IN'), ('the', 'DT'), ('most', 'RBS'), ('productive', 'JJ'), ('periods', 'NNS'), ('of', 'IN'), ('his', 'PRP$'), ('career', 'NN'), ('.', '.'), ('At', 'IN'), ('Chelsea', 'NNP'), ('he', 'PRP'), ('discovered', 'VBD'), ('the', 'DT'), ('possibilities', 'NNS'), ('of', 'IN'), ('paint', 'NN'), (',', ','), ('in', 'IN'), ('richly', 'RB'), ('textured', 'JJ'), ('surfaces', 'NNS'), (',', ','), ('and', 'CC'), ('how', 'WRB'), ('to', 'TO'), ('move', 'VB'), ('away', 'RB'), ('from', 'IN'), ('storytelling', 'VBG'), ('to', 'TO'), ('let', 'VB'), ('viewers', 'NNS'), ('bring', 'VB'), ('something', 'NN'), ('of', 'IN'), ('their', 'PRP$'), ('own', 'JJ'), ('to', 'TO'), ('the', 'DT'), ('picture', 'NN'), ('.', '.'), ('To', 'TO'), ('help', 'VB'), ('catalyze', 'VB'), ('his', 'PRP$'), ('memories', 'NNS'), (',', ','), ('he', 'PRP'), ('sometimes', 'RB'), ('went', 'VBD'), ('to', 'TO'), ('Canada', 'NNP'), ('House', 'NNP'), ('to', 'TO'), ('leaf', 'VB'), ('through', 'IN'), ('its', 'PRP$'), ('library', 'NN'), ('of', 'IN'), ('images', 'NNS'), ('and', 'CC'), ('made', 'VBD'), ('paintings', 'NNS'), ('that', 'WDT'), ('were', 'VBD'), ('deliberately', 'RB'), ('“', 'JJ'), ('homely', 'RB'), ('”', 'VBN'), ('?', '.'), ('two', 'CD'), ('deer', 'NN'), ('in', 'IN'), ('the', 'DT'), ('forest', 'NN'), (',', ','), ('rural', 'JJ'), ('cabins', 'NNS'), ('glimpsed', 'VBN'), ('through', 'IN'), ('trees', 'NNS'), ('.', '.'), ('In', 'IN'), ('1991', 'CD'), (',', ','), ('following', 'VBG'), ('a', 'DT'), ('few', 'JJ'), ('solo', 'NN'), ('exhibitions', 'NNS'), (',', ','), ('he', 'PRP'), ('nabbed', 'VBD'), ('a', 'DT'), ('major', 'JJ'), ('show', 'NN'), ('at', 'IN'), ('London', 'NNP'), ('’', 'NNP'), ('s', 'VBD'), ('Whitechapel', 'NNP'), ('Art', 'NNP'), ('Gallery', 'NNP'), ('by', 'IN'), ('winning', 'VBG'), ('an', 'DT'), ('award', 'NN'), (',', ','), ('and', 'CC'), ('in', 'IN'), ('1993', 'CD'), ('his', 'PRP$'), ('painting', 'NN'), ('Blotter', 'NNP'), (',', ','), ('based', 'VBN'), ('on', 'IN'), ('a', 'DT'), ('staged', 'JJ'), ('photograph', 'NN'), ('Doig', 'NNP'), ('had', 'VBD'), ('taken', 'VBN'), ('of', 'IN'), ('his', 'PRP$'), ('brother', 'NN'), ('standing', 'VBG'), ('on', 'IN'), ('an', 'DT'), ('icy', 'NN'), ('pond', 'NN'), ('absorbed', 'VBN'), ('in', 'IN'), ('his', 'PRP$'), ('own', 'JJ'), ('reflection', 'NN'), (',', ','), ('won', 'VBD'), ('the', 'DT'), ('prestigious', 'JJ'), ('John', 'NNP'), ('Moores', 'NNP'), ('Prize', 'NNP'), (',', ','), ('the', 'DT'), ('UK', 'NNP'), ('’', 'NNP'), ('s', 'VBD'), ('best-known', 'JJ'), ('contemporary', 'JJ'), ('painting', 'NN'), ('competition', 'NN'), ('.', '.'), ('The', 'DT'), ('following', 'JJ'), ('year', 'NN'), ('Doig', 'NNP'), ('was', 'VBD'), ('nominated', 'VBN'), ('for', 'IN'), ('the', 'DT'), ('careermaking', 'NN'), ('Turner', 'NNP'), ('Prize', 'NNP'), ('and', 'CC'), ('landed', 'VBD'), ('dealers', 'NNS'), ('in', 'IN'), ('London', 'NNP'), (',', ','), ('New', 'NNP'), ('York', 'NNP'), ('and', 'CC'), ('Berlin', 'NNP'), ('.', '.'), ('Doig', 'NNP'), ('likes', 'VBZ'), ('to', 'TO'), ('revisit', 'VB'), ('his', 'PRP$'), ('subjects', 'NNS'), (',', ','), ('and', 'CC'), ('the', 'DT'), ('lone', 'NN'), ('figure', 'NN'), ('in', 'IN'), ('the', 'DT'), ('landscape', 'NN'), ('is', 'VBZ'), ('a', 'DT'), ('recurring', 'VBG'), ('image', 'NN'), ('.', '.'), ('“', 'VB'), ('There', 'EX'), ('’', 'NNP'), ('s', 'VBD'), ('a', 'DT'), ('hovering', 'NN'), ('darkness', 'NN'), ('in', 'IN'), ('some', 'DT'), ('of', 'IN'), ('his', 'PRP$'), ('work', 'NN'), (',', ','), ('”', 'NNP'), ('says', 'VBZ'), ('curator', 'NN'), ('and', 'CC'), ('critic', 'JJ'), ('Bruce', 'NNP'), ('Ferguson', 'NNP'), (',', ','), ('the', 'DT'), ('former', 'JJ'), ('dean', 'NN'), ('of', 'IN'), ('the', 'DT'), ('School', 'NNP'), ('of', 'IN'), ('the', 'DT'), ('Arts', 'NNS'), ('at', 'IN'), ('Columbia', 'NNP'), ('University', 'NNP'), (',', ','), ('who', 'WP'), ('has', 'VBZ'), ('known', 'VBN'), ('Doig', 'NNP'), ('for', 'IN'), ('several', 'JJ'), ('years', 'NNS'), ('.', '.'), ('“', 'NN'), ('At', 'IN'), ('first', 'JJ'), ('you', 'PRP'), ('say', 'VBP'), (',', ','), ('Oh', 'UH'), (',', ','), ('a', 'DT'), ('mountain', 'NN'), ('painting', 'NN'), ('with', 'IN'), ('a', 'DT'), ('skier', 'NN'), (',', ','), ('and', 'CC'), ('then', 'RB'), ('you', 'PRP'), ('suddenly', 'RB'), ('think', 'VBP'), (',', ','), ('It', 'PRP'), ('’', 'VBZ'), ('s', 'NNS'), ('such', 'JJ'), ('a', 'DT'), ('big', 'JJ'), ('mountain', 'NN'), ('and', 'CC'), ('such', 'PDT'), ('a', 'DT'), ('small', 'JJ'), ('skier', 'NN'), ('.', '.'), ('There', 'EX'), ('’', 'JJ'), ('s', 'VBD'), ('a', 'DT'), ('kind', 'NN'), ('of', 'IN'), ('existential', 'JJ'), ('terror', 'NN'), ('around', 'IN'), ('the', 'DT'), ('edges.', 'NN'), ('”', 'NNP'), ('Whitechapel', 'NNP'), ('director', 'NN'), ('Iwona', 'NNP'), ('Blazwick', 'NNP'), ('points', 'NNS'), ('to', 'TO'), ('the', 'DT'), ('“', 'NNP'), ('Blair', 'NNP'), ('Witch', 'NNP'), ('feeling', 'VBG'), ('”', 'NN'), ('in', 'IN'), ('such', 'JJ'), ('iconic', 'JJ'), ('Doig', 'NNP'), ('paintings', 'NNS'), ('as', 'IN'), ('100', 'CD'), ('Years', 'NNS'), ('Ago', 'RB'), (',', ','), ('2001', 'CD'), (',', ','), ('in', 'IN'), ('which', 'WDT'), ('a', 'DT'), ('bearded', 'VBN'), (',', ','), ('long-haired', 'JJ'), ('man', 'NN'), ('in', 'IN'), ('black', 'JJ'), (',', ','), ('modeled', 'VBN'), ('on', 'IN'), ('Berry', 'NNP'), ('Oakley', 'NNP'), ('of', 'IN'), ('the', 'DT'), ('Allman', 'NNP'), ('Brothers', 'NNPS'), (',', ','), ('sits', 'NNS'), ('becalmed', 'VBN'), ('in', 'IN'), ('a', 'DT'), ('canoe', 'NN'), ('in', 'IN'), ('the', 'DT'), ('middle', 'NN'), ('of', 'IN'), ('a', 'DT'), ('lake', 'NN'), ('.', '.'), ('“', 'VB'), ('It', 'PRP'), ('has', 'VBZ'), ('the', 'DT'), ('point', 'NN'), ('of', 'IN'), ('view', 'NN'), ('you', 'PRP'), ('get', 'VBP'), ('in', 'IN'), ('horror', 'NN'), ('movies', 'NNS'), (',', ','), ('where', 'WRB'), ('the', 'DT'), ('angle', 'NN'), ('of', 'IN'), ('a', 'DT'), ('camera', 'NN'), ('can', 'MD'), ('make', 'VB'), ('something', 'NN'), ('bucolic', 'JJ'), ('suddenly', 'RB'), ('seem', 'VBP'), ('very', 'RB'), ('threatening', 'JJ'), (',', ','), ('”', 'NNP'), ('says', 'VBZ'), ('Blazwick', 'NNP'), (',', ','), ('who', 'WP'), ('gave', 'VBD'), ('Doig', 'NNP'), ('his', 'PRP$'), ('second', 'JJ'), ('solo', 'NN'), ('show', 'NN'), ('in', 'IN'), ('1986', 'CD'), ('when', 'WRB'), ('she', 'PRP'), ('ran', 'VBD'), ('London', 'NNP'), ('’', 'NNP'), ('s', 'VBD'), ('Air', 'NNP'), ('Gallery', 'NNP'), ('.', '.'), ('100', 'CD'), ('Years', 'NNS'), ('Ago', 'NNP'), ('was', 'VBD'), ('inspired', 'VBN'), ('by', 'IN'), ('Matisse', 'NNP'), ('’', 'NNP'), ('s', 'NN'), ('1908', 'CD'), ('Bathers', 'NNP'), ('With', 'IN'), ('a', 'DT'), ('Turtle', 'NNP'), (',', ','), ('which', 'WDT'), ('Doig', 'NNP'), ('calls', 'VBZ'), ('“', 'JJ'), ('one', 'CD'), ('of', 'IN'), ('the', 'DT'), ('greatest', 'JJS'), ('paintings', 'NNS'), ('I', 'PRP'), ('’', 'VBP'), ('ve', 'JJ'), ('ever', 'RB'), ('seen.', 'VBP'), ('”', 'JJ'), ('Hearing', 'NNP'), ('him', 'PRP'), ('describe', 'VB'), ('its', 'PRP$'), ('merits', 'NNS'), (',', ','), ('you', 'PRP'), ('can', 'MD'), ('’', 'VB'), ('t', 'VB'), ('help', 'NN'), ('thinking', 'NN'), ('of', 'IN'), ('Doig', 'NNP'), ('’', 'NNP'), ('s', 'VBD'), ('own', 'JJ'), ('paintings', 'NNS'), (':', ':'), ('“', 'NN'), ('There', 'EX'), ('’', 'NNP'), ('s', 'VBD'), ('so', 'RB'), ('much', 'JJ'), ('to', 'TO'), ('look', 'VB'), ('at', 'IN'), (',', ','), ('and', 'CC'), ('yet', 'RB'), ('it', 'PRP'), ('’', 'VBZ'), ('s', 'NNS'), ('so', 'RB'), ('empty', 'JJ'), ('and', 'CC'), ('so', 'RB'), ('vague', 'JJ'), ('in', 'IN'), ('what', 'WP'), ('it', 'PRP'), ('’', 'VBD'), ('s', 'JJ'), ('depicting', 'NN'), (',', ','), ('”', 'IN'), ('he', 'PRP'), ('says', 'VBZ'), ('.', '.'), ('“', 'VB'), ('It', 'PRP'), ('’', 'NNP'), ('s', 'VBZ'), ('so', 'RB'), ('brave', 'JJ'), ('in', 'IN'), ('its', 'PRP$'), ('division', 'NN'), ('of', 'IN'), ('space', 'NN'), (',', ','), ('and', 'CC'), ('it', 'PRP'), ('constantly', 'RB'), ('confuses', 'VBZ'), ('you', 'PRP'), ('because', 'IN'), ('you', 'PRP'), ('don', 'VBP'), ('’', 'JJ'), ('t', 'NN'), ('know', 'VBP'), ('really', 'RB'), ('what', 'WP'), ('you', 'PRP'), ('’', 'VBP'), ('re', 'JJ'), ('looking', 'VBG'), ('at', 'IN'), ('.', '.'), ('It', 'PRP'), ('seems', 'VBZ'), ('to', 'TO'), ('be', 'VB'), ('a', 'DT'), ('constantly', 'RB'), ('questioning', 'VBG'), ('painting', 'NN'), ('and', 'CC'), (',', ','), ('in', 'IN'), ('many', 'JJ'), ('ways', 'NNS'), (',', ','), ('incomplete', 'NN'), ('.', '.'), ('”', 'NN'), ('Among', 'IN'), ('his', 'PRP$'), ('own', 'JJ'), ('works', 'NNS'), (',', ','), ('Figure', 'NNP'), ('in', 'IN'), ('a', 'DT'), ('Mountain', 'NNP'), ('Landscape', 'NNP'), (',', ','), ('1997', 'CD'), ('?', '.'), ('98', 'CD'), (',', ','), ('is', 'VBZ'), ('a', 'DT'), ('particular', 'JJ'), ('favorite', 'NN'), ('of', 'IN'), ('Doig', 'NNP'), ('’', 'NNP'), ('s', 'NN'), ('.', '.'), ('Drawn', 'VBN'), ('from', 'IN'), ('a', 'DT'), ('1935', 'CD'), ('photograph', 'NN'), ('of', 'IN'), ('the', 'DT'), ('Canadian', 'JJ'), ('artist', 'NN'), ('Franklin', 'NNP'), ('Carmichael', 'NNP'), ('painting', 'VBG'), ('from', 'IN'), ('nature', 'NN'), (',', ','), ('it', 'PRP'), ('shows', 'VBZ'), ('the', 'DT'), ('hooded', 'JJ'), ('Carmichael', 'NNP'), ('seen', 'VBN'), ('from', 'IN'), ('behind', 'NN'), ('.', '.'), ('Beyond', 'NNP'), ('him', 'PRP'), ('is', 'VBZ'), ('the', 'DT'), ('view', 'NN'), ('he', 'PRP'), ('is', 'VBZ'), ('attempting', 'VBG'), ('to', 'TO'), ('capture', 'VB'), ('on', 'IN'), ('his', 'PRP$'), ('easel', 'NN'), ('.', '.'), ('“', 'VB'), ('It', 'PRP'), ('was', 'VBD'), ('such', 'JJ'), ('a', 'DT'), ('struggle', 'NN'), (',', ','), ('”', 'NNP'), ('Doig', 'NNP'), ('recalls', 'VBZ'), ('.', '.'), ('“', 'VB'), ('How', 'WRB'), ('to', 'TO'), ('make', 'VB'), ('him', 'PRP'), ('not', 'RB'), ('too', 'RB'), ('warlock-like', 'JJ'), ('or', 'CC'), ('comic.', 'JJ'), ('”', 'JJ'), ('Ofili', 'NNP'), ('remembers', 'NNS'), ('Doig', 'NNP'), ('calling', 'VBG'), ('him', 'PRP'), ('one', 'CD'), ('night', 'NN'), ('to', 'TO'), ('“', 'VB'), ('tell', 'VB'), ('me', 'PRP'), ('he', 'PRP'), ('’', 'VBD'), ('d', 'NN'), ('made', 'VBD'), ('a', 'DT'), ('big', 'JJ'), ('breakthrough', 'NN'), ('.', '.'), ('The', 'DT'), ('breakthrough', 'NN'), ('is', 'VBZ'), ('the', 'DT'), ('figure', 'NN'), ('becoming', 'VBG'), ('part', 'NN'), ('of', 'IN'), ('the', 'DT'), ('landscape', 'NN'), ('and', 'CC'), ('the', 'DT'), ('landscape', 'NN'), ('becoming', 'VBG'), ('part', 'NN'), ('of', 'IN'), ('the', 'DT'), ('figure', 'NN'), ('.', '.'), ('That', 'DT'), ('for', 'IN'), ('me', 'PRP'), ('is', 'VBZ'), ('emblematic', 'JJ'), ('when', 'WRB'), ('I', 'PRP'), ('think', 'VBP'), ('of', 'IN'), ('Peter', 'NNP'), ('developing', 'VBG'), ('his', 'PRP$'), ('work.', 'NN'), ('”', 'VBD'), ('His', 'PRP$'), ('“', 'JJ'), ('exquisite', 'JJ'), ('touch', 'NN'), (',', ','), ('”', 'CC'), ('as', 'IN'), ('Schimmel', 'NNP'), ('refers', 'NNS'), ('to', 'TO'), ('the', 'DT'), ('way', 'NN'), ('he', 'PRP'), ('handles', 'VBZ'), ('paint', 'NN'), (',', ','), ('is', 'VBZ'), ('another', 'DT'), ('striking', 'JJ'), ('feature', 'NN'), ('of', 'IN'), ('Doig', 'NNP'), ('’', 'NNP'), ('s', 'NN'), ('pictures', 'NNS'), ('.', '.'), ('“', 'VB'), ('You', 'PRP'), ('get', 'VB'), ('a', 'DT'), ('sense', 'NN'), ('of', 'IN'), ('not', 'RB'), ('only', 'RB'), ('what', 'WP'), ('he', 'PRP'), ('’', 'VBD'), ('s', 'JJ'), ('painting', 'NN'), (',', ','), ('”', 'IN'), ('he', 'PRP'), ('says', 'VBZ'), (',', ','), ('“', 'NNP'), ('but', 'CC'), ('of', 'IN'), ('how', 'WRB'), ('he', 'PRP'), ('’', 'VBZ'), ('s', 'JJ'), ('painting', 'NN'), ('.', '.'), ('”', 'NN'), ('In', 'IN'), ('Trinidad', 'NNP'), ('Doig', 'NNP'), ('may', 'MD'), ('be', 'VB'), ('geographically', 'RB'), ('isolated', 'JJ'), (',', ','), ('but', 'CC'), ('he', 'PRP'), ('’', 'VBZ'), ('s', 'JJ'), ('no', 'DT'), ('Gauguin', 'NNP'), ('in', 'IN'), ('Tahiti', 'NNP'), ('.', '.'), ('For', 'IN'), ('one', 'CD'), ('thing', 'NN'), (',', ','), ('Doig', 'NNP'), ('tells', 'VBZ'), ('me', 'PRP'), (',', ','), ('Trinidad', 'NNP'), ('is', 'VBZ'), ('not', 'RB'), ('quite', 'RB'), ('the', 'DT'), ('tropical', 'JJ'), ('paradise', 'NN'), ('many', 'JJ'), ('imagine', 'NN'), (':', ':'), ('Port', 'NN'), ('of', 'IN'), ('Spain', 'NNP'), ('is', 'VBZ'), ('not', 'RB'), ('a', 'DT'), ('resort', 'NN'), ('town', 'NN'), (',', ','), ('the', 'DT'), ('seas', 'NNS'), ('can', 'MD'), ('be', 'VB'), ('rough', 'JJ'), (',', ','), ('and', 'CC'), ('violent', 'JJ'), ('crime', 'NN'), ('is', 'VBZ'), ('on', 'IN'), ('the', 'DT'), ('rise', 'NN'), ('.', '.'), ('But', 'CC'), ('it', 'PRP'), ('’', 'NNP'), ('s', 'NN'), ('also', 'RB'), ('considered', 'VBN'), ('the', 'DT'), ('most', 'RBS'), ('culturally', 'RB'), ('diverse', 'JJ'), ('island', 'NN'), ('in', 'IN'), ('the', 'DT'), ('Caribbean', 'NNP'), ('.', '.'), ('Ofili', 'NNP'), ('calls', 'VBZ'), ('it', 'PRP'), ('“', 'NNP'), ('secretive', 'JJ'), ('.', '.'), ('It', 'PRP'), ('’', 'VBD'), ('s', 'JJ'), ('difficult', 'JJ'), ('to', 'TO'), ('figure', 'VB'), ('out', 'RP'), ('what', 'WP'), ('makes', 'VBZ'), ('this', 'DT'), ('place', 'NN'), ('tick', 'NN'), (',', ','), ('and', 'CC'), ('for', 'IN'), ('an', 'DT'), ('artist', 'NN'), (',', ','), ('that', 'WDT'), ('is', 'VBZ'), ('something', 'NN'), ('to', 'TO'), ('feed', 'VB'), ('off.', 'JJ'), ('”', 'NNP'), ('Doig', 'NNP'), ('’', 'NNP'), ('s', 'VBD'), ('Music', 'NNP'), ('of', 'IN'), ('the', 'DT'), ('Future', 'NNP'), (',', ','), ('a', 'DT'), ('brooding', 'NN'), ('work', 'NN'), ('showing', 'VBG'), ('groups', 'NNS'), ('of', 'IN'), ('people', 'NNS'), ('loitering', 'VBG'), ('on', 'IN'), ('the', 'DT'), ('savannah', 'NN'), (',', ','), ('alludes', 'VBZ'), ('to', 'TO'), ('the', 'DT'), ('island', 'NN'), ('’', 'NNP'), ('s', 'VBD'), ('nocturnal', 'JJ'), ('culture', 'NN'), ('.', '.'), ('“', 'NN'), ('I', 'PRP'), ('didn', 'VBP'), ('’', 'JJ'), ('t', 'NN'), ('want', 'VBP'), ('to', 'TO'), ('get', 'VB'), ('into', 'IN'), ('the', 'DT'), ('specifics', 'NNS'), ('of', 'IN'), ('the', 'DT'), ('people', 'NNS'), (',', ','), ('”', 'IN'), ('he', 'PRP'), ('says', 'VBZ'), ('.', '.'), ('“', 'VB'), ('It', 'PRP'), ('was', 'VBD'), ('more', 'RBR'), ('about', 'IN'), ('atmosphere', 'RB'), ('and', 'CC'), ('the', 'DT'), ('feeling', 'NN'), ('of', 'IN'), ('time', 'NN'), ('of', 'IN'), ('night.', 'JJ'), ('”', 'VBP'), ('The', 'DT'), ('trap', 'NN'), ('in', 'IN'), ('painting', 'VBG'), ('Trinidad', 'NNP'), (',', ','), ('he', 'PRP'), ('says', 'VBZ'), (',', ','), ('lies', 'VBZ'), ('in', 'IN'), ('exoticizing', 'VBG'), ('the', 'DT'), ('ordinary', 'JJ'), ('.', '.'), ('“', 'NN'), ('You', 'PRP'), ('see', 'VBP'), ('potential', 'JJ'), ('subjects', 'NNS'), ('for', 'IN'), ('paintings', 'NNS'), ('all', 'PDT'), ('the', 'DT'), ('time', 'NN'), (',', ','), ('but', 'CC'), ('then', 'RB'), ('you', 'PRP'), ('wonder', 'VBP'), ('if', 'IN'), ('you', 'PRP'), ('’', 'VBP'), ('re', 'VB'), ('just', 'RB'), ('being', 'VBG'), ('seduced', 'VBN'), ('by', 'IN'), ('what', 'WP'), ('’', 'NNP'), ('s', 'VBD'), ('very', 'RB'), ('ordinary', 'JJ'), ('.', '.'), ('So', 'NNP'), ('how', 'WRB'), ('do', 'VBP'), ('you', 'PRP'), ('find', 'VB'), ('your', 'PRP$'), ('voice', 'NN'), ('here', 'RB'), ('?', '.'), ('”', 'VB'), ('One', 'CD'), ('way', 'NN'), ('is', 'VBZ'), ('to', 'TO'), ('make', 'VB'), ('himself', 'PRP'), ('an', 'DT'), ('integral', 'JJ'), ('part', 'NN'), ('of', 'IN'), ('the', 'DT'), ('local', 'JJ'), ('scene', 'NN'), ('.', '.'), ('A', 'DT'), ('“', 'JJ'), ('magpie', 'NN'), ('of', 'IN'), ('culture', 'NN'), (',', ','), ('”', 'NN'), ('according', 'VBG'), ('to', 'TO'), ('Blazwick', 'NNP'), (',', ','), ('Doig', 'NNP'), ('runs', 'VBZ'), ('a', 'DT'), ('film', 'NN'), ('club', 'NN'), ('in', 'IN'), ('his', 'PRP$'), ('studio', 'NN'), ('with', 'IN'), ('artist', 'JJ'), ('Che', 'NNP'), ('Lovelace', 'NNP'), (',', ','), ('and', 'CC'), ('he', 'PRP'), ('not', 'RB'), ('only', 'RB'), ('selects', 'NNS'), ('and', 'CC'), ('screens', 'VBZ'), ('the', 'DT'), ('films', 'NNS'), ('?', '.'), ('usually', 'RB'), ('independent', 'JJ'), ('fare', 'NN'), ('?', '.'), ('but', 'CC'), ('also', 'RB'), ('paints', 'VBZ'), ('the', 'DT'), ('poster', 'NN'), ('most', 'RBS'), ('weeks', 'NNS'), ('.', '.'), ('It', 'PRP'), ('’', 'VBZ'), ('s', 'VBZ'), ('a', 'DT'), ('project', 'NN'), ('he', 'PRP'), ('finds', 'VBZ'), ('liberating', 'NN'), (',', ','), ('he', 'PRP'), ('says', 'VBZ'), (',', ','), ('“', 'NN'), ('because', 'IN'), ('it', 'PRP'), ('’', 'VBZ'), ('s', 'RB'), ('much', 'RB'), ('more', 'RBR'), ('immediate.', 'JJ'), ('”', 'NN'), ('Still', 'RB'), (',', ','), ('Trinidad', 'NNP'), ('remains', 'VBZ'), ('something', 'NN'), ('of', 'IN'), ('an', 'DT'), ('experiment', 'NN'), ('.', '.'), ('“', 'NN'), ('I', 'PRP'), ('sometimes', 'RB'), ('think', 'VBP'), ('that', 'IN'), ('maybe', 'RB'), ('I', 'PRP'), ('won', 'VBD'), ('’', 'NNP'), ('t', 'NN'), ('use', 'NN'), ('these', 'DT'), ('experiences', 'NNS'), ('or', 'CC'), ('this', 'DT'), ('information', 'NN'), ('for', 'IN'), ('another', 'DT'), ('10', 'CD'), ('years', 'NNS'), (',', ','), ('”', 'NNP'), ('Doig', 'NNP'), ('tells', 'VBZ'), ('me', 'PRP'), ('over', 'IN'), ('a', 'DT'), ('late', 'JJ'), ('lunch', 'NN'), ('of', 'IN'), ('fried', 'VBN'), ('shark', 'NN'), ('sandwiches', 'NNS'), ('on', 'IN'), ('nearby', 'JJ'), ('Maracas', 'NNP'), ('Beach', 'NNP'), ('.', '.'), ('“', 'CC'), ('Maybe', 'RB'), ('it', 'PRP'), ('’', 'VBZ'), ('s', 'VB'), ('too', 'RB'), ('soon', 'RB'), ('.', '.'), ('Or', 'CC'), ('maybe', 'RB'), ('I', 'PRP'), ('’', 'VBP'), ('ve', 'JJ'), ('got', 'VBD'), ('to', 'TO'), ('become', 'VB'), ('a', 'DT'), ('different', 'JJ'), ('kind', 'NN'), ('of', 'IN'), ('painter', 'NN'), ('.', '.'), ('Maybe', 'RB'), ('that', 'IN'), ('’', 'NNP'), ('s', 'VBD'), ('what', 'WP'), ('’', 'NNP'), ('s', 'VBD'), ('happening', 'VBG'), ('.', '.'), ('”', 'NN')]\n"
     ]
    }
   ],
   "source": [
    "## POS tagging\n",
    "tagged = nltk.pos_tag(tokens)\n",
    "print(tagged)"
   ]
  },
  {
   "cell_type": "code",
   "execution_count": 29,
   "metadata": {},
   "outputs": [],
   "source": [
    "## stemming\n",
    "import nltk\n",
    "from nltk.stem import PorterStemmer\n",
    "from nltk.tokenize import word_tokenize\n",
    "ps = PorterStemmer()\n",
    "\n",
    "text1 = \"He is running faster than her.\"\n",
    "text2 = \"My cats are swimming in the pool with the birds\"\n",
    "text3 = \"He is taller than me\""
   ]
  },
  {
   "cell_type": "code",
   "execution_count": 30,
   "metadata": {},
   "outputs": [
    {
     "data": {
      "text/plain": [
       "'love'"
      ]
     },
     "execution_count": 30,
     "metadata": {},
     "output_type": "execute_result"
    }
   ],
   "source": [
    "ps.stem(\"loving\")"
   ]
  },
  {
   "cell_type": "code",
   "execution_count": 31,
   "metadata": {},
   "outputs": [
    {
     "data": {
      "text/plain": [
       "'car'"
      ]
     },
     "execution_count": 31,
     "metadata": {},
     "output_type": "execute_result"
    }
   ],
   "source": [
    "ps.stem(\"cars\")"
   ]
  },
  {
   "cell_type": "code",
   "execution_count": 32,
   "metadata": {},
   "outputs": [
    {
     "data": {
      "text/plain": [
       "'children'"
      ]
     },
     "execution_count": 32,
     "metadata": {},
     "output_type": "execute_result"
    }
   ],
   "source": [
    "ps.stem(\"children\")  # not work"
   ]
  },
  {
   "cell_type": "code",
   "execution_count": 33,
   "metadata": {
    "scrolled": true
   },
   "outputs": [
    {
     "data": {
      "text/plain": [
       "'feet'"
      ]
     },
     "execution_count": 33,
     "metadata": {},
     "output_type": "execute_result"
    }
   ],
   "source": [
    "ps.stem(\"feet\")  # not work"
   ]
  },
  {
   "cell_type": "code",
   "execution_count": 34,
   "metadata": {
    "scrolled": true
   },
   "outputs": [
    {
     "name": "stdout",
     "output_type": "stream",
     "text": [
      "H\n",
      "e\n",
      " \n",
      "i\n",
      "s\n",
      " \n",
      "r\n",
      "u\n",
      "n\n",
      "n\n",
      "i\n",
      "n\n",
      "g\n",
      " \n",
      "f\n",
      "a\n",
      "s\n",
      "t\n",
      "e\n",
      "r\n",
      " \n",
      "t\n",
      "h\n",
      "a\n",
      "n\n",
      " \n",
      "h\n",
      "e\n",
      "r\n",
      ".\n"
     ]
    }
   ],
   "source": [
    "# 토큰화 먼저 해야함, 잘못된 예시\n",
    "for w in text1:\n",
    "    print(ps.stem(w))"
   ]
  },
  {
   "cell_type": "code",
   "execution_count": 41,
   "metadata": {},
   "outputs": [
    {
     "name": "stdout",
     "output_type": "stream",
     "text": [
      "['He', 'is', 'running', 'faster', 'than', 'her', '.']\n"
     ]
    },
    {
     "data": {
      "text/plain": [
       "['He', 'is', 'run', 'faster', 'than', 'her', '.']"
      ]
     },
     "execution_count": 41,
     "metadata": {},
     "output_type": "execute_result"
    }
   ],
   "source": [
    "# 맞게 푼 예시\n",
    "tokens = word_tokenize(text1)\n",
    "print(tokens)\n",
    "[ps.stem(i) for i in tokens]"
   ]
  },
  {
   "cell_type": "code",
   "execution_count": 42,
   "metadata": {},
   "outputs": [],
   "source": [
    "## lemmatization\n",
    "import nltk\n",
    "from nltk.tokenize import word_tokenize\n",
    "from nltk.stem import WordNetLemmatizer\n",
    "lem = WordNetLemmatizer()"
   ]
  },
  {
   "cell_type": "code",
   "execution_count": 43,
   "metadata": {},
   "outputs": [
    {
     "data": {
      "text/plain": [
       "'running'"
      ]
     },
     "execution_count": 43,
     "metadata": {},
     "output_type": "execute_result"
    }
   ],
   "source": [
    "# 동사랑 형용사는 잘 안됨\n",
    "lem.lemmatize(\"running\")"
   ]
  },
  {
   "cell_type": "code",
   "execution_count": 21,
   "metadata": {},
   "outputs": [
    {
     "data": {
      "text/plain": [
       "'supported'"
      ]
     },
     "execution_count": 21,
     "metadata": {},
     "output_type": "execute_result"
    }
   ],
   "source": [
    "lem.lemmatize(\"supported\")"
   ]
  },
  {
   "cell_type": "code",
   "execution_count": 22,
   "metadata": {},
   "outputs": [
    {
     "data": {
      "text/plain": [
       "'best'"
      ]
     },
     "execution_count": 22,
     "metadata": {},
     "output_type": "execute_result"
    }
   ],
   "source": [
    "lem.lemmatize(\"best\")"
   ]
  },
  {
   "cell_type": "code",
   "execution_count": 24,
   "metadata": {},
   "outputs": [
    {
     "data": {
      "text/plain": [
       "'run'"
      ]
     },
     "execution_count": 24,
     "metadata": {},
     "output_type": "execute_result"
    }
   ],
   "source": [
    "# lemmatize 함수는 2 arguments를 취하는 함수, 토큰과 품사(default = 'n')\n",
    "lem.lemmatize(\"running\", pos='v')"
   ]
  },
  {
   "cell_type": "code",
   "execution_count": 44,
   "metadata": {},
   "outputs": [
    {
     "data": {
      "text/plain": [
       "'support'"
      ]
     },
     "execution_count": 44,
     "metadata": {},
     "output_type": "execute_result"
    }
   ],
   "source": [
    "lem.lemmatize(\"supported\", pos='v')"
   ]
  },
  {
   "cell_type": "code",
   "execution_count": 45,
   "metadata": {},
   "outputs": [
    {
     "data": {
      "text/plain": [
       "'be'"
      ]
     },
     "execution_count": 45,
     "metadata": {},
     "output_type": "execute_result"
    }
   ],
   "source": [
    "lem.lemmatize(\"been\", pos='v')"
   ]
  },
  {
   "cell_type": "code",
   "execution_count": 46,
   "metadata": {},
   "outputs": [
    {
     "data": {
      "text/plain": [
       "'happy'"
      ]
     },
     "execution_count": 46,
     "metadata": {},
     "output_type": "execute_result"
    }
   ],
   "source": [
    "lem.lemmatize(\"happier\", pos='a')"
   ]
  },
  {
   "cell_type": "code",
   "execution_count": 47,
   "metadata": {},
   "outputs": [
    {
     "data": {
      "text/plain": [
       "'bad'"
      ]
     },
     "execution_count": 47,
     "metadata": {},
     "output_type": "execute_result"
    }
   ],
   "source": [
    "lem.lemmatize(\"worst\", pos='a')"
   ]
  },
  {
   "cell_type": "code",
   "execution_count": 48,
   "metadata": {},
   "outputs": [
    {
     "data": {
      "text/plain": [
       "'bad'"
      ]
     },
     "execution_count": 48,
     "metadata": {},
     "output_type": "execute_result"
    }
   ],
   "source": [
    "lem.lemmatize(\"worse\", pos='a')"
   ]
  },
  {
   "cell_type": "code",
   "execution_count": 49,
   "metadata": {},
   "outputs": [
    {
     "name": "stdout",
     "output_type": "stream",
     "text": [
      "['The', 'children', 'were', 'given', 'a', 'book', '.']\n",
      "[('The', 'DT'), ('children', 'NNS'), ('were', 'VBD'), ('given', 'VBN'), ('a', 'DT'), ('book', 'NN'), ('.', '.')]\n"
     ]
    }
   ],
   "source": [
    "sent = \"The children were given a book.\"\n",
    "tokens = nltk.word_tokenize(sent)\n",
    "tag = nltk.pos_tag(tokens)\n",
    "print(tokens)\n",
    "print(tag)"
   ]
  },
  {
   "cell_type": "code",
   "execution_count": 50,
   "metadata": {},
   "outputs": [],
   "source": [
    "# sent의 token을 모두 원형(lemma) 형태로 반환해보자\n",
    "# 1번째 방법\n",
    "lemList = []\n",
    "for i in tag :\n",
    "    if (i[1] in ('VBP','VBG','VBN','VBD','VBZ')):\n",
    "        lemWord = lem.lemmatize(i[0], pos='v')\n",
    "    else:\n",
    "        lemWord = lem.lemmatize(i[0])\n",
    "    lemList.append(lemWord)"
   ]
  },
  {
   "cell_type": "code",
   "execution_count": 51,
   "metadata": {},
   "outputs": [],
   "source": [
    "# 2번째 방법\n",
    "lemList2 = []\n",
    "for (a, b) in tag:\n",
    "    if a != '.':\n",
    "        if b.startswith('JJ'):\n",
    "            lemList2 += [lem.lemmatize(a, pos='a')]\n",
    "        elif b.startswith('V'):\n",
    "            lemList2 += [lem.lemmatize(a, pos='v')]\n",
    "        elif b.startswith('R'):\n",
    "            lemList2 += [lem.lemmatize(a, pos='r')]\n",
    "        else:\n",
    "            lemList2 += [lem.lemmatize(a)]\n",
    "    else:\n",
    "        lemList2 += [a]"
   ]
  },
  {
   "cell_type": "code",
   "execution_count": 52,
   "metadata": {},
   "outputs": [
    {
     "name": "stdout",
     "output_type": "stream",
     "text": [
      "['The', 'child', 'be', 'give', 'a', 'book', '.']\n",
      "['The', 'child', 'be', 'give', 'a', 'book', '.']\n"
     ]
    }
   ],
   "source": [
    "print(lemList)\n",
    "print(lemList2)"
   ]
  },
  {
   "cell_type": "markdown",
   "metadata": {},
   "source": [
    "주의사항\n",
    "\n",
    "for word in tag -> (token, pos) 형식으로 되어 있어야함\n",
    "\n",
    "word [1] -> 'nns' -> n 으로 바꾸기\n",
    "\n",
    "tuple unchangable"
   ]
  },
  {
   "cell_type": "markdown",
   "metadata": {},
   "source": [
    "# WordNet 이용하기"
   ]
  },
  {
   "cell_type": "code",
   "execution_count": 54,
   "metadata": {},
   "outputs": [
    {
     "name": "stdout",
     "output_type": "stream",
     "text": [
      "[Synset('coffee.n.01'), Synset('coffee.n.02'), Synset('coffee_bean.n.01'), Synset('chocolate.n.03')]\n",
      "[Synset('internet.n.01'), Synset('net.n.02'), Synset('net_income.n.01'), Synset('net.n.04'), Synset('net.n.05'), Synset('net.n.06'), Synset('net.v.01'), Synset('net.v.02'), Synset('web.v.01'), Synset('net.v.04'), Synset('net.a.01'), Synset('final.s.02')]\n"
     ]
    }
   ],
   "source": [
    "from nltk.corpus import wordnet as wn\n",
    "print(wn.synsets('coffee'))\n",
    "print(wn.synsets('net'))"
   ]
  },
  {
   "cell_type": "code",
   "execution_count": 55,
   "metadata": {},
   "outputs": [],
   "source": [
    "cat = wn.synset(\"cat.n.01\")"
   ]
  },
  {
   "cell_type": "code",
   "execution_count": null,
   "metadata": {},
   "outputs": [],
   "source": [
    "coffee = wn.synsets(\"coffee\")[0]\n",
    "bus = wn.synsets(\"bus\")[0]\n",
    "ship = wn.synsets(\"ship\")[0]"
   ]
  },
  {
   "cell_type": "code",
   "execution_count": 58,
   "metadata": {},
   "outputs": [
    {
     "name": "stdout",
     "output_type": "stream",
     "text": [
      "Synset('coffee.n.01')\n"
     ]
    }
   ],
   "source": [
    "print(coffee)"
   ]
  },
  {
   "cell_type": "code",
   "execution_count": 59,
   "metadata": {},
   "outputs": [
    {
     "name": "stdout",
     "output_type": "stream",
     "text": [
      "0.2222222222222222\n",
      "0.7\n"
     ]
    }
   ],
   "source": [
    "print(ship.wup_similarity(coffee))\n",
    "print(ship.wup_similarity(bus))"
   ]
  },
  {
   "cell_type": "markdown",
   "metadata": {},
   "source": [
    "## 그 외 SentiWordNet 이용하기\n",
    "    cf. IMDB movie reviews on kaggle 트레이닝 예제\n",
    "    https://nlpforhackers.io/sentiment-analysis-intro/ "
   ]
  },
  {
   "cell_type": "code",
   "execution_count": null,
   "metadata": {},
   "outputs": [],
   "source": []
  }
 ],
 "metadata": {
  "kernelspec": {
   "display_name": "Python 3",
   "language": "python",
   "name": "python3"
  },
  "language_info": {
   "codemirror_mode": {
    "name": "ipython",
    "version": 3
   },
   "file_extension": ".py",
   "mimetype": "text/x-python",
   "name": "python",
   "nbconvert_exporter": "python",
   "pygments_lexer": "ipython3",
   "version": "3.6.5"
  }
 },
 "nbformat": 4,
 "nbformat_minor": 2
}
