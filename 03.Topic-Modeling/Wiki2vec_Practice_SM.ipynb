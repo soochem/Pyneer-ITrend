{
 "cells": [
  {
   "cell_type": "code",
   "execution_count": null,
   "metadata": {
    "colab": {
     "base_uri": "https://localhost:8080/",
     "height": 1402
    },
    "colab_type": "code",
    "executionInfo": {
     "elapsed": 126977,
     "status": "ok",
     "timestamp": 1543745388631,
     "user": {
      "displayName": "Jae Pil Choi",
      "photoUrl": "",
      "userId": "11721422988883293277"
     },
     "user_tz": -540
    },
    "id": "0WPE33BcdOJD",
    "outputId": "3e7b2a76-4a32-4867-bce7-06bbdc43f024"
   },
   "outputs": [],
   "source": [
    "!pip install wikipedia2vec\n",
    "!pip install gensim"
   ]
  },
  {
   "cell_type": "code",
   "execution_count": null,
   "metadata": {
    "colab": {
     "base_uri": "https://localhost:8080/",
     "height": 52
    },
    "colab_type": "code",
    "executionInfo": {
     "elapsed": 2654,
     "status": "ok",
     "timestamp": 1543745576890,
     "user": {
      "displayName": "Jae Pil Choi",
      "photoUrl": "",
      "userId": "11721422988883293277"
     },
     "user_tz": -540
    },
    "id": "fYNmDOL13Qo9",
    "outputId": "f096720e-e19d-4987-eb84-26de5aa732fa"
   },
   "outputs": [],
   "source": [
    "!pip install nltk"
   ]
  },
  {
   "cell_type": "code",
   "execution_count": null,
   "metadata": {
    "colab": {
     "base_uri": "https://localhost:8080/",
     "height": 69
    },
    "colab_type": "code",
    "executionInfo": {
     "elapsed": 502,
     "status": "ok",
     "timestamp": 1543745903516,
     "user": {
      "displayName": "Jae Pil Choi",
      "photoUrl": "",
      "userId": "11721422988883293277"
     },
     "user_tz": -540
    },
    "id": "O1oiodSaBrSr",
    "outputId": "cdf436e5-0638-467e-fd7f-e767b1d53e4a"
   },
   "outputs": [],
   "source": [
    "from wikipedia2vec import Wikipedia2Vec # as wiki2vec\n",
    "import os\n",
    "import pandas as pd\n",
    "import numpy as np\n",
    "import pickle\n",
    "import gensim\n",
    "\n",
    "import nltk\n",
    "from nltk.stem import WordNetLemmatizer\n",
    "nltk.download('wordnet')"
   ]
  },
  {
   "cell_type": "markdown",
   "metadata": {
    "colab_type": "text",
    "id": "3jhaC0b1VU4z"
   },
   "source": [
    "## 다음은 colab과 drive를 연동하는 과정입니다.\n",
    "\n",
    "성공하려면 여러분의 '내 드라이브'에 '18-2 트랜드'가 추가되어 있어야 한다."
   ]
  },
  {
   "cell_type": "code",
   "execution_count": null,
   "metadata": {
    "colab": {
     "base_uri": "https://localhost:8080/",
     "height": 124
    },
    "colab_type": "code",
    "executionInfo": {
     "elapsed": 101991,
     "status": "ok",
     "timestamp": 1543745709890,
     "user": {
      "displayName": "Jae Pil Choi",
      "photoUrl": "",
      "userId": "11721422988883293277"
     },
     "user_tz": -540
    },
    "id": "vfMP4SbkWoq6",
    "outputId": "42602715-5240-4188-e6d8-0cb9df04bbcd"
   },
   "outputs": [],
   "source": [
    "# Load the Drive helper and mount\n",
    "from google.colab import drive\n",
    "\n",
    "# This will prompt for authorization.\n",
    "drive.mount('/content/drive')"
   ]
  },
  {
   "cell_type": "code",
   "execution_count": null,
   "metadata": {
    "colab": {
     "base_uri": "https://localhost:8080/",
     "height": 1574
    },
    "colab_type": "code",
    "executionInfo": {
     "elapsed": 3919,
     "status": "ok",
     "timestamp": 1543745736830,
     "user": {
      "displayName": "Jae Pil Choi",
      "photoUrl": "",
      "userId": "11721422988883293277"
     },
     "user_tz": -540
    },
    "id": "Zdbz5a9GYAvC",
    "outputId": "84dba96f-7a20-4ca0-ab4f-71a9a768f91e"
   },
   "outputs": [],
   "source": [
    "# After executing the cell above, Drive\n",
    "# files will be present in \"/content/drive/My Drive\".\n",
    "!ls \"/content/drive/My Drive\""
   ]
  },
  {
   "cell_type": "code",
   "execution_count": null,
   "metadata": {
    "colab": {
     "base_uri": "https://localhost:8080/",
     "height": 69
    },
    "colab_type": "code",
    "executionInfo": {
     "elapsed": 3730,
     "status": "ok",
     "timestamp": 1543745846677,
     "user": {
      "displayName": "Jae Pil Choi",
      "photoUrl": "",
      "userId": "11721422988883293277"
     },
     "user_tz": -540
    },
    "id": "NlqUOeHjUcl3",
    "outputId": "6bf4f1f8-4bbf-46d6-c7e1-12ba993f6213"
   },
   "outputs": [],
   "source": [
    "!ls -ltr  # find directory"
   ]
  },
  {
   "cell_type": "markdown",
   "metadata": {
    "colab_type": "text",
    "id": "FJpAuOVqVgQP"
   },
   "source": [
    "## 다음은 예제 코드입니다. 정상적으로 작동하면 결과 뜰 것임.\n",
    "\n",
    "\n",
    "### Pretrained data는 두 개로 나눠져 있다.\n",
    "\n",
    "Word : 내용 전체 포함. 소문자로만 되어 있음.\n",
    "\n",
    "Entity : 표제만 포함. 대문자 그대로임."
   ]
  },
  {
   "cell_type": "code",
   "execution_count": null,
   "metadata": {
    "colab": {},
    "colab_type": "code",
    "id": "_7mbUSHvSLgF"
   },
   "outputs": [],
   "source": [
    "# MODEL_FILE = '/content/drive/My Drive/18-2 트랜드/공유자료/enwiki/win10/enwiki_20180420_win10_100d.pkl'\n",
    "MODEL_FILE = '/content/drive/My Drive/성균관대학교/Pyneer/3. 프로젝트 운영/18-2 트랜드/공유자료/enwiki/win10/enwiki_20180420_win10_100d.pkl' # 재필: 제 드라이브에서는 주소가 달라서 임시로 지정합니다. "
   ]
  },
  {
   "cell_type": "code",
   "execution_count": null,
   "metadata": {
    "colab": {
     "base_uri": "https://localhost:8080/",
     "height": 232
    },
    "colab_type": "code",
    "executionInfo": {
     "elapsed": 629,
     "status": "error",
     "timestamp": 1543658333836,
     "user": {
      "displayName": "Jae Pil Choi",
      "photoUrl": "",
      "userId": "11721422988883293277"
     },
     "user_tz": -540
    },
    "id": "IEBhrCls_fdv",
    "outputId": "3f979bda-cd0a-48ab-aa76-b1e32569df9f"
   },
   "outputs": [],
   "source": [
    "# 참고\n",
    "model = Word2Vec.load_word2vec_format(MODEL_FILE, binary=True,norm_only=True)\n",
    "\n",
    "#the model is loaded. It can be used to perform all of the tasks mentioned above.\n",
    "\n",
    "# getting word vectors of a word\n",
    "dog = model['dog']\n",
    "\n",
    "#performing king queen magic\n",
    "print(model.most_similar(positive=['woman', 'king'], negative=['man']))\n",
    "\n",
    "#picking odd one out\n",
    "print(model.doesnt_match(\"breakfast cereal dinner lunch\".split()))\n",
    "\n",
    "#printing similarity index\n",
    "print(model.similarity('woman', 'man'))"
   ]
  },
  {
   "cell_type": "code",
   "execution_count": null,
   "metadata": {
    "colab": {},
    "colab_type": "code",
    "id": "OZFoSvHfBxzS"
   },
   "outputs": [],
   "source": [
    "wiki2vec = Wikipedia2Vec.load(MODEL_FILE)"
   ]
  },
  {
   "cell_type": "code",
   "execution_count": null,
   "metadata": {
    "colab": {},
    "colab_type": "code",
    "id": "1X86CBwfdFfL"
   },
   "outputs": [],
   "source": [
    "wiki2vec.get_word_vector('machine')"
   ]
  },
  {
   "cell_type": "code",
   "execution_count": null,
   "metadata": {
    "colab": {
     "base_uri": "https://localhost:8080/",
     "height": 1777
    },
    "colab_type": "code",
    "executionInfo": {
     "elapsed": 3691,
     "status": "ok",
     "timestamp": 1543421675367,
     "user": {
      "displayName": "Sumin Seo",
      "photoUrl": "https://lh5.googleusercontent.com/-J-ssOdyao5o/AAAAAAAAAAI/AAAAAAAAALs/yvNXFP_w01c/s64/photo.jpg",
      "userId": "16707507274762580913"
     },
     "user_tz": -540
    },
    "id": "h_d4EcQT3rIL",
    "outputId": "22f4363c-bc15-467f-9b25-8b3801ace991"
   },
   "outputs": [],
   "source": [
    "wiki2vec.most_similar(wiki2vec.get_word('machine'))"
   ]
  },
  {
   "cell_type": "code",
   "execution_count": null,
   "metadata": {
    "colab": {
     "base_uri": "https://localhost:8080/",
     "height": 105
    },
    "colab_type": "code",
    "executionInfo": {
     "elapsed": 26591,
     "status": "ok",
     "timestamp": 1543421543010,
     "user": {
      "displayName": "Sumin Seo",
      "photoUrl": "https://lh5.googleusercontent.com/-J-ssOdyao5o/AAAAAAAAAAI/AAAAAAAAALs/yvNXFP_w01c/s64/photo.jpg",
      "userId": "16707507274762580913"
     },
     "user_tz": -540
    },
    "id": "vU92FNTv4CP6",
    "outputId": "7fa42231-f65c-4b92-ea6b-684b1a51b7e1"
   },
   "outputs": [],
   "source": [
    "wiki2vec.most_similar(wiki2vec.get_word('learning'), 5)"
   ]
  },
  {
   "cell_type": "code",
   "execution_count": null,
   "metadata": {
    "colab": {
     "base_uri": "https://localhost:8080/",
     "height": 474
    },
    "colab_type": "code",
    "executionInfo": {
     "elapsed": 911,
     "status": "ok",
     "timestamp": 1543466637327,
     "user": {
      "displayName": "Sumin Seo",
      "photoUrl": "https://lh5.googleusercontent.com/-J-ssOdyao5o/AAAAAAAAAAI/AAAAAAAAALs/yvNXFP_w01c/s64/photo.jpg",
      "userId": "16707507274762580913"
     },
     "user_tz": -540
    },
    "id": "iigS9-Gi8t2G",
    "outputId": "b986e9fc-1b86-47c6-887d-623edabc605d"
   },
   "outputs": [],
   "source": [
    "wiki2vec.get_entity_vector('Scarlett Johansson')"
   ]
  },
  {
   "cell_type": "code",
   "execution_count": null,
   "metadata": {
    "colab": {
     "base_uri": "https://localhost:8080/",
     "height": 105
    },
    "colab_type": "code",
    "executionInfo": {
     "elapsed": 24118,
     "status": "ok",
     "timestamp": 1543376462206,
     "user": {
      "displayName": "Sumin Seo",
      "photoUrl": "https://lh5.googleusercontent.com/-J-ssOdyao5o/AAAAAAAAAAI/AAAAAAAAALs/yvNXFP_w01c/s64/photo.jpg",
      "userId": "16707507274762580913"
     },
     "user_tz": -540
    },
    "id": "8AkoG9Iz8sVn",
    "outputId": "3255fedd-a924-4f74-f777-0c52d3d6bedf"
   },
   "outputs": [],
   "source": [
    "wiki2vec.most_similar(wiki2vec.get_word('yoda'), 5)"
   ]
  },
  {
   "cell_type": "code",
   "execution_count": null,
   "metadata": {
    "colab": {
     "base_uri": "https://localhost:8080/",
     "height": 105
    },
    "colab_type": "code",
    "executionInfo": {
     "elapsed": 3862,
     "status": "ok",
     "timestamp": 1543376491380,
     "user": {
      "displayName": "Sumin Seo",
      "photoUrl": "https://lh5.googleusercontent.com/-J-ssOdyao5o/AAAAAAAAAAI/AAAAAAAAALs/yvNXFP_w01c/s64/photo.jpg",
      "userId": "16707507274762580913"
     },
     "user_tz": -540
    },
    "id": "_DgNY9nf8weg",
    "outputId": "fe096f24-9199-4342-9899-02b5a512104b"
   },
   "outputs": [],
   "source": [
    "wiki2vec.most_similar(wiki2vec.get_entity('Scarlett Johansson'), 5)"
   ]
  },
  {
   "cell_type": "markdown",
   "metadata": {
    "colab_type": "text",
    "id": "808JMlQ2aXPr"
   },
   "source": [
    "우리 거 테스트 해보기"
   ]
  },
  {
   "cell_type": "code",
   "execution_count": null,
   "metadata": {
    "colab": {
     "base_uri": "https://localhost:8080/",
     "height": 386
    },
    "colab_type": "code",
    "executionInfo": {
     "elapsed": 558,
     "status": "ok",
     "timestamp": 1543376630310,
     "user": {
      "displayName": "Sumin Seo",
      "photoUrl": "https://lh5.googleusercontent.com/-J-ssOdyao5o/AAAAAAAAAAI/AAAAAAAAALs/yvNXFP_w01c/s64/photo.jpg",
      "userId": "16707507274762580913"
     },
     "user_tz": -540
    },
    "id": "UiwyMvCiaEQk",
    "outputId": "5befd9b5-3538-4a62-9bc3-688782073a79"
   },
   "outputs": [],
   "source": [
    "wiki2vec.get_word_vector('cloud')"
   ]
  },
  {
   "cell_type": "code",
   "execution_count": null,
   "metadata": {
    "colab": {
     "base_uri": "https://localhost:8080/",
     "height": 357
    },
    "colab_type": "code",
    "executionInfo": {
     "elapsed": 32528,
     "status": "ok",
     "timestamp": 1543408815871,
     "user": {
      "displayName": "곽창근",
      "photoUrl": "",
      "userId": "01073419376679170119"
     },
     "user_tz": -540
    },
    "id": "j3xjaMCJhXR9",
    "outputId": "3538b56c-aa08-4119-fd80-4ee8da471004"
   },
   "outputs": [],
   "source": [
    "wiki2vec.most_similar(wiki2vec.get_word('cloud'), 20)  # 컴퓨팅 관련된 말들이 많이 나옴"
   ]
  },
  {
   "cell_type": "code",
   "execution_count": null,
   "metadata": {
    "colab": {
     "base_uri": "https://localhost:8080/",
     "height": 357
    },
    "colab_type": "code",
    "executionInfo": {
     "elapsed": 3301,
     "status": "ok",
     "timestamp": 1543408835307,
     "user": {
      "displayName": "곽창근",
      "photoUrl": "",
      "userId": "01073419376679170119"
     },
     "user_tz": -540
    },
    "id": "yhjc6X0rao-C",
    "outputId": "096c01e1-69b7-4850-fe65-a8d0b375b477"
   },
   "outputs": [],
   "source": [
    "wiki2vec.most_similar(wiki2vec.get_entity('Deep learning'), 20)"
   ]
  },
  {
   "cell_type": "code",
   "execution_count": null,
   "metadata": {
    "colab": {
     "base_uri": "https://localhost:8080/",
     "height": 385
    },
    "colab_type": "code",
    "executionInfo": {
     "elapsed": 1018,
     "status": "error",
     "timestamp": 1543408847259,
     "user": {
      "displayName": "곽창근",
      "photoUrl": "",
      "userId": "01073419376679170119"
     },
     "user_tz": -540
    },
    "id": "N3hN6Tenarci",
    "outputId": "b3a8a2ff-823c-4d40-c568-9c6bbbed4e4d"
   },
   "outputs": [],
   "source": [
    "wiki2vec.most_similar(wiki2vec.get_entity('deep learning'), 1)  # 대/소문자 구분이 되어있다 ㅡㅡ"
   ]
  },
  {
   "cell_type": "code",
   "execution_count": null,
   "metadata": {
    "colab": {
     "base_uri": "https://localhost:8080/",
     "height": 34
    },
    "colab_type": "code",
    "executionInfo": {
     "elapsed": 515,
     "status": "ok",
     "timestamp": 1543377789541,
     "user": {
      "displayName": "Sumin Seo",
      "photoUrl": "https://lh5.googleusercontent.com/-J-ssOdyao5o/AAAAAAAAAAI/AAAAAAAAALs/yvNXFP_w01c/s64/photo.jpg",
      "userId": "16707507274762580913"
     },
     "user_tz": -540
    },
    "id": "Q5YKR_wObgNg",
    "outputId": "44286e45-b51a-4386-ee0f-f061b49ea2cc"
   },
   "outputs": [],
   "source": [
    "wiki2vec.get_entity('Deep learning')  # 엔티티는 표제인듯, 소문자화하지 않음"
   ]
  },
  {
   "cell_type": "code",
   "execution_count": null,
   "metadata": {
    "colab": {
     "base_uri": "https://localhost:8080/",
     "height": 34
    },
    "colab_type": "code",
    "executionInfo": {
     "elapsed": 483,
     "status": "ok",
     "timestamp": 1543377804559,
     "user": {
      "displayName": "Sumin Seo",
      "photoUrl": "https://lh5.googleusercontent.com/-J-ssOdyao5o/AAAAAAAAAAI/AAAAAAAAALs/yvNXFP_w01c/s64/photo.jpg",
      "userId": "16707507274762580913"
     },
     "user_tz": -540
    },
    "id": "yOIH8JR7dZO2",
    "outputId": "8ee4b93a-8d56-40fb-f971-670138bd9180"
   },
   "outputs": [],
   "source": [
    "wiki2vec.get_entity('Paging delay')"
   ]
  },
  {
   "cell_type": "code",
   "execution_count": null,
   "metadata": {
    "colab": {
     "base_uri": "https://localhost:8080/",
     "height": 374
    },
    "colab_type": "code",
    "executionInfo": {
     "elapsed": 1691,
     "status": "ok",
     "timestamp": 1543408902658,
     "user": {
      "displayName": "곽창근",
      "photoUrl": "",
      "userId": "01073419376679170119"
     },
     "user_tz": -540
    },
    "id": "w0h_JwonfFrA",
    "outputId": "cbc67887-226b-493c-97a6-e4bcf94a8fa8"
   },
   "outputs": [],
   "source": [
    "wiki2vec.get_word_vector('cloud')  # 모든 워드 벡터는 lowercase=True로 trained, bigram 처리 안되었다"
   ]
  },
  {
   "cell_type": "code",
   "execution_count": null,
   "metadata": {
    "colab": {
     "base_uri": "https://localhost:8080/",
     "height": 239
    },
    "colab_type": "code",
    "executionInfo": {
     "elapsed": 507,
     "status": "error",
     "timestamp": 1543378183399,
     "user": {
      "displayName": "Sumin Seo",
      "photoUrl": "https://lh5.googleusercontent.com/-J-ssOdyao5o/AAAAAAAAAAI/AAAAAAAAALs/yvNXFP_w01c/s64/photo.jpg",
      "userId": "16707507274762580913"
     },
     "user_tz": -540
    },
    "id": "zATa3CvXgXKe",
    "outputId": "5518cf75-b57c-4e9d-8ad9-350fd0df0061"
   },
   "outputs": [],
   "source": [
    "wiki2vec.get_word_vector('Cloud')"
   ]
  },
  {
   "cell_type": "code",
   "execution_count": null,
   "metadata": {
    "colab": {
     "base_uri": "https://localhost:8080/",
     "height": 239
    },
    "colab_type": "code",
    "executionInfo": {
     "elapsed": 475,
     "status": "error",
     "timestamp": 1543378256324,
     "user": {
      "displayName": "Sumin Seo",
      "photoUrl": "https://lh5.googleusercontent.com/-J-ssOdyao5o/AAAAAAAAAAI/AAAAAAAAALs/yvNXFP_w01c/s64/photo.jpg",
      "userId": "16707507274762580913"
     },
     "user_tz": -540
    },
    "id": "S8iWw6zygac3",
    "outputId": "773732b0-061c-457d-dd93-00554c2f8aab"
   },
   "outputs": [],
   "source": [
    "wiki2vec.get_word_vector('cloud_computing')"
   ]
  },
  {
   "cell_type": "markdown",
   "metadata": {
    "colab_type": "text",
    "id": "nht7ymwkjj0W"
   },
   "source": [
    "## Binary file 열기 도전! 은 실패!"
   ]
  },
  {
   "cell_type": "code",
   "execution_count": null,
   "metadata": {
    "colab": {
     "base_uri": "https://localhost:8080/",
     "height": 193
    },
    "colab_type": "code",
    "executionInfo": {
     "elapsed": 555,
     "status": "ok",
     "timestamp": 1543379856200,
     "user": {
      "displayName": "Sumin Seo",
      "photoUrl": "https://lh5.googleusercontent.com/-J-ssOdyao5o/AAAAAAAAAAI/AAAAAAAAALs/yvNXFP_w01c/s64/photo.jpg",
      "userId": "16707507274762580913"
     },
     "user_tz": -540
    },
    "id": "j4tWzANcl0eJ",
    "outputId": "3480a241-a42b-4f8d-d215-dfeaf9f6e124"
   },
   "outputs": [],
   "source": [
    "fname = MODEL_FILE  # 앞서 사용한 bin 파일 지금은 pickle(pkl)로 되어있다\n",
    "\n",
    "# 파일 내용을 일 바이트씩 읽어서 화면에 16진수로 출력하기\n",
    "try:\n",
    "  f = open(fname, 'rb')  # 파일 열기\n",
    "  \n",
    "  i=0\n",
    "  while i < 10:  # 10개만 찍어보자, 다 찍으려면 True 넣어라\n",
    "    s = f.read(1)\n",
    "    if s == '': break\n",
    "    print ('%02X' % int(ord(s)))  # 1바이트씩 출력\n",
    "    i+=1\n",
    "  \n",
    "  \n",
    "  f.close()  # 파일 닫기\n",
    "\n",
    "except IOError:\n",
    "  print ('파일을 열 수 없습니다.')"
   ]
  },
  {
   "cell_type": "code",
   "execution_count": null,
   "metadata": {
    "colab": {
     "base_uri": "https://localhost:8080/",
     "height": 186
    },
    "colab_type": "code",
    "executionInfo": {
     "elapsed": 756,
     "status": "error",
     "timestamp": 1543380237982,
     "user": {
      "displayName": "Sumin Seo",
      "photoUrl": "https://lh5.googleusercontent.com/-J-ssOdyao5o/AAAAAAAAAAI/AAAAAAAAALs/yvNXFP_w01c/s64/photo.jpg",
      "userId": "16707507274762580913"
     },
     "user_tz": -540
    },
    "id": "8VGAR6GXkjcy",
    "outputId": "d7fae505-f4c0-428c-f067-394374e0bd77"
   },
   "outputs": [],
   "source": [
    "with open(fname, 'rb') as file:\n",
    "  data = pickle.load(file)"
   ]
  },
  {
   "cell_type": "code",
   "execution_count": null,
   "metadata": {
    "colab": {
     "base_uri": "https://localhost:8080/",
     "height": 574
    },
    "colab_type": "code",
    "executionInfo": {
     "elapsed": 613,
     "status": "error",
     "timestamp": 1543380264812,
     "user": {
      "displayName": "Sumin Seo",
      "photoUrl": "https://lh5.googleusercontent.com/-J-ssOdyao5o/AAAAAAAAAAI/AAAAAAAAALs/yvNXFP_w01c/s64/photo.jpg",
      "userId": "16707507274762580913"
     },
     "user_tz": -540
    },
    "id": "EdY15xySl-p9",
    "outputId": "d2ab4184-19bd-4f58-8814-b80859cd7a18"
   },
   "outputs": [],
   "source": [
    "import gensim.models.keyedvectors as word2vec\n",
    "model = word2vec.KeyedVectors.load_word2vec_format(fname, binary=True)"
   ]
  },
  {
   "cell_type": "code",
   "execution_count": null,
   "metadata": {
    "colab": {},
    "colab_type": "code",
    "id": "zMMZmCw4l84w"
   },
   "outputs": [],
   "source": [
    "f.close()"
   ]
  },
  {
   "cell_type": "markdown",
   "metadata": {
    "colab_type": "text",
    "id": "cT2megTsWQoX"
   },
   "source": [
    "# 핑클\n",
    "\n",
    "## 키워드와 wiki 매칭해보기"
   ]
  },
  {
   "cell_type": "code",
   "execution_count": null,
   "metadata": {
    "colab": {},
    "colab_type": "code",
    "id": "iEjEmMgxWR6m"
   },
   "outputs": [],
   "source": [
    "fname = '/content/drive/My Drive/18-2 트랜드/공유자료/파일/all_articles_df.p'\n",
    "fname = '/content/drive/My Drive/성균관대학교/Pyneer/3. 프로젝트 운영/18-2 트랜드/공유자료/파일/all_articles_df.p'"
   ]
  },
  {
   "cell_type": "code",
   "execution_count": null,
   "metadata": {
    "colab": {
     "base_uri": "https://localhost:8080/",
     "height": 289
    },
    "colab_type": "code",
    "executionInfo": {
     "elapsed": 1448,
     "status": "ok",
     "timestamp": 1543745980748,
     "user": {
      "displayName": "Jae Pil Choi",
      "photoUrl": "",
      "userId": "11721422988883293277"
     },
     "user_tz": -540
    },
    "id": "r1xnpQcvWc28",
    "outputId": "c5786e02-2fc4-455b-b398-0b8310743311"
   },
   "outputs": [],
   "source": [
    "all_articles_df = pd.read_pickle(fname)\n",
    "all_articles_df.head()"
   ]
  },
  {
   "cell_type": "markdown",
   "metadata": {
    "colab_type": "text",
    "id": "qPRsRl0oZzf0"
   },
   "source": [
    "DF 전처리?\n",
    "IEEE_scraping_collab by 최재필 참고"
   ]
  },
  {
   "cell_type": "code",
   "execution_count": null,
   "metadata": {
    "colab": {
     "base_uri": "https://localhost:8080/",
     "height": 1157
    },
    "colab_type": "code",
    "executionInfo": {
     "elapsed": 477,
     "status": "ok",
     "timestamp": 1543745989202,
     "user": {
      "displayName": "Jae Pil Choi",
      "photoUrl": "",
      "userId": "11721422988883293277"
     },
     "user_tz": -540
    },
    "id": "m56K64RYW4z3",
    "outputId": "670daa8d-cb41-486e-c575-a57f898143d1"
   },
   "outputs": [],
   "source": [
    "all_articles_df['pubDate'].str.extract(r'(\\d+-\\d+-\\d+)')"
   ]
  },
  {
   "cell_type": "code",
   "execution_count": null,
   "metadata": {
    "colab": {},
    "colab_type": "code",
    "id": "7yrrCgVkaQpR"
   },
   "outputs": [],
   "source": [
    "all_articles_df['pubDate'] = pd.to_datetime(all_articles_df['pubDate'], format='%Y-%m-%d', errors='coerce')\n",
    "all_articles_df = all_articles_df[~ all_articles_df['pubDate'].isnull()]\n",
    "all_articles_from1990 = all_articles_df[all_articles_df.pubDate >= pd.to_datetime(\"1990-01-01\")]"
   ]
  },
  {
   "cell_type": "code",
   "execution_count": null,
   "metadata": {
    "colab": {},
    "colab_type": "code",
    "id": "m5IofOiNY5ct"
   },
   "outputs": [],
   "source": [
    "quarterly_keywords = all_articles_from1990[['pubDate', 'keywords']].groupby(pd.Grouper(key='pubDate', freq=\"Q\")).agg(sum) # quarterly. http://pandas.pydata.org/pandas-docs/stable/timeseries.html#offset-aliases \n",
    "quarterly_keywords = quarterly_keywords[quarterly_keywords['keywords'] != False]\n",
    "quarterly_keywords = quarterly_keywords[quarterly_keywords.keywords.str.len() != 0]\n"
   ]
  },
  {
   "cell_type": "code",
   "execution_count": null,
   "metadata": {
    "colab": {},
    "colab_type": "code",
    "id": "KUUDQrKQY7VC"
   },
   "outputs": [],
   "source": [
    "def remove_none_in_list(li):\n",
    "    li = [x for x in li if x != '']\n",
    "    return li"
   ]
  },
  {
   "cell_type": "code",
   "execution_count": null,
   "metadata": {
    "colab": {},
    "colab_type": "code",
    "id": "ZIc3GrBnZnA1"
   },
   "outputs": [],
   "source": [
    "quarterly_keywords.keywords = quarterly_keywords.keywords.apply(remove_none_in_list)"
   ]
  },
  {
   "cell_type": "code",
   "execution_count": null,
   "metadata": {
    "colab": {
     "base_uri": "https://localhost:8080/",
     "height": 235
    },
    "colab_type": "code",
    "executionInfo": {
     "elapsed": 474,
     "status": "ok",
     "timestamp": 1543746001507,
     "user": {
      "displayName": "Jae Pil Choi",
      "photoUrl": "",
      "userId": "11721422988883293277"
     },
     "user_tz": -540
    },
    "id": "V3nR96FbbLID",
    "outputId": "44219f76-70bf-46be-a6ea-9fde42b60b82"
   },
   "outputs": [],
   "source": [
    "quarterly_keywords.head()"
   ]
  },
  {
   "cell_type": "code",
   "execution_count": null,
   "metadata": {
    "colab": {},
    "colab_type": "code",
    "id": "swnjyEZhY5oB"
   },
   "outputs": [],
   "source": [
    "#quarterly_keywords.sort_values(by='pubDate') ##?"
   ]
  },
  {
   "cell_type": "code",
   "execution_count": null,
   "metadata": {
    "colab": {},
    "colab_type": "code",
    "id": "Kg-fXMARrnV7"
   },
   "outputs": [],
   "source": [
    "def keywords_frequency(li):\n",
    "#     c=0\n",
    "    freq = {}\n",
    "    \n",
    "    for i in li:\n",
    "        if i in freq.keys():\n",
    "            freq[i] += 1\n",
    "        else:\n",
    "            freq[i] = 1\n",
    "    \n",
    "    for k, v in freq.items():\n",
    "      if v > 10:  ## min count를 넣어보았다\n",
    "        pass\n",
    "      else:\n",
    "        freq[k] = -1\n",
    "        continue\n",
    "      \n",
    "    freq2 = {}\n",
    "\n",
    "    for k, v in freq.items():\n",
    "      if v != -1:\n",
    "        freq2[k] = v\n",
    "\n",
    "#     print(c) # 이것은 min count도 안나온 키워드들\n",
    "    \n",
    "    return freq2"
   ]
  },
  {
   "cell_type": "code",
   "execution_count": null,
   "metadata": {
    "colab": {},
    "colab_type": "code",
    "id": "XaULZYcjw29s"
   },
   "outputs": [],
   "source": [
    "all_freq = keywords_frequency(a)"
   ]
  },
  {
   "cell_type": "code",
   "execution_count": null,
   "metadata": {
    "colab": {
     "base_uri": "https://localhost:8080/",
     "height": 34
    },
    "colab_type": "code",
    "executionInfo": {
     "elapsed": 454,
     "status": "ok",
     "timestamp": 1543751625688,
     "user": {
      "displayName": "Jae Pil Choi",
      "photoUrl": "",
      "userId": "11721422988883293277"
     },
     "user_tz": -540
    },
    "id": "XVFfn9Ppw52D",
    "outputId": "739304fb-741a-4b1c-908d-0df730b7c46e"
   },
   "outputs": [],
   "source": [
    "len(all_freq.keys())"
   ]
  },
  {
   "cell_type": "code",
   "execution_count": null,
   "metadata": {
    "colab": {
     "base_uri": "https://localhost:8080/",
     "height": 235
    },
    "colab_type": "code",
    "executionInfo": {
     "elapsed": 493,
     "status": "ok",
     "timestamp": 1543749618103,
     "user": {
      "displayName": "Jae Pil Choi",
      "photoUrl": "",
      "userId": "11721422988883293277"
     },
     "user_tz": -540
    },
    "id": "3eb2J9Mxpakb",
    "outputId": "784dea34-e908-4bc7-9862-d2d9661e442b"
   },
   "outputs": [],
   "source": [
    "quarterly_keywords.head()"
   ]
  },
  {
   "cell_type": "code",
   "execution_count": null,
   "metadata": {
    "colab": {},
    "colab_type": "code",
    "id": "x1F98N0oZFy_"
   },
   "outputs": [],
   "source": [
    "quarterly_keywords['frequency'] = quarterly_keywords.keywords.apply(keywords_frequency)"
   ]
  },
  {
   "cell_type": "code",
   "execution_count": null,
   "metadata": {
    "colab": {
     "base_uri": "https://localhost:8080/",
     "height": 235
    },
    "colab_type": "code",
    "executionInfo": {
     "elapsed": 473,
     "status": "ok",
     "timestamp": 1543749927234,
     "user": {
      "displayName": "Jae Pil Choi",
      "photoUrl": "",
      "userId": "11721422988883293277"
     },
     "user_tz": -540
    },
    "id": "kzgOr3FA8V11",
    "outputId": "f51f3c46-62aa-47ea-cb3f-c5c322349bb2"
   },
   "outputs": [],
   "source": [
    "quarterly_keywords.head()"
   ]
  },
  {
   "cell_type": "code",
   "execution_count": null,
   "metadata": {
    "colab": {
     "base_uri": "https://localhost:8080/",
     "height": 34
    },
    "colab_type": "code",
    "executionInfo": {
     "elapsed": 500,
     "status": "ok",
     "timestamp": 1543749959512,
     "user": {
      "displayName": "Jae Pil Choi",
      "photoUrl": "",
      "userId": "11721422988883293277"
     },
     "user_tz": -540
    },
    "id": "v0skPruNZT7s",
    "outputId": "0733507c-0f2b-4e3e-a9d9-dc02c536e058"
   },
   "outputs": [],
   "source": [
    "quarterly_keywords.loc['1995-03-31'].frequency"
   ]
  },
  {
   "cell_type": "code",
   "execution_count": null,
   "metadata": {
    "colab": {},
    "colab_type": "code",
    "id": "9XHZMqEnZVdW"
   },
   "outputs": [],
   "source": [
    "d = quarterly_keywords.loc['2017-09-30'].relativeFrequency"
   ]
  },
  {
   "cell_type": "code",
   "execution_count": null,
   "metadata": {
    "colab": {},
    "colab_type": "code",
    "id": "S69Sct8968C4"
   },
   "outputs": [],
   "source": [
    "a = quarterly_keywords.keywords.sum()"
   ]
  },
  {
   "cell_type": "code",
   "execution_count": null,
   "metadata": {
    "colab": {
     "base_uri": "https://localhost:8080/",
     "height": 34
    },
    "colab_type": "code",
    "executionInfo": {
     "elapsed": 537,
     "status": "ok",
     "timestamp": 1543751489249,
     "user": {
      "displayName": "Jae Pil Choi",
      "photoUrl": "",
      "userId": "11721422988883293277"
     },
     "user_tz": -540
    },
    "id": "SpaAXrbZ-oo4",
    "outputId": "cd08a556-f515-4d32-c965-ed659afeb414"
   },
   "outputs": [],
   "source": [
    "len(a)"
   ]
  },
  {
   "cell_type": "code",
   "execution_count": null,
   "metadata": {
    "colab": {
     "base_uri": "https://localhost:8080/",
     "height": 164
    },
    "colab_type": "code",
    "executionInfo": {
     "elapsed": 767,
     "status": "error",
     "timestamp": 1543721788006,
     "user": {
      "displayName": "Jae Pil Choi",
      "photoUrl": "",
      "userId": "11721422988883293277"
     },
     "user_tz": -540
    },
    "id": "p5pU6XsPZeb5",
    "outputId": "4132acc1-5bbd-4154-bb29-35e632dd7daa"
   },
   "outputs": [],
   "source": [
    "sort_d = sorted(d.items(), key=lambda x: x[1])"
   ]
  },
  {
   "cell_type": "code",
   "execution_count": null,
   "metadata": {
    "colab": {
     "base_uri": "https://localhost:8080/",
     "height": 164
    },
    "colab_type": "code",
    "executionInfo": {
     "elapsed": 454,
     "status": "error",
     "timestamp": 1543721788007,
     "user": {
      "displayName": "Jae Pil Choi",
      "photoUrl": "",
      "userId": "11721422988883293277"
     },
     "user_tz": -540
    },
    "id": "9IfDUV7-AnlB",
    "outputId": "1851d501-31bf-4570-ca7f-2b3b85ff179a"
   },
   "outputs": [],
   "source": [
    "sum(d.values()) / len(d.values())"
   ]
  },
  {
   "cell_type": "code",
   "execution_count": null,
   "metadata": {
    "colab": {
     "base_uri": "https://localhost:8080/",
     "height": 164
    },
    "colab_type": "code",
    "executionInfo": {
     "elapsed": 684,
     "status": "error",
     "timestamp": 1543721789014,
     "user": {
      "displayName": "Jae Pil Choi",
      "photoUrl": "",
      "userId": "11721422988883293277"
     },
     "user_tz": -540
    },
    "id": "kGyE3iQBCnnO",
    "outputId": "a1bc2d7d-8dca-483a-e909-81bf96c4aae1"
   },
   "outputs": [],
   "source": [
    "min(d.values())"
   ]
  },
  {
   "cell_type": "code",
   "execution_count": null,
   "metadata": {
    "colab": {
     "base_uri": "https://localhost:8080/",
     "height": 34
    },
    "colab_type": "code",
    "executionInfo": {
     "elapsed": 947,
     "status": "ok",
     "timestamp": 1543487838945,
     "user": {
      "displayName": "Sumin Seo",
      "photoUrl": "https://lh5.googleusercontent.com/-J-ssOdyao5o/AAAAAAAAAAI/AAAAAAAAALs/yvNXFP_w01c/s64/photo.jpg",
      "userId": "16707507274762580913"
     },
     "user_tz": -540
    },
    "id": "ukcY8wBtCpYE",
    "outputId": "ff0597a6-cde6-4250-b72c-e2d75f8c123b"
   },
   "outputs": [],
   "source": [
    "max(d.values())"
   ]
  },
  {
   "cell_type": "code",
   "execution_count": null,
   "metadata": {
    "colab": {
     "base_uri": "https://localhost:8080/",
     "height": 193
    },
    "colab_type": "code",
    "executionInfo": {
     "elapsed": 794,
     "status": "ok",
     "timestamp": 1543487838946,
     "user": {
      "displayName": "Sumin Seo",
      "photoUrl": "https://lh5.googleusercontent.com/-J-ssOdyao5o/AAAAAAAAAAI/AAAAAAAAALs/yvNXFP_w01c/s64/photo.jpg",
      "userId": "16707507274762580913"
     },
     "user_tz": -540
    },
    "id": "clvI6CAoCepF",
    "outputId": "3549c4bc-0972-4f88-b614-70a0528a49e5"
   },
   "outputs": [],
   "source": [
    "sort_d[:10]"
   ]
  },
  {
   "cell_type": "code",
   "execution_count": null,
   "metadata": {
    "colab": {
     "base_uri": "https://localhost:8080/",
     "height": 54,
     "output_embedded_package_id": "1NDXndHJVga95Sqda9jqpy0ZWtx5ld99i"
    },
    "colab_type": "code",
    "executionInfo": {
     "elapsed": 1429,
     "status": "ok",
     "timestamp": 1543660689893,
     "user": {
      "displayName": "Jae Pil Choi",
      "photoUrl": "",
      "userId": "11721422988883293277"
     },
     "user_tz": -540
    },
    "id": "GO-WmFBIBivP",
    "outputId": "a2ef8b19-1708-4841-d089-9b51ae779bbe"
   },
   "outputs": [],
   "source": [
    "print(a)"
   ]
  }
 ],
 "metadata": {
  "accelerator": "GPU",
  "colab": {
   "collapsed_sections": [
    "nht7ymwkjj0W"
   ],
   "name": "Wiki2vec practice.ipynb",
   "provenance": [],
   "version": "0.3.2"
  },
  "kernelspec": {
   "display_name": "Python 3",
   "language": "python",
   "name": "python3"
  },
  "language_info": {
   "codemirror_mode": {
    "name": "ipython",
    "version": 3
   },
   "file_extension": ".py",
   "mimetype": "text/x-python",
   "name": "python",
   "nbconvert_exporter": "python",
   "pygments_lexer": "ipython3",
   "version": "3.6.5"
  }
 },
 "nbformat": 4,
 "nbformat_minor": 1
}
